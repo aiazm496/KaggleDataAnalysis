{
 "cells": [
  {
   "cell_type": "code",
   "execution_count": 1,
   "id": "a63e02cf",
   "metadata": {
    "_cell_guid": "715150a5-4bc5-4c88-a121-9650d0ba169e",
    "_uuid": "48dd6f36-29a7-4059-9562-5500d1efc41f",
    "collapsed": false,
    "execution": {
     "iopub.execute_input": "2021-09-10T12:33:45.738049Z",
     "iopub.status.busy": "2021-09-10T12:33:45.737364Z",
     "iopub.status.idle": "2021-09-10T12:33:45.751122Z",
     "shell.execute_reply": "2021-09-10T12:33:45.749846Z",
     "shell.execute_reply.started": "2021-09-06T13:02:49.806869Z"
    },
    "jupyter": {
     "outputs_hidden": false
    },
    "papermill": {
     "duration": 0.057189,
     "end_time": "2021-09-10T12:33:45.751408",
     "exception": false,
     "start_time": "2021-09-10T12:33:45.694219",
     "status": "completed"
    },
    "tags": []
   },
   "outputs": [
    {
     "name": "stdout",
     "output_type": "stream",
     "text": [
      "/kaggle/input/worker-strikes-and-protests-in-china/strike_data.csv\n"
     ]
    }
   ],
   "source": [
    "# This Python 3 environment comes with many helpful analytics libraries installed\n",
    "# It is defined by the kaggle/python Docker image: https://github.com/kaggle/docker-python\n",
    "# For example, here's several helpful packages to load\n",
    "\n",
    "import numpy as np # linear algebra\n",
    "import pandas as pd # data processing, CSV file I/O (e.g. pd.read_csv)\n",
    "\n",
    "# Input data files are available in the read-only \"../input/\" directory\n",
    "# For example, running this (by clicking run or pressing Shift+Enter) will list all files under the input directory\n",
    "\n",
    "import os\n",
    "for dirname, _, filenames in os.walk('/kaggle/input'):\n",
    "    for filename in filenames:\n",
    "        print(os.path.join(dirname, filename))\n",
    "\n",
    "# You can write up to 20GB to the current directory (/kaggle/working/) that gets preserved as output when you create a version using \"Save & Run All\" \n",
    "# You can also write temporary files to /kaggle/temp/, but they won't be saved outside of the current session"
   ]
  },
  {
   "cell_type": "code",
   "execution_count": 2,
   "id": "b7611807",
   "metadata": {
    "_cell_guid": "4cdae454-921b-4c8f-88c0-1c70ff899556",
    "_uuid": "2f8c0fc8-6e7f-46dc-a6e5-0b0e77d1dce6",
    "collapsed": false,
    "execution": {
     "iopub.execute_input": "2021-09-10T12:33:45.840326Z",
     "iopub.status.busy": "2021-09-10T12:33:45.839412Z",
     "iopub.status.idle": "2021-09-10T12:33:45.841593Z",
     "shell.execute_reply": "2021-09-10T12:33:45.842101Z",
     "shell.execute_reply.started": "2021-09-06T13:02:49.81946Z"
    },
    "jupyter": {
     "outputs_hidden": false
    },
    "papermill": {
     "duration": 0.048135,
     "end_time": "2021-09-10T12:33:45.842305",
     "exception": false,
     "start_time": "2021-09-10T12:33:45.794170",
     "status": "completed"
    },
    "tags": []
   },
   "outputs": [],
   "source": [
    "strike_data = '../input/worker-strikes-and-protests-in-china/strike_data.csv'"
   ]
  },
  {
   "cell_type": "code",
   "execution_count": 3,
   "id": "ace9a415",
   "metadata": {
    "_cell_guid": "2e1e4af1-7738-459e-aef8-04bf5633abf0",
    "_uuid": "b2141b63-143f-4a29-a4d8-6120890ee66e",
    "collapsed": false,
    "execution": {
     "iopub.execute_input": "2021-09-10T12:33:45.907243Z",
     "iopub.status.busy": "2021-09-10T12:33:45.906307Z",
     "iopub.status.idle": "2021-09-10T12:33:46.045667Z",
     "shell.execute_reply": "2021-09-10T12:33:46.045121Z",
     "shell.execute_reply.started": "2021-09-06T13:02:49.831431Z"
    },
    "jupyter": {
     "outputs_hidden": false
    },
    "papermill": {
     "duration": 0.172761,
     "end_time": "2021-09-10T12:33:46.045812",
     "exception": false,
     "start_time": "2021-09-10T12:33:45.873051",
     "status": "completed"
    },
    "tags": []
   },
   "outputs": [
    {
     "data": {
      "text/html": [
       "<div>\n",
       "<style scoped>\n",
       "    .dataframe tbody tr th:only-of-type {\n",
       "        vertical-align: middle;\n",
       "    }\n",
       "\n",
       "    .dataframe tbody tr th {\n",
       "        vertical-align: top;\n",
       "    }\n",
       "\n",
       "    .dataframe thead th {\n",
       "        text-align: right;\n",
       "    }\n",
       "</style>\n",
       "<table border=\"1\" class=\"dataframe\">\n",
       "  <thead>\n",
       "    <tr style=\"text-align: right;\">\n",
       "      <th></th>\n",
       "      <th>Date</th>\n",
       "      <th>Description</th>\n",
       "      <th>Province</th>\n",
       "      <th>City</th>\n",
       "      <th>Industry</th>\n",
       "      <th>Sub Industry</th>\n",
       "      <th>Company Name</th>\n",
       "      <th>Company Ownership</th>\n",
       "      <th>Action Type</th>\n",
       "      <th>Number Of Participants</th>\n",
       "      <th>Employees Demands</th>\n",
       "      <th>Response to Collective Actions</th>\n",
       "    </tr>\n",
       "  </thead>\n",
       "  <tbody>\n",
       "    <tr>\n",
       "      <th>0</th>\n",
       "      <td>2021-08-30</td>\n",
       "      <td>Workers protest against wage arrears in Xian, ...</td>\n",
       "      <td>陕西省</td>\n",
       "      <td>西安市</td>\n",
       "      <td>Construction</td>\n",
       "      <td>Commercial Property</td>\n",
       "      <td>NaN</td>\n",
       "      <td>Private Enterprise</td>\n",
       "      <td>Protest</td>\n",
       "      <td>1-100</td>\n",
       "      <td>Wage Arrears</td>\n",
       "      <td>Negotiations with Management</td>\n",
       "    </tr>\n",
       "    <tr>\n",
       "      <th>1</th>\n",
       "      <td>2021-08-29</td>\n",
       "      <td>Workers protest against wage arrears of a cons...</td>\n",
       "      <td>黑龙江省</td>\n",
       "      <td>绥化市</td>\n",
       "      <td>Construction</td>\n",
       "      <td>NaN</td>\n",
       "      <td>NaN</td>\n",
       "      <td>Private Enterprise</td>\n",
       "      <td>Protest</td>\n",
       "      <td>1-100</td>\n",
       "      <td>Wage Arrears</td>\n",
       "      <td>Government Intervention/Negotiations with Mana...</td>\n",
       "    </tr>\n",
       "    <tr>\n",
       "      <th>2</th>\n",
       "      <td>2021-08-28</td>\n",
       "      <td>Taxi drivers protest against shared electric b...</td>\n",
       "      <td>山西省</td>\n",
       "      <td>临汾市</td>\n",
       "      <td>Transport&amp;Logistics</td>\n",
       "      <td>Taxi</td>\n",
       "      <td>NaN</td>\n",
       "      <td>Private Enterprise</td>\n",
       "      <td>Strike/Protest</td>\n",
       "      <td>101-1000</td>\n",
       "      <td>Management Supervision/Other</td>\n",
       "      <td>NaN</td>\n",
       "    </tr>\n",
       "    <tr>\n",
       "      <th>3</th>\n",
       "      <td>2021-08-28</td>\n",
       "      <td>Workers protest against wage arrears of a cons...</td>\n",
       "      <td>陕西省</td>\n",
       "      <td>渭南市</td>\n",
       "      <td>Construction</td>\n",
       "      <td>Commercial Property</td>\n",
       "      <td>NaN</td>\n",
       "      <td>Private Enterprise</td>\n",
       "      <td>Protest</td>\n",
       "      <td>1-100</td>\n",
       "      <td>Wage Arrears</td>\n",
       "      <td>Government Intervention</td>\n",
       "    </tr>\n",
       "    <tr>\n",
       "      <th>4</th>\n",
       "      <td>2021-08-27</td>\n",
       "      <td>Workers protest against wage arrears of a cons...</td>\n",
       "      <td>广东省</td>\n",
       "      <td>湛江市</td>\n",
       "      <td>Construction</td>\n",
       "      <td>Residential Property</td>\n",
       "      <td>NaN</td>\n",
       "      <td>SOE</td>\n",
       "      <td>Protest</td>\n",
       "      <td>1-100</td>\n",
       "      <td>Wage Arrears</td>\n",
       "      <td>NaN</td>\n",
       "    </tr>\n",
       "  </tbody>\n",
       "</table>\n",
       "</div>"
      ],
      "text/plain": [
       "         Date                                        Description Province  \\\n",
       "0  2021-08-30  Workers protest against wage arrears in Xian, ...      陕西省   \n",
       "1  2021-08-29  Workers protest against wage arrears of a cons...     黑龙江省   \n",
       "2  2021-08-28  Taxi drivers protest against shared electric b...      山西省   \n",
       "3  2021-08-28  Workers protest against wage arrears of a cons...      陕西省   \n",
       "4  2021-08-27  Workers protest against wage arrears of a cons...      广东省   \n",
       "\n",
       "  City             Industry          Sub Industry  Company Name  \\\n",
       "0  西安市         Construction   Commercial Property           NaN   \n",
       "1  绥化市         Construction                   NaN           NaN   \n",
       "2  临汾市  Transport&Logistics                  Taxi           NaN   \n",
       "3  渭南市         Construction   Commercial Property           NaN   \n",
       "4  湛江市         Construction  Residential Property           NaN   \n",
       "\n",
       "    Company Ownership     Action Type Number Of Participants  \\\n",
       "0  Private Enterprise         Protest                  1-100   \n",
       "1  Private Enterprise         Protest                  1-100   \n",
       "2  Private Enterprise  Strike/Protest               101-1000   \n",
       "3  Private Enterprise         Protest                  1-100   \n",
       "4                 SOE         Protest                  1-100   \n",
       "\n",
       "              Employees Demands  \\\n",
       "0                  Wage Arrears   \n",
       "1                  Wage Arrears   \n",
       "2  Management Supervision/Other   \n",
       "3                  Wage Arrears   \n",
       "4                  Wage Arrears   \n",
       "\n",
       "                      Response to Collective Actions  \n",
       "0                       Negotiations with Management  \n",
       "1  Government Intervention/Negotiations with Mana...  \n",
       "2                                                NaN  \n",
       "3                            Government Intervention  \n",
       "4                                                NaN  "
      ]
     },
     "execution_count": 3,
     "metadata": {},
     "output_type": "execute_result"
    }
   ],
   "source": [
    "protest_data = pd.read_csv(strike_data)\n",
    "protest_data.head()"
   ]
  },
  {
   "cell_type": "code",
   "execution_count": 4,
   "id": "c0f9bd71",
   "metadata": {
    "_cell_guid": "fa63ae20-b512-4af9-82b5-49d40e282654",
    "_uuid": "f713f106-d2b9-45cc-95c7-9d0534b35c7b",
    "collapsed": false,
    "execution": {
     "iopub.execute_input": "2021-09-10T12:33:46.113363Z",
     "iopub.status.busy": "2021-09-10T12:33:46.112647Z",
     "iopub.status.idle": "2021-09-10T12:33:46.997883Z",
     "shell.execute_reply": "2021-09-10T12:33:46.997337Z",
     "shell.execute_reply.started": "2021-09-06T13:02:49.869465Z"
    },
    "jupyter": {
     "outputs_hidden": false
    },
    "papermill": {
     "duration": 0.921094,
     "end_time": "2021-09-10T12:33:46.998035",
     "exception": false,
     "start_time": "2021-09-10T12:33:46.076941",
     "status": "completed"
    },
    "tags": []
   },
   "outputs": [],
   "source": [
    "import seaborn as sns\n",
    "import matplotlib.pyplot as plt\n",
    "%matplotlib inline"
   ]
  },
  {
   "cell_type": "code",
   "execution_count": 5,
   "id": "a25e64e9",
   "metadata": {
    "_cell_guid": "a6ce404e-8e78-49d7-9fcc-fba1619874a5",
    "_uuid": "0a0395fd-ef48-4041-bf73-fa6e781afcb6",
    "collapsed": false,
    "execution": {
     "iopub.execute_input": "2021-09-10T12:33:47.081262Z",
     "iopub.status.busy": "2021-09-10T12:33:47.065816Z",
     "iopub.status.idle": "2021-09-10T12:33:47.085522Z",
     "shell.execute_reply": "2021-09-10T12:33:47.084965Z",
     "shell.execute_reply.started": "2021-09-06T13:02:49.878624Z"
    },
    "jupyter": {
     "outputs_hidden": false
    },
    "papermill": {
     "duration": 0.056652,
     "end_time": "2021-09-10T12:33:47.085662",
     "exception": false,
     "start_time": "2021-09-10T12:33:47.029010",
     "status": "completed"
    },
    "tags": []
   },
   "outputs": [
    {
     "data": {
      "text/html": [
       "<div>\n",
       "<style scoped>\n",
       "    .dataframe tbody tr th:only-of-type {\n",
       "        vertical-align: middle;\n",
       "    }\n",
       "\n",
       "    .dataframe tbody tr th {\n",
       "        vertical-align: top;\n",
       "    }\n",
       "\n",
       "    .dataframe thead th {\n",
       "        text-align: right;\n",
       "    }\n",
       "</style>\n",
       "<table border=\"1\" class=\"dataframe\">\n",
       "  <thead>\n",
       "    <tr style=\"text-align: right;\">\n",
       "      <th></th>\n",
       "      <th>Company Name</th>\n",
       "    </tr>\n",
       "  </thead>\n",
       "  <tbody>\n",
       "    <tr>\n",
       "      <th>count</th>\n",
       "      <td>0.0</td>\n",
       "    </tr>\n",
       "    <tr>\n",
       "      <th>mean</th>\n",
       "      <td>NaN</td>\n",
       "    </tr>\n",
       "    <tr>\n",
       "      <th>std</th>\n",
       "      <td>NaN</td>\n",
       "    </tr>\n",
       "    <tr>\n",
       "      <th>min</th>\n",
       "      <td>NaN</td>\n",
       "    </tr>\n",
       "    <tr>\n",
       "      <th>25%</th>\n",
       "      <td>NaN</td>\n",
       "    </tr>\n",
       "    <tr>\n",
       "      <th>50%</th>\n",
       "      <td>NaN</td>\n",
       "    </tr>\n",
       "    <tr>\n",
       "      <th>75%</th>\n",
       "      <td>NaN</td>\n",
       "    </tr>\n",
       "    <tr>\n",
       "      <th>max</th>\n",
       "      <td>NaN</td>\n",
       "    </tr>\n",
       "  </tbody>\n",
       "</table>\n",
       "</div>"
      ],
      "text/plain": [
       "       Company Name\n",
       "count           0.0\n",
       "mean            NaN\n",
       "std             NaN\n",
       "min             NaN\n",
       "25%             NaN\n",
       "50%             NaN\n",
       "75%             NaN\n",
       "max             NaN"
      ]
     },
     "execution_count": 5,
     "metadata": {},
     "output_type": "execute_result"
    }
   ],
   "source": [
    "protest_data.describe() # no info of company in which protests occured"
   ]
  },
  {
   "cell_type": "code",
   "execution_count": 6,
   "id": "756fe0fe",
   "metadata": {
    "_cell_guid": "1fccbb69-dbca-441e-9873-8c87fd776256",
    "_uuid": "d2cdbebc-41b6-4285-aa21-fbc94161f88c",
    "collapsed": false,
    "execution": {
     "iopub.execute_input": "2021-09-10T12:33:47.153756Z",
     "iopub.status.busy": "2021-09-10T12:33:47.152696Z",
     "iopub.status.idle": "2021-09-10T12:33:47.170973Z",
     "shell.execute_reply": "2021-09-10T12:33:47.171501Z",
     "shell.execute_reply.started": "2021-09-06T13:02:49.908844Z"
    },
    "jupyter": {
     "outputs_hidden": false
    },
    "papermill": {
     "duration": 0.05362,
     "end_time": "2021-09-10T12:33:47.171689",
     "exception": false,
     "start_time": "2021-09-10T12:33:47.118069",
     "status": "completed"
    },
    "tags": []
   },
   "outputs": [
    {
     "name": "stdout",
     "output_type": "stream",
     "text": [
      "<class 'pandas.core.frame.DataFrame'>\n",
      "RangeIndex: 469 entries, 0 to 468\n",
      "Data columns (total 12 columns):\n",
      " #   Column                          Non-Null Count  Dtype  \n",
      "---  ------                          --------------  -----  \n",
      " 0   Date                            469 non-null    object \n",
      " 1   Description                     469 non-null    object \n",
      " 2   Province                        469 non-null    object \n",
      " 3   City                            466 non-null    object \n",
      " 4   Industry                        469 non-null    object \n",
      " 5   Sub Industry                    363 non-null    object \n",
      " 6   Company Name                    0 non-null      float64\n",
      " 7   Company Ownership               469 non-null    object \n",
      " 8   Action Type                     468 non-null    object \n",
      " 9   Number Of Participants          469 non-null    object \n",
      " 10  Employees Demands               458 non-null    object \n",
      " 11  Response to Collective Actions  293 non-null    object \n",
      "dtypes: float64(1), object(11)\n",
      "memory usage: 44.1+ KB\n"
     ]
    }
   ],
   "source": [
    "protest_data.info()  #as we also saw above there is no value in company name column. There is some null values in column Sub industry, Action-type, Employee Demands And Response\n",
    "                        #to Collective Actions'"
   ]
  },
  {
   "cell_type": "code",
   "execution_count": 7,
   "id": "ce8999ef",
   "metadata": {
    "_cell_guid": "f3a83766-8b01-4289-812c-3205edd2e008",
    "_uuid": "f2c7989b-1cd2-4e1c-be35-7892ccd994b7",
    "collapsed": false,
    "execution": {
     "iopub.execute_input": "2021-09-10T12:33:47.241557Z",
     "iopub.status.busy": "2021-09-10T12:33:47.240730Z",
     "iopub.status.idle": "2021-09-10T12:33:47.243610Z",
     "shell.execute_reply": "2021-09-10T12:33:47.243069Z",
     "shell.execute_reply.started": "2021-09-06T13:02:49.933639Z"
    },
    "jupyter": {
     "outputs_hidden": false
    },
    "papermill": {
     "duration": 0.039181,
     "end_time": "2021-09-10T12:33:47.243757",
     "exception": false,
     "start_time": "2021-09-10T12:33:47.204576",
     "status": "completed"
    },
    "tags": []
   },
   "outputs": [],
   "source": [
    "#protest_data['Response to Collective Actions'].unique()"
   ]
  },
  {
   "cell_type": "code",
   "execution_count": 8,
   "id": "dfd69836",
   "metadata": {
    "_cell_guid": "3d337fb6-edd4-4c13-be55-a1fe696e6b7f",
    "_uuid": "50754111-0005-4146-92c0-750da47d5148",
    "collapsed": false,
    "execution": {
     "iopub.execute_input": "2021-09-10T12:33:47.315124Z",
     "iopub.status.busy": "2021-09-10T12:33:47.314091Z",
     "iopub.status.idle": "2021-09-10T12:33:47.317648Z",
     "shell.execute_reply": "2021-09-10T12:33:47.316993Z",
     "shell.execute_reply.started": "2021-09-06T13:02:49.948859Z"
    },
    "jupyter": {
     "outputs_hidden": false
    },
    "papermill": {
     "duration": 0.041296,
     "end_time": "2021-09-10T12:33:47.317789",
     "exception": false,
     "start_time": "2021-09-10T12:33:47.276493",
     "status": "completed"
    },
    "tags": []
   },
   "outputs": [],
   "source": [
    "#For company name we can assume that source has no info about company or it is kept secret., Similar is the case with Sub Industry\n",
    "#For Action Type, for one incident, we don't have the strike type.\n",
    "#For Employee demands, for some protests we don't have the demand of the protest\n",
    "#For Response to Collective Actions, for some protests we don't have info about steps taken by administration to deal with protestors."
   ]
  },
  {
   "cell_type": "code",
   "execution_count": 9,
   "id": "f1a9a44c",
   "metadata": {
    "_cell_guid": "4f8a6931-096e-48fc-a472-05e900ba18d5",
    "_uuid": "d1b8e7da-f326-4777-baca-0957b1070a6a",
    "collapsed": false,
    "execution": {
     "iopub.execute_input": "2021-09-10T12:33:47.388940Z",
     "iopub.status.busy": "2021-09-10T12:33:47.388237Z",
     "iopub.status.idle": "2021-09-10T12:33:47.391891Z",
     "shell.execute_reply": "2021-09-10T12:33:47.391383Z",
     "shell.execute_reply.started": "2021-09-06T13:02:49.963976Z"
    },
    "jupyter": {
     "outputs_hidden": false
    },
    "papermill": {
     "duration": 0.042295,
     "end_time": "2021-09-10T12:33:47.392056",
     "exception": false,
     "start_time": "2021-09-10T12:33:47.349761",
     "status": "completed"
    },
    "tags": []
   },
   "outputs": [
    {
     "data": {
      "text/plain": [
       "Date                               object\n",
       "Description                        object\n",
       "Province                           object\n",
       "City                               object\n",
       "Industry                           object\n",
       "Sub Industry                       object\n",
       "Company Name                      float64\n",
       "Company Ownership                  object\n",
       "Action Type                        object\n",
       "Number Of Participants             object\n",
       "Employees Demands                  object\n",
       "Response to Collective Actions     object\n",
       "dtype: object"
      ]
     },
     "execution_count": 9,
     "metadata": {},
     "output_type": "execute_result"
    }
   ],
   "source": [
    "protest_data.dtypes"
   ]
  },
  {
   "cell_type": "markdown",
   "id": "01d6a815",
   "metadata": {
    "_cell_guid": "e5b5b766-0ff7-46e5-86f5-ab31cb2a1abc",
    "_uuid": "08db7ffe-4505-48aa-b4e4-1eacc71ac51f",
    "papermill": {
     "duration": 0.03189,
     "end_time": "2021-09-10T12:33:47.456251",
     "exception": false,
     "start_time": "2021-09-10T12:33:47.424361",
     "status": "completed"
    },
    "tags": []
   },
   "source": [
    "Creating a column Average number of participants"
   ]
  },
  {
   "cell_type": "code",
   "execution_count": 10,
   "id": "38311abf",
   "metadata": {
    "_cell_guid": "b8feb56d-d58e-4015-821c-0e56fc949a59",
    "_uuid": "e5731f99-cf68-4632-a834-ec834948e730",
    "collapsed": false,
    "execution": {
     "iopub.execute_input": "2021-09-10T12:33:47.526668Z",
     "iopub.status.busy": "2021-09-10T12:33:47.525991Z",
     "iopub.status.idle": "2021-09-10T12:33:47.528975Z",
     "shell.execute_reply": "2021-09-10T12:33:47.528451Z",
     "shell.execute_reply.started": "2021-09-06T13:02:50.062134Z"
    },
    "jupyter": {
     "outputs_hidden": false
    },
    "papermill": {
     "duration": 0.040427,
     "end_time": "2021-09-10T12:33:47.529116",
     "exception": false,
     "start_time": "2021-09-10T12:33:47.488689",
     "status": "completed"
    },
    "tags": []
   },
   "outputs": [],
   "source": [
    "def avgParticipants(participants):         #input = '1-100'\n",
    "    part_list_str = participants.split('-')   #eg = ['1','100']\n",
    "    part_list_int  = [int(str_nos) for str_nos in part_list_str]  # int - > [1,100]\n",
    "    return sum(part_list_int)/len(part_list_int)"
   ]
  },
  {
   "cell_type": "code",
   "execution_count": 11,
   "id": "06cbe282",
   "metadata": {
    "_cell_guid": "af0c0f94-6111-4a6e-bc4a-1ff6c2834bcc",
    "_uuid": "50e7425a-c5b2-46c0-9bd2-721347813526",
    "collapsed": false,
    "execution": {
     "iopub.execute_input": "2021-09-10T12:33:47.600125Z",
     "iopub.status.busy": "2021-09-10T12:33:47.599483Z",
     "iopub.status.idle": "2021-09-10T12:33:47.602817Z",
     "shell.execute_reply": "2021-09-10T12:33:47.602265Z",
     "shell.execute_reply.started": "2021-09-06T13:02:50.071286Z"
    },
    "jupyter": {
     "outputs_hidden": false
    },
    "papermill": {
     "duration": 0.041744,
     "end_time": "2021-09-10T12:33:47.602958",
     "exception": false,
     "start_time": "2021-09-10T12:33:47.561214",
     "status": "completed"
    },
    "tags": []
   },
   "outputs": [],
   "source": [
    "protest_data['Estimate Number Of Participants']  = protest_data['Number Of Participants'].apply(avgParticipants)"
   ]
  },
  {
   "cell_type": "code",
   "execution_count": 12,
   "id": "2ab9b4d0",
   "metadata": {
    "_cell_guid": "1fca2469-7adc-4ccb-bdf8-03ce379dd996",
    "_uuid": "93add59c-4413-4dff-9722-c3d59bce90c9",
    "collapsed": false,
    "execution": {
     "iopub.execute_input": "2021-09-10T12:33:47.687587Z",
     "iopub.status.busy": "2021-09-10T12:33:47.686626Z",
     "iopub.status.idle": "2021-09-10T12:33:47.691589Z",
     "shell.execute_reply": "2021-09-10T12:33:47.690932Z",
     "shell.execute_reply.started": "2021-09-06T13:02:50.087756Z"
    },
    "jupyter": {
     "outputs_hidden": false
    },
    "papermill": {
     "duration": 0.056566,
     "end_time": "2021-09-10T12:33:47.691728",
     "exception": false,
     "start_time": "2021-09-10T12:33:47.635162",
     "status": "completed"
    },
    "tags": []
   },
   "outputs": [
    {
     "data": {
      "text/html": [
       "<div>\n",
       "<style scoped>\n",
       "    .dataframe tbody tr th:only-of-type {\n",
       "        vertical-align: middle;\n",
       "    }\n",
       "\n",
       "    .dataframe tbody tr th {\n",
       "        vertical-align: top;\n",
       "    }\n",
       "\n",
       "    .dataframe thead th {\n",
       "        text-align: right;\n",
       "    }\n",
       "</style>\n",
       "<table border=\"1\" class=\"dataframe\">\n",
       "  <thead>\n",
       "    <tr style=\"text-align: right;\">\n",
       "      <th></th>\n",
       "      <th>Date</th>\n",
       "      <th>Description</th>\n",
       "      <th>Province</th>\n",
       "      <th>City</th>\n",
       "      <th>Industry</th>\n",
       "      <th>Sub Industry</th>\n",
       "      <th>Company Name</th>\n",
       "      <th>Company Ownership</th>\n",
       "      <th>Action Type</th>\n",
       "      <th>Number Of Participants</th>\n",
       "      <th>Employees Demands</th>\n",
       "      <th>Response to Collective Actions</th>\n",
       "      <th>Estimate Number Of Participants</th>\n",
       "    </tr>\n",
       "  </thead>\n",
       "  <tbody>\n",
       "    <tr>\n",
       "      <th>0</th>\n",
       "      <td>2021-08-30</td>\n",
       "      <td>Workers protest against wage arrears in Xian, ...</td>\n",
       "      <td>陕西省</td>\n",
       "      <td>西安市</td>\n",
       "      <td>Construction</td>\n",
       "      <td>Commercial Property</td>\n",
       "      <td>NaN</td>\n",
       "      <td>Private Enterprise</td>\n",
       "      <td>Protest</td>\n",
       "      <td>1-100</td>\n",
       "      <td>Wage Arrears</td>\n",
       "      <td>Negotiations with Management</td>\n",
       "      <td>50.5</td>\n",
       "    </tr>\n",
       "    <tr>\n",
       "      <th>1</th>\n",
       "      <td>2021-08-29</td>\n",
       "      <td>Workers protest against wage arrears of a cons...</td>\n",
       "      <td>黑龙江省</td>\n",
       "      <td>绥化市</td>\n",
       "      <td>Construction</td>\n",
       "      <td>NaN</td>\n",
       "      <td>NaN</td>\n",
       "      <td>Private Enterprise</td>\n",
       "      <td>Protest</td>\n",
       "      <td>1-100</td>\n",
       "      <td>Wage Arrears</td>\n",
       "      <td>Government Intervention/Negotiations with Mana...</td>\n",
       "      <td>50.5</td>\n",
       "    </tr>\n",
       "    <tr>\n",
       "      <th>2</th>\n",
       "      <td>2021-08-28</td>\n",
       "      <td>Taxi drivers protest against shared electric b...</td>\n",
       "      <td>山西省</td>\n",
       "      <td>临汾市</td>\n",
       "      <td>Transport&amp;Logistics</td>\n",
       "      <td>Taxi</td>\n",
       "      <td>NaN</td>\n",
       "      <td>Private Enterprise</td>\n",
       "      <td>Strike/Protest</td>\n",
       "      <td>101-1000</td>\n",
       "      <td>Management Supervision/Other</td>\n",
       "      <td>NaN</td>\n",
       "      <td>550.5</td>\n",
       "    </tr>\n",
       "    <tr>\n",
       "      <th>3</th>\n",
       "      <td>2021-08-28</td>\n",
       "      <td>Workers protest against wage arrears of a cons...</td>\n",
       "      <td>陕西省</td>\n",
       "      <td>渭南市</td>\n",
       "      <td>Construction</td>\n",
       "      <td>Commercial Property</td>\n",
       "      <td>NaN</td>\n",
       "      <td>Private Enterprise</td>\n",
       "      <td>Protest</td>\n",
       "      <td>1-100</td>\n",
       "      <td>Wage Arrears</td>\n",
       "      <td>Government Intervention</td>\n",
       "      <td>50.5</td>\n",
       "    </tr>\n",
       "    <tr>\n",
       "      <th>4</th>\n",
       "      <td>2021-08-27</td>\n",
       "      <td>Workers protest against wage arrears of a cons...</td>\n",
       "      <td>广东省</td>\n",
       "      <td>湛江市</td>\n",
       "      <td>Construction</td>\n",
       "      <td>Residential Property</td>\n",
       "      <td>NaN</td>\n",
       "      <td>SOE</td>\n",
       "      <td>Protest</td>\n",
       "      <td>1-100</td>\n",
       "      <td>Wage Arrears</td>\n",
       "      <td>NaN</td>\n",
       "      <td>50.5</td>\n",
       "    </tr>\n",
       "  </tbody>\n",
       "</table>\n",
       "</div>"
      ],
      "text/plain": [
       "         Date                                        Description Province  \\\n",
       "0  2021-08-30  Workers protest against wage arrears in Xian, ...      陕西省   \n",
       "1  2021-08-29  Workers protest against wage arrears of a cons...     黑龙江省   \n",
       "2  2021-08-28  Taxi drivers protest against shared electric b...      山西省   \n",
       "3  2021-08-28  Workers protest against wage arrears of a cons...      陕西省   \n",
       "4  2021-08-27  Workers protest against wage arrears of a cons...      广东省   \n",
       "\n",
       "  City             Industry          Sub Industry  Company Name  \\\n",
       "0  西安市         Construction   Commercial Property           NaN   \n",
       "1  绥化市         Construction                   NaN           NaN   \n",
       "2  临汾市  Transport&Logistics                  Taxi           NaN   \n",
       "3  渭南市         Construction   Commercial Property           NaN   \n",
       "4  湛江市         Construction  Residential Property           NaN   \n",
       "\n",
       "    Company Ownership     Action Type Number Of Participants  \\\n",
       "0  Private Enterprise         Protest                  1-100   \n",
       "1  Private Enterprise         Protest                  1-100   \n",
       "2  Private Enterprise  Strike/Protest               101-1000   \n",
       "3  Private Enterprise         Protest                  1-100   \n",
       "4                 SOE         Protest                  1-100   \n",
       "\n",
       "              Employees Demands  \\\n",
       "0                  Wage Arrears   \n",
       "1                  Wage Arrears   \n",
       "2  Management Supervision/Other   \n",
       "3                  Wage Arrears   \n",
       "4                  Wage Arrears   \n",
       "\n",
       "                      Response to Collective Actions  \\\n",
       "0                       Negotiations with Management   \n",
       "1  Government Intervention/Negotiations with Mana...   \n",
       "2                                                NaN   \n",
       "3                            Government Intervention   \n",
       "4                                                NaN   \n",
       "\n",
       "   Estimate Number Of Participants  \n",
       "0                             50.5  \n",
       "1                             50.5  \n",
       "2                            550.5  \n",
       "3                             50.5  \n",
       "4                             50.5  "
      ]
     },
     "execution_count": 12,
     "metadata": {},
     "output_type": "execute_result"
    }
   ],
   "source": [
    "protest_data.head()"
   ]
  },
  {
   "cell_type": "code",
   "execution_count": 13,
   "id": "245d7cb9",
   "metadata": {
    "_cell_guid": "dba234da-dda6-4a80-987a-8d7df85f85f8",
    "_uuid": "d37ce208-bc69-42c8-9330-b604cac686fe",
    "collapsed": false,
    "execution": {
     "iopub.execute_input": "2021-09-10T12:33:47.763309Z",
     "iopub.status.busy": "2021-09-10T12:33:47.762462Z",
     "iopub.status.idle": "2021-09-10T12:33:47.766794Z",
     "shell.execute_reply": "2021-09-10T12:33:47.765955Z",
     "shell.execute_reply.started": "2021-09-06T13:02:50.12221Z"
    },
    "jupyter": {
     "outputs_hidden": false
    },
    "papermill": {
     "duration": 0.041355,
     "end_time": "2021-09-10T12:33:47.767003",
     "exception": false,
     "start_time": "2021-09-10T12:33:47.725648",
     "status": "completed"
    },
    "tags": []
   },
   "outputs": [],
   "source": [
    "#protest_data.drop('Average Number Of Participants',inplace=True,axis = 1)"
   ]
  },
  {
   "cell_type": "code",
   "execution_count": 14,
   "id": "397936bb",
   "metadata": {
    "_cell_guid": "955ce73f-41db-48f8-8291-fb51046983fe",
    "_uuid": "3712ceea-695e-4854-b60b-27da6a291f31",
    "collapsed": false,
    "execution": {
     "iopub.execute_input": "2021-09-10T12:33:47.853292Z",
     "iopub.status.busy": "2021-09-10T12:33:47.852586Z",
     "iopub.status.idle": "2021-09-10T12:33:48.338410Z",
     "shell.execute_reply": "2021-09-10T12:33:48.337711Z",
     "shell.execute_reply.started": "2021-09-06T13:02:50.14075Z"
    },
    "jupyter": {
     "outputs_hidden": false
    },
    "papermill": {
     "duration": 0.531043,
     "end_time": "2021-09-10T12:33:48.338552",
     "exception": false,
     "start_time": "2021-09-10T12:33:47.807509",
     "status": "completed"
    },
    "tags": []
   },
   "outputs": [
    {
     "data": {
      "text/plain": [
       "<AxesSubplot:title={'center':'Total no of participants in a protest in each Industry(Avg of an occ date)'}, xlabel='Industry', ylabel='Estimate Number Of Participants'>"
      ]
     },
     "execution_count": 14,
     "metadata": {},
     "output_type": "execute_result"
    },
    {
     "data": {
      "image/png": "[encoded data removed]",
      "text/plain": [
       "<Figure size 1080x360 with 1 Axes>"
      ]
     },
     "metadata": {
      "needs_background": "light"
     },
     "output_type": "display_data"
    }
   ],
   "source": [
    "plt.figure(figsize = (15,5))\n",
    "\n",
    "plt.title('Total no of participants in a protest in each Industry(Avg of an occ date)')\n",
    "\n",
    "sns.barplot(data = protest_data, x = 'Industry', y = 'Estimate Number Of Participants')"
   ]
  },
  {
   "cell_type": "markdown",
   "id": "3e17cd59",
   "metadata": {
    "_cell_guid": "5b7f274f-aa16-45d4-a302-6f37bf0d22c9",
    "_uuid": "0d8d7da6-89f5-4785-832b-717e8c5d03bf",
    "papermill": {
     "duration": 0.033598,
     "end_time": "2021-09-10T12:33:48.406597",
     "exception": false,
     "start_time": "2021-09-10T12:33:48.372999",
     "status": "completed"
    },
    "tags": []
   },
   "source": [
    "**Transport&Logistics has maximum no of protestors**"
   ]
  },
  {
   "cell_type": "code",
   "execution_count": 15,
   "id": "de4a925b",
   "metadata": {
    "_cell_guid": "44ca0b92-b14b-44cc-923f-8d81289d98a1",
    "_uuid": "7efedc6a-8b6c-4f79-8b1f-d54d0b52a6a8",
    "collapsed": false,
    "execution": {
     "iopub.execute_input": "2021-09-10T12:33:48.529373Z",
     "iopub.status.busy": "2021-09-10T12:33:48.515694Z",
     "iopub.status.idle": "2021-09-10T12:33:48.685406Z",
     "shell.execute_reply": "2021-09-10T12:33:48.684736Z",
     "shell.execute_reply.started": "2021-09-06T13:02:50.661816Z"
    },
    "jupyter": {
     "outputs_hidden": false
    },
    "papermill": {
     "duration": 0.244606,
     "end_time": "2021-09-10T12:33:48.685547",
     "exception": false,
     "start_time": "2021-09-10T12:33:48.440941",
     "status": "completed"
    },
    "tags": []
   },
   "outputs": [
    {
     "data": {
      "text/plain": [
       "<AxesSubplot:xlabel='Industry', ylabel='count'>"
      ]
     },
     "execution_count": 15,
     "metadata": {},
     "output_type": "execute_result"
    },
    {
     "data": {
      "image/png": "[encoded data removed]",
      "text/plain": [
       "<Figure size 1080x360 with 1 Axes>"
      ]
     },
     "metadata": {
      "needs_background": "light"
     },
     "output_type": "display_data"
    }
   ],
   "source": [
    "plt.figure(figsize = (15,5))\n",
    "\n",
    "sns.countplot(data = protest_data, x = 'Industry')"
   ]
  },
  {
   "cell_type": "markdown",
   "id": "5f83c24e",
   "metadata": {
    "_cell_guid": "045e0b4a-0ebc-4d8d-94f4-bc84c48d7fef",
    "_uuid": "a1bc3912-6ae4-46f2-b34d-dbd3e4faada1",
    "papermill": {
     "duration": 0.036544,
     "end_time": "2021-09-10T12:33:48.758396",
     "exception": false,
     "start_time": "2021-09-10T12:33:48.721852",
     "status": "completed"
    },
    "tags": []
   },
   "source": [
    "**Maximum protests happened in constructor industry**"
   ]
  },
  {
   "cell_type": "markdown",
   "id": "5ef736b4",
   "metadata": {
    "_cell_guid": "a3d1727a-4be5-45a9-af3d-16081f790beb",
    "_uuid": "d2a8de47-11b3-43fe-b113-02a1e0fbb466",
    "papermill": {
     "duration": 0.035162,
     "end_time": "2021-09-10T12:33:48.829648",
     "exception": false,
     "start_time": "2021-09-10T12:33:48.794486",
     "status": "completed"
    },
    "tags": []
   },
   "source": []
  },
  {
   "cell_type": "code",
   "execution_count": 16,
   "id": "05509cac",
   "metadata": {
    "_cell_guid": "df020c19-243b-4a53-a368-e7df2c3f0bee",
    "_uuid": "e6319313-6147-4125-a688-fc64b4c764e3",
    "collapsed": false,
    "execution": {
     "iopub.execute_input": "2021-09-10T12:33:48.944777Z",
     "iopub.status.busy": "2021-09-10T12:33:48.942029Z",
     "iopub.status.idle": "2021-09-10T12:33:49.123465Z",
     "shell.execute_reply": "2021-09-10T12:33:49.122921Z",
     "shell.execute_reply.started": "2021-09-06T13:02:50.89Z"
    },
    "jupyter": {
     "outputs_hidden": false
    },
    "papermill": {
     "duration": 0.257892,
     "end_time": "2021-09-10T12:33:49.123614",
     "exception": false,
     "start_time": "2021-09-10T12:33:48.865722",
     "status": "completed"
    },
    "tags": []
   },
   "outputs": [
    {
     "data": {
      "text/plain": [
       "<AxesSubplot:xlabel='Company Ownership', ylabel='count'>"
      ]
     },
     "execution_count": 16,
     "metadata": {},
     "output_type": "execute_result"
    },
    {
     "data": {
      "image/png": "[encoded data removed]",
      "text/plain": [
       "<Figure size 1080x360 with 1 Axes>"
      ]
     },
     "metadata": {
      "needs_background": "light"
     },
     "output_type": "display_data"
    }
   ],
   "source": [
    "plt.figure(figsize = (15,5))\n",
    "\n",
    "sns.countplot(data = protest_data, x = 'Company Ownership')"
   ]
  },
  {
   "cell_type": "markdown",
   "id": "2e0df6a8",
   "metadata": {
    "_cell_guid": "fa2c884a-9bd0-4fef-bd04-cc851ea7bee2",
    "_uuid": "f992dae0-0d42-4074-8ee4-15d9d8275090",
    "papermill": {
     "duration": 0.036592,
     "end_time": "2021-09-10T12:33:49.196853",
     "exception": false,
     "start_time": "2021-09-10T12:33:49.160261",
     "status": "completed"
    },
    "tags": []
   },
   "source": [
    "**Maxiumum Protests occured in Private Enterprises**"
   ]
  },
  {
   "cell_type": "code",
   "execution_count": 17,
   "id": "e6112f8c",
   "metadata": {
    "_cell_guid": "d22d3473-8b1e-4b02-bad2-3439810526fb",
    "_uuid": "21b358a7-23e8-4c5f-ac0c-20071a46b18b",
    "collapsed": false,
    "execution": {
     "iopub.execute_input": "2021-09-10T12:33:49.313379Z",
     "iopub.status.busy": "2021-09-10T12:33:49.309266Z",
     "iopub.status.idle": "2021-09-10T12:33:49.535468Z",
     "shell.execute_reply": "2021-09-10T12:33:49.534794Z",
     "shell.execute_reply.started": "2021-09-06T13:02:51.118276Z"
    },
    "jupyter": {
     "outputs_hidden": false
    },
    "papermill": {
     "duration": 0.301791,
     "end_time": "2021-09-10T12:33:49.535611",
     "exception": false,
     "start_time": "2021-09-10T12:33:49.233820",
     "status": "completed"
    },
    "tags": []
   },
   "outputs": [
    {
     "data": {
      "text/plain": [
       "<AxesSubplot:xlabel='Action Type', ylabel='count'>"
      ]
     },
     "execution_count": 17,
     "metadata": {},
     "output_type": "execute_result"
    },
    {
     "data": {
      "image/png": "[encoded data removed]",
      "text/plain": [
       "<Figure size 1800x360 with 1 Axes>"
      ]
     },
     "metadata": {
      "needs_background": "light"
     },
     "output_type": "display_data"
    }
   ],
   "source": [
    "plt.figure(figsize = (25,5))\n",
    "\n",
    "sns.countplot(data = protest_data, x = 'Action Type')"
   ]
  },
  {
   "cell_type": "markdown",
   "id": "de3383c5",
   "metadata": {
    "_cell_guid": "f509029b-365c-4ed7-af05-e8b8ca8eeabe",
    "_uuid": "22ce2bab-2976-4ab0-be63-4504a773e48e",
    "papermill": {
     "duration": 0.03759,
     "end_time": "2021-09-10T12:33:49.610856",
     "exception": false,
     "start_time": "2021-09-10T12:33:49.573266",
     "status": "completed"
    },
    "tags": []
   },
   "source": [
    "**Most of protests are termed as just Protest**"
   ]
  },
  {
   "cell_type": "code",
   "execution_count": 18,
   "id": "530fd507",
   "metadata": {
    "_cell_guid": "6df96bf7-fa1d-4e53-8f53-d2250e537c8a",
    "_uuid": "cf4e1bb9-4ee2-4956-8d43-af627df30b9b",
    "collapsed": false,
    "execution": {
     "iopub.execute_input": "2021-09-10T12:33:49.735126Z",
     "iopub.status.busy": "2021-09-10T12:33:49.731955Z",
     "iopub.status.idle": "2021-09-10T12:33:50.157397Z",
     "shell.execute_reply": "2021-09-10T12:33:50.157867Z",
     "shell.execute_reply.started": "2021-09-06T13:02:51.399292Z"
    },
    "jupyter": {
     "outputs_hidden": false
    },
    "papermill": {
     "duration": 0.50927,
     "end_time": "2021-09-10T12:33:50.158045",
     "exception": false,
     "start_time": "2021-09-10T12:33:49.648775",
     "status": "completed"
    },
    "tags": []
   },
   "outputs": [
    {
     "data": {
      "image/png": "[encoded data removed]",
      "text/plain": [
       "<Figure size 2520x360 with 1 Axes>"
      ]
     },
     "metadata": {
      "needs_background": "light"
     },
     "output_type": "display_data"
    }
   ],
   "source": [
    "plt.figure(figsize = (35,5))\n",
    "\n",
    "sns.countplot(data = protest_data, x = 'Employees Demands')\n",
    "\n",
    "plt.savefig('/kaggle/working/EmployeeDemands.jpeg')"
   ]
  },
  {
   "cell_type": "markdown",
   "id": "0462f310",
   "metadata": {
    "_cell_guid": "1ee5f990-f11a-41c7-abac-230a372ffeed",
    "_uuid": "4772a8e0-d6ca-4850-b826-c1916dde4f83",
    "papermill": {
     "duration": 0.038519,
     "end_time": "2021-09-10T12:33:50.235740",
     "exception": false,
     "start_time": "2021-09-10T12:33:50.197221",
     "status": "completed"
    },
    "tags": []
   },
   "source": [
    "**Most protests happened to demand of payment of overdue wage arrears.**"
   ]
  },
  {
   "cell_type": "markdown",
   "id": "5f378cfb",
   "metadata": {
    "_cell_guid": "15a36d7c-41d2-41bd-b779-14351b28e8ea",
    "_uuid": "21dcd4c5-f7a8-4f62-9064-4a9fb9dcde31",
    "papermill": {
     "duration": 0.038945,
     "end_time": "2021-09-10T12:33:50.313869",
     "exception": false,
     "start_time": "2021-09-10T12:33:50.274924",
     "status": "completed"
    },
    "tags": []
   },
   "source": []
  },
  {
   "cell_type": "code",
   "execution_count": 19,
   "id": "21822c6a",
   "metadata": {
    "_cell_guid": "21eff27f-47c0-4c0c-97f8-6d01f5477c20",
    "_uuid": "d9fb2696-f04f-403f-b2a7-cf812d62b7c9",
    "collapsed": false,
    "execution": {
     "iopub.execute_input": "2021-09-10T12:33:50.428629Z",
     "iopub.status.busy": "2021-09-10T12:33:50.426571Z",
     "iopub.status.idle": "2021-09-10T12:33:50.966861Z",
     "shell.execute_reply": "2021-09-10T12:33:50.966289Z",
     "shell.execute_reply.started": "2021-09-06T13:02:51.917943Z"
    },
    "jupyter": {
     "outputs_hidden": false
    },
    "papermill": {
     "duration": 0.613742,
     "end_time": "2021-09-10T12:33:50.966996",
     "exception": false,
     "start_time": "2021-09-10T12:33:50.353254",
     "status": "completed"
    },
    "tags": []
   },
   "outputs": [
    {
     "data": {
      "image/png": "[encoded data removed]",
      "text/plain": [
       "<Figure size 3600x720 with 1 Axes>"
      ]
     },
     "metadata": {
      "needs_background": "light"
     },
     "output_type": "display_data"
    }
   ],
   "source": [
    "plt.figure(figsize = (50,10))\n",
    "\n",
    "sns.countplot(data = protest_data, x = 'Response to Collective Actions')\n",
    "\n",
    "plt.savefig('/kaggle/working/ResponseToProtests.jpeg')"
   ]
  },
  {
   "cell_type": "markdown",
   "id": "992cb952",
   "metadata": {
    "_cell_guid": "0d33120f-8b13-4150-8550-c97aceee9cc5",
    "_uuid": "e927872a-6485-4439-9b84-1b29c6d47cc8",
    "papermill": {
     "duration": 0.040449,
     "end_time": "2021-09-10T12:33:51.048597",
     "exception": false,
     "start_time": "2021-09-10T12:33:51.008148",
     "status": "completed"
    },
    "tags": []
   },
   "source": [
    "Almost all protests ended with Negotiations with Management or government."
   ]
  },
  {
   "cell_type": "code",
   "execution_count": 20,
   "id": "ee6b23c0",
   "metadata": {
    "_cell_guid": "5f6fe59a-2a53-4ac7-ba32-a46996960eb7",
    "_uuid": "b6268390-f162-458e-9900-5674075f0b8f",
    "collapsed": false,
    "execution": {
     "iopub.execute_input": "2021-09-10T12:33:51.137503Z",
     "iopub.status.busy": "2021-09-10T12:33:51.136511Z",
     "iopub.status.idle": "2021-09-10T12:33:51.141316Z",
     "shell.execute_reply": "2021-09-10T12:33:51.140662Z",
     "shell.execute_reply.started": "2021-09-06T13:02:52.545488Z"
    },
    "jupyter": {
     "outputs_hidden": false
    },
    "papermill": {
     "duration": 0.052438,
     "end_time": "2021-09-10T12:33:51.141457",
     "exception": false,
     "start_time": "2021-09-10T12:33:51.089019",
     "status": "completed"
    },
    "tags": []
   },
   "outputs": [
    {
     "data": {
      "text/plain": [
       "0      Workers protest against wage arrears in Xian, ...\n",
       "1      Workers protest against wage arrears of a cons...\n",
       "2      Taxi drivers protest against shared electric b...\n",
       "3      Workers protest against wage arrears of a cons...\n",
       "4      Workers protest against wage arrears of a cons...\n",
       "                             ...                        \n",
       "464    Workers protest against wage arrears of a cons...\n",
       "465    Workers protest against wage arrears of a cons...\n",
       "466    Meituan food delivery workers protest against ...\n",
       "467    Meituan food delivery workers go on strike to ...\n",
       "468    Taxi drivers protest against illegal cabs near...\n",
       "Name: Description, Length: 469, dtype: object"
      ]
     },
     "execution_count": 20,
     "metadata": {},
     "output_type": "execute_result"
    }
   ],
   "source": [
    "protest_data.Description"
   ]
  },
  {
   "cell_type": "code",
   "execution_count": 21,
   "id": "5607d0a5",
   "metadata": {
    "_cell_guid": "b2128c4e-3819-4ce0-b254-f3a8756eb880",
    "_uuid": "11bc0d56-0bfd-42ce-b461-effb497b6421",
    "collapsed": false,
    "execution": {
     "iopub.execute_input": "2021-09-10T12:33:51.229694Z",
     "iopub.status.busy": "2021-09-10T12:33:51.229010Z",
     "iopub.status.idle": "2021-09-10T12:33:51.233202Z",
     "shell.execute_reply": "2021-09-10T12:33:51.232599Z",
     "shell.execute_reply.started": "2021-09-06T13:02:52.555328Z"
    },
    "jupyter": {
     "outputs_hidden": false
    },
    "papermill": {
     "duration": 0.049927,
     "end_time": "2021-09-10T12:33:51.233359",
     "exception": false,
     "start_time": "2021-09-10T12:33:51.183432",
     "status": "completed"
    },
    "tags": []
   },
   "outputs": [],
   "source": [
    "with open('Protest_description.txt','w') as wob:     #saved the description in a txt file\n",
    "    for description in protest_data.Description:\n",
    "        wob.write(description + '\\n')"
   ]
  },
  {
   "cell_type": "code",
   "execution_count": 22,
   "id": "aba333e1",
   "metadata": {
    "_cell_guid": "eadc49cb-7773-418f-b52c-080b7e7f21fa",
    "_uuid": "0f2135d1-e277-45fd-823d-f8fc3eb1ba5e",
    "collapsed": false,
    "execution": {
     "iopub.execute_input": "2021-09-10T12:33:51.320037Z",
     "iopub.status.busy": "2021-09-10T12:33:51.319399Z",
     "iopub.status.idle": "2021-09-10T12:33:51.321982Z",
     "shell.execute_reply": "2021-09-10T12:33:51.321428Z",
     "shell.execute_reply.started": "2021-09-06T13:02:53.107133Z"
    },
    "jupyter": {
     "outputs_hidden": false
    },
    "papermill": {
     "duration": 0.047999,
     "end_time": "2021-09-10T12:33:51.322120",
     "exception": false,
     "start_time": "2021-09-10T12:33:51.274121",
     "status": "completed"
    },
    "tags": []
   },
   "outputs": [],
   "source": [
    "#def translate_to_eng(chinese_text):\n",
    "    #return translator.translate(chinese_text).text"
   ]
  },
  {
   "cell_type": "code",
   "execution_count": 23,
   "id": "f4ef71db",
   "metadata": {
    "_cell_guid": "d4c2a826-64bc-4703-8b32-2ec44039a293",
    "_uuid": "a89cbd3d-1301-411c-b072-92eca5efe540",
    "collapsed": false,
    "execution": {
     "iopub.execute_input": "2021-09-10T12:33:51.408902Z",
     "iopub.status.busy": "2021-09-10T12:33:51.407942Z",
     "iopub.status.idle": "2021-09-10T12:33:51.411208Z",
     "shell.execute_reply": "2021-09-10T12:33:51.410710Z",
     "shell.execute_reply.started": "2021-09-06T13:19:34.927196Z"
    },
    "jupyter": {
     "outputs_hidden": false
    },
    "papermill": {
     "duration": 0.047562,
     "end_time": "2021-09-10T12:33:51.411371",
     "exception": false,
     "start_time": "2021-09-10T12:33:51.363809",
     "status": "completed"
    },
    "tags": []
   },
   "outputs": [],
   "source": [
    "#protest_data['Province'] = protest_data['Province'].apply(translate_to_eng)"
   ]
  },
  {
   "cell_type": "code",
   "execution_count": 24,
   "id": "b89a8196",
   "metadata": {
    "_cell_guid": "7c43e220-7ab8-4205-a354-8d935f0741a7",
    "_uuid": "6b7bed21-1930-40ce-b30f-e3647bc0f2a9",
    "collapsed": false,
    "execution": {
     "iopub.execute_input": "2021-09-10T12:33:51.496698Z",
     "iopub.status.busy": "2021-09-10T12:33:51.496015Z",
     "iopub.status.idle": "2021-09-10T12:33:51.497942Z",
     "shell.execute_reply": "2021-09-10T12:33:51.498487Z",
     "shell.execute_reply.started": "2021-09-06T13:14:59.454946Z"
    },
    "jupyter": {
     "outputs_hidden": false
    },
    "papermill": {
     "duration": 0.046793,
     "end_time": "2021-09-10T12:33:51.498658",
     "exception": false,
     "start_time": "2021-09-10T12:33:51.451865",
     "status": "completed"
    },
    "tags": []
   },
   "outputs": [],
   "source": [
    "#protest_data.dtypes"
   ]
  },
  {
   "cell_type": "code",
   "execution_count": 25,
   "id": "2b5b8a19",
   "metadata": {
    "execution": {
     "iopub.execute_input": "2021-09-10T12:33:51.585753Z",
     "iopub.status.busy": "2021-09-10T12:33:51.584781Z",
     "iopub.status.idle": "2021-09-10T12:33:51.589586Z",
     "shell.execute_reply": "2021-09-10T12:33:51.590272Z",
     "shell.execute_reply.started": "2021-09-06T13:23:08.608226Z"
    },
    "papermill": {
     "duration": 0.051337,
     "end_time": "2021-09-10T12:33:51.590463",
     "exception": false,
     "start_time": "2021-09-10T12:33:51.539126",
     "status": "completed"
    },
    "tags": []
   },
   "outputs": [],
   "source": [
    "#protest_data['City'] = protest_data['City'].astype('str')"
   ]
  },
  {
   "cell_type": "code",
   "execution_count": 26,
   "id": "f5a15142",
   "metadata": {
    "_cell_guid": "ebbdef17-11ac-4f22-aacb-97897b1c85b3",
    "_uuid": "c81e9ac6-4833-4526-b346-5d3575c8081e",
    "collapsed": false,
    "execution": {
     "iopub.execute_input": "2021-09-10T12:33:51.693124Z",
     "iopub.status.busy": "2021-09-10T12:33:51.692153Z",
     "iopub.status.idle": "2021-09-10T12:33:51.695142Z",
     "shell.execute_reply": "2021-09-10T12:33:51.694654Z",
     "shell.execute_reply.started": "2021-09-06T13:23:08.618081Z"
    },
    "jupyter": {
     "outputs_hidden": false
    },
    "papermill": {
     "duration": 0.057335,
     "end_time": "2021-09-10T12:33:51.695321",
     "exception": false,
     "start_time": "2021-09-10T12:33:51.637986",
     "status": "completed"
    },
    "tags": []
   },
   "outputs": [],
   "source": [
    "#protest_data['City'] = protest_data['City'].apply(translate_to_eng)"
   ]
  },
  {
   "cell_type": "code",
   "execution_count": 27,
   "id": "944a6c3e",
   "metadata": {
    "_cell_guid": "96c2d329-f140-4cde-b181-641086a2a505",
    "_uuid": "78a4d2bc-00c6-4c0e-a1c7-bc2150c241ce",
    "collapsed": false,
    "execution": {
     "iopub.execute_input": "2021-09-10T12:33:51.782114Z",
     "iopub.status.busy": "2021-09-10T12:33:51.781446Z",
     "iopub.status.idle": "2021-09-10T12:33:51.790677Z",
     "shell.execute_reply": "2021-09-10T12:33:51.791524Z",
     "shell.execute_reply.started": "2021-09-06T13:26:51.197007Z"
    },
    "jupyter": {
     "outputs_hidden": false
    },
    "papermill": {
     "duration": 0.055423,
     "end_time": "2021-09-10T12:33:51.791973",
     "exception": false,
     "start_time": "2021-09-10T12:33:51.736550",
     "status": "completed"
    },
    "tags": []
   },
   "outputs": [],
   "source": [
    "#protest_data.head()"
   ]
  },
  {
   "cell_type": "code",
   "execution_count": null,
   "id": "e3301a59",
   "metadata": {
    "papermill": {
     "duration": 0.045467,
     "end_time": "2021-09-10T12:33:51.885788",
     "exception": false,
     "start_time": "2021-09-10T12:33:51.840321",
     "status": "completed"
    },
    "tags": []
   },
   "outputs": [],
   "source": []
  },
  {
   "cell_type": "code",
   "execution_count": null,
   "id": "f590dc7c",
   "metadata": {
    "papermill": {
     "duration": 0.04143,
     "end_time": "2021-09-10T12:33:51.979495",
     "exception": false,
     "start_time": "2021-09-10T12:33:51.938065",
     "status": "completed"
    },
    "tags": []
   },
   "outputs": [],
   "source": []
  }
 ],
 "metadata": {
  "kernelspec": {
   "display_name": "Python 3",
   "language": "python",
   "name": "python3"
  },
  "language_info": {
   "codemirror_mode": {
    "name": "ipython",
    "version": 3
   },
   "file_extension": ".py",
   "mimetype": "text/x-python",
   "name": "python",
   "nbconvert_exporter": "python",
   "pygments_lexer": "ipython3",
   "version": "3.7.10"
  },
  "papermill": {
   "default_parameters": {},
   "duration": 15.840219,
   "end_time": "2021-09-10T12:33:53.286107",
   "environment_variables": {},
   "exception": null,
   "input_path": "__notebook__.ipynb",
   "output_path": "__notebook__.ipynb",
   "parameters": {},
   "start_time": "2021-09-10T12:33:37.445888",
   "version": "2.3.3"
  }
 },
 "nbformat": 4,
 "nbformat_minor": 5
}
