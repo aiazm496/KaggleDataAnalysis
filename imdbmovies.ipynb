{
 "cells": [
  {
   "cell_type": "code",
   "execution_count": 1,
   "id": "6bff13af",
   "metadata": {
    "_cell_guid": "b1076dfc-b9ad-4769-8c92-a6c4dae69d19",
    "_uuid": "8f2839f25d086af736a60e9eeb907d3b93b6e0e5",
    "execution": {
     "iopub.execute_input": "2021-09-07T19:02:33.225992Z",
     "iopub.status.busy": "2021-09-07T19:02:33.224826Z",
     "iopub.status.idle": "2021-09-07T19:02:34.264713Z",
     "shell.execute_reply": "2021-09-07T19:02:34.264054Z",
     "shell.execute_reply.started": "2021-09-07T18:47:00.907438Z"
    },
    "papermill": {
     "duration": 1.064053,
     "end_time": "2021-09-07T19:02:34.264891",
     "exception": false,
     "start_time": "2021-09-07T19:02:33.200838",
     "status": "completed"
    },
    "tags": []
   },
   "outputs": [
    {
     "name": "stdout",
     "output_type": "stream",
     "text": [
      "/kaggle/input/imdb-dataset-of-top-1000-movies-and-tv-shows/imdb_top_1000.csv\n"
     ]
    }
   ],
   "source": [
    "# This Python 3 environment comes with many helpful analytics libraries installed\n",
    "# It is defined by the kaggle/python Docker image: https://github.com/kaggle/docker-python\n",
    "# For example, here's several helpful packages to load\n",
    "\n",
    "import numpy as np # linear algebra\n",
    "import pandas as pd # data processing, CSV file I/O (e.g. pd.read_csv)\n",
    "import matplotlib.pyplot as plt\n",
    "import seaborn as sns\n",
    "\n",
    "# Input data files are available in the read-only \"../input/\" directory\n",
    "# For example, running this (by clicking run or pressing Shift+Enter) will list all files under the input directory\n",
    "\n",
    "import os\n",
    "for dirname, _, filenames in os.walk('/kaggle/input'):\n",
    "    for filename in filenames:\n",
    "        print(os.path.join(dirname, filename))\n",
    "\n",
    "# You can write up to 20GB to the current directory (/kaggle/working/) that gets preserved as output when you create a version using \"Save & Run All\" \n",
    "# You can also write temporary files to /kaggle/temp/, but they won't be saved outside of the current session"
   ]
  },
  {
   "cell_type": "code",
   "execution_count": 2,
   "id": "320a74d1",
   "metadata": {
    "execution": {
     "iopub.execute_input": "2021-09-07T19:02:34.311134Z",
     "iopub.status.busy": "2021-09-07T19:02:34.310358Z",
     "iopub.status.idle": "2021-09-07T19:02:34.391762Z",
     "shell.execute_reply": "2021-09-07T19:02:34.391105Z",
     "shell.execute_reply.started": "2021-09-07T18:39:43.661252Z"
    },
    "papermill": {
     "duration": 0.106053,
     "end_time": "2021-09-07T19:02:34.391901",
     "exception": false,
     "start_time": "2021-09-07T19:02:34.285848",
     "status": "completed"
    },
    "tags": []
   },
   "outputs": [
    {
     "data": {
      "text/html": [
       "<div>\n",
       "<style scoped>\n",
       "    .dataframe tbody tr th:only-of-type {\n",
       "        vertical-align: middle;\n",
       "    }\n",
       "\n",
       "    .dataframe tbody tr th {\n",
       "        vertical-align: top;\n",
       "    }\n",
       "\n",
       "    .dataframe thead th {\n",
       "        text-align: right;\n",
       "    }\n",
       "</style>\n",
       "<table border=\"1\" class=\"dataframe\">\n",
       "  <thead>\n",
       "    <tr style=\"text-align: right;\">\n",
       "      <th></th>\n",
       "      <th>Poster_Link</th>\n",
       "      <th>Series_Title</th>\n",
       "      <th>Released_Year</th>\n",
       "      <th>Certificate</th>\n",
       "      <th>Runtime</th>\n",
       "      <th>Genre</th>\n",
       "      <th>IMDB_Rating</th>\n",
       "      <th>Overview</th>\n",
       "      <th>Meta_score</th>\n",
       "      <th>Director</th>\n",
       "      <th>Star1</th>\n",
       "      <th>Star2</th>\n",
       "      <th>Star3</th>\n",
       "      <th>Star4</th>\n",
       "      <th>No_of_Votes</th>\n",
       "      <th>Gross</th>\n",
       "    </tr>\n",
       "  </thead>\n",
       "  <tbody>\n",
       "    <tr>\n",
       "      <th>0</th>\n",
       "      <td>https://m.media-amazon.com/images/M/MV5BMDFkYT...</td>\n",
       "      <td>The Shawshank Redemption</td>\n",
       "      <td>1994</td>\n",
       "      <td>A</td>\n",
       "      <td>142 min</td>\n",
       "      <td>Drama</td>\n",
       "      <td>9.3</td>\n",
       "      <td>Two imprisoned men bond over a number of years...</td>\n",
       "      <td>80.0</td>\n",
       "      <td>Frank Darabont</td>\n",
       "      <td>Tim Robbins</td>\n",
       "      <td>Morgan Freeman</td>\n",
       "      <td>Bob Gunton</td>\n",
       "      <td>William Sadler</td>\n",
       "      <td>2343110</td>\n",
       "      <td>28,341,469</td>\n",
       "    </tr>\n",
       "    <tr>\n",
       "      <th>1</th>\n",
       "      <td>https://m.media-amazon.com/images/M/MV5BM2MyNj...</td>\n",
       "      <td>The Godfather</td>\n",
       "      <td>1972</td>\n",
       "      <td>A</td>\n",
       "      <td>175 min</td>\n",
       "      <td>Crime, Drama</td>\n",
       "      <td>9.2</td>\n",
       "      <td>An organized crime dynasty's aging patriarch t...</td>\n",
       "      <td>100.0</td>\n",
       "      <td>Francis Ford Coppola</td>\n",
       "      <td>Marlon Brando</td>\n",
       "      <td>Al Pacino</td>\n",
       "      <td>James Caan</td>\n",
       "      <td>Diane Keaton</td>\n",
       "      <td>1620367</td>\n",
       "      <td>134,966,411</td>\n",
       "    </tr>\n",
       "    <tr>\n",
       "      <th>2</th>\n",
       "      <td>https://m.media-amazon.com/images/M/MV5BMTMxNT...</td>\n",
       "      <td>The Dark Knight</td>\n",
       "      <td>2008</td>\n",
       "      <td>UA</td>\n",
       "      <td>152 min</td>\n",
       "      <td>Action, Crime, Drama</td>\n",
       "      <td>9.0</td>\n",
       "      <td>When the menace known as the Joker wreaks havo...</td>\n",
       "      <td>84.0</td>\n",
       "      <td>Christopher Nolan</td>\n",
       "      <td>Christian Bale</td>\n",
       "      <td>Heath Ledger</td>\n",
       "      <td>Aaron Eckhart</td>\n",
       "      <td>Michael Caine</td>\n",
       "      <td>2303232</td>\n",
       "      <td>534,858,444</td>\n",
       "    </tr>\n",
       "    <tr>\n",
       "      <th>3</th>\n",
       "      <td>https://m.media-amazon.com/images/M/MV5BMWMwMG...</td>\n",
       "      <td>The Godfather: Part II</td>\n",
       "      <td>1974</td>\n",
       "      <td>A</td>\n",
       "      <td>202 min</td>\n",
       "      <td>Crime, Drama</td>\n",
       "      <td>9.0</td>\n",
       "      <td>The early life and career of Vito Corleone in ...</td>\n",
       "      <td>90.0</td>\n",
       "      <td>Francis Ford Coppola</td>\n",
       "      <td>Al Pacino</td>\n",
       "      <td>Robert De Niro</td>\n",
       "      <td>Robert Duvall</td>\n",
       "      <td>Diane Keaton</td>\n",
       "      <td>1129952</td>\n",
       "      <td>57,300,000</td>\n",
       "    </tr>\n",
       "    <tr>\n",
       "      <th>4</th>\n",
       "      <td>https://m.media-amazon.com/images/M/MV5BMWU4N2...</td>\n",
       "      <td>12 Angry Men</td>\n",
       "      <td>1957</td>\n",
       "      <td>U</td>\n",
       "      <td>96 min</td>\n",
       "      <td>Crime, Drama</td>\n",
       "      <td>9.0</td>\n",
       "      <td>A jury holdout attempts to prevent a miscarria...</td>\n",
       "      <td>96.0</td>\n",
       "      <td>Sidney Lumet</td>\n",
       "      <td>Henry Fonda</td>\n",
       "      <td>Lee J. Cobb</td>\n",
       "      <td>Martin Balsam</td>\n",
       "      <td>John Fiedler</td>\n",
       "      <td>689845</td>\n",
       "      <td>4,360,000</td>\n",
       "    </tr>\n",
       "  </tbody>\n",
       "</table>\n",
       "</div>"
      ],
      "text/plain": [
       "                                         Poster_Link  \\\n",
       "0  https://m.media-amazon.com/images/M/MV5BMDFkYT...   \n",
       "1  https://m.media-amazon.com/images/M/MV5BM2MyNj...   \n",
       "2  https://m.media-amazon.com/images/M/MV5BMTMxNT...   \n",
       "3  https://m.media-amazon.com/images/M/MV5BMWMwMG...   \n",
       "4  https://m.media-amazon.com/images/M/MV5BMWU4N2...   \n",
       "\n",
       "               Series_Title Released_Year Certificate  Runtime  \\\n",
       "0  The Shawshank Redemption          1994           A  142 min   \n",
       "1             The Godfather          1972           A  175 min   \n",
       "2           The Dark Knight          2008          UA  152 min   \n",
       "3    The Godfather: Part II          1974           A  202 min   \n",
       "4              12 Angry Men          1957           U   96 min   \n",
       "\n",
       "                  Genre  IMDB_Rating  \\\n",
       "0                 Drama          9.3   \n",
       "1          Crime, Drama          9.2   \n",
       "2  Action, Crime, Drama          9.0   \n",
       "3          Crime, Drama          9.0   \n",
       "4          Crime, Drama          9.0   \n",
       "\n",
       "                                            Overview  Meta_score  \\\n",
       "0  Two imprisoned men bond over a number of years...        80.0   \n",
       "1  An organized crime dynasty's aging patriarch t...       100.0   \n",
       "2  When the menace known as the Joker wreaks havo...        84.0   \n",
       "3  The early life and career of Vito Corleone in ...        90.0   \n",
       "4  A jury holdout attempts to prevent a miscarria...        96.0   \n",
       "\n",
       "               Director           Star1           Star2          Star3  \\\n",
       "0        Frank Darabont     Tim Robbins  Morgan Freeman     Bob Gunton   \n",
       "1  Francis Ford Coppola   Marlon Brando       Al Pacino     James Caan   \n",
       "2     Christopher Nolan  Christian Bale    Heath Ledger  Aaron Eckhart   \n",
       "3  Francis Ford Coppola       Al Pacino  Robert De Niro  Robert Duvall   \n",
       "4          Sidney Lumet     Henry Fonda     Lee J. Cobb  Martin Balsam   \n",
       "\n",
       "            Star4  No_of_Votes        Gross  \n",
       "0  William Sadler      2343110   28,341,469  \n",
       "1    Diane Keaton      1620367  134,966,411  \n",
       "2   Michael Caine      2303232  534,858,444  \n",
       "3    Diane Keaton      1129952   57,300,000  \n",
       "4    John Fiedler       689845    4,360,000  "
      ]
     },
     "execution_count": 2,
     "metadata": {},
     "output_type": "execute_result"
    }
   ],
   "source": [
    "imdb_df  = pd.read_csv('../input/imdb-dataset-of-top-1000-movies-and-tv-shows/imdb_top_1000.csv')\n",
    "imdb_df.head()"
   ]
  },
  {
   "cell_type": "code",
   "execution_count": 3,
   "id": "cf77abca",
   "metadata": {
    "execution": {
     "iopub.execute_input": "2021-09-07T19:02:34.456743Z",
     "iopub.status.busy": "2021-09-07T19:02:34.454921Z",
     "iopub.status.idle": "2021-09-07T19:02:34.460215Z",
     "shell.execute_reply": "2021-09-07T19:02:34.460778Z",
     "shell.execute_reply.started": "2021-09-07T18:39:43.817838Z"
    },
    "papermill": {
     "duration": 0.048429,
     "end_time": "2021-09-07T19:02:34.460948",
     "exception": false,
     "start_time": "2021-09-07T19:02:34.412519",
     "status": "completed"
    },
    "tags": []
   },
   "outputs": [
    {
     "name": "stdout",
     "output_type": "stream",
     "text": [
      "<class 'pandas.core.frame.DataFrame'>\n",
      "RangeIndex: 1000 entries, 0 to 999\n",
      "Data columns (total 16 columns):\n",
      " #   Column         Non-Null Count  Dtype  \n",
      "---  ------         --------------  -----  \n",
      " 0   Poster_Link    1000 non-null   object \n",
      " 1   Series_Title   1000 non-null   object \n",
      " 2   Released_Year  1000 non-null   object \n",
      " 3   Certificate    899 non-null    object \n",
      " 4   Runtime        1000 non-null   object \n",
      " 5   Genre          1000 non-null   object \n",
      " 6   IMDB_Rating    1000 non-null   float64\n",
      " 7   Overview       1000 non-null   object \n",
      " 8   Meta_score     843 non-null    float64\n",
      " 9   Director       1000 non-null   object \n",
      " 10  Star1          1000 non-null   object \n",
      " 11  Star2          1000 non-null   object \n",
      " 12  Star3          1000 non-null   object \n",
      " 13  Star4          1000 non-null   object \n",
      " 14  No_of_Votes    1000 non-null   int64  \n",
      " 15  Gross          831 non-null    object \n",
      "dtypes: float64(2), int64(1), object(13)\n",
      "memory usage: 125.1+ KB\n"
     ]
    }
   ],
   "source": [
    "imdb_df.info()"
   ]
  },
  {
   "cell_type": "code",
   "execution_count": 4,
   "id": "f6451af7",
   "metadata": {
    "execution": {
     "iopub.execute_input": "2021-09-07T19:02:34.509162Z",
     "iopub.status.busy": "2021-09-07T19:02:34.508345Z",
     "iopub.status.idle": "2021-09-07T19:02:34.512195Z",
     "shell.execute_reply": "2021-09-07T19:02:34.511717Z",
     "shell.execute_reply.started": "2021-09-07T18:39:43.842494Z"
    },
    "papermill": {
     "duration": 0.030351,
     "end_time": "2021-09-07T19:02:34.512334",
     "exception": false,
     "start_time": "2021-09-07T19:02:34.481983",
     "status": "completed"
    },
    "tags": []
   },
   "outputs": [
    {
     "data": {
      "text/plain": [
       "array(['A', 'UA', 'U', 'PG-13', 'R', nan, 'PG', 'G', 'Passed', 'TV-14',\n",
       "       '16', 'TV-MA', 'Unrated', 'GP', 'Approved', 'TV-PG', 'U/A'],\n",
       "      dtype=object)"
      ]
     },
     "execution_count": 4,
     "metadata": {},
     "output_type": "execute_result"
    }
   ],
   "source": [
    "imdb_df.Certificate.unique()"
   ]
  },
  {
   "cell_type": "code",
   "execution_count": 5,
   "id": "aa181d36",
   "metadata": {
    "execution": {
     "iopub.execute_input": "2021-09-07T19:02:34.562738Z",
     "iopub.status.busy": "2021-09-07T19:02:34.561606Z",
     "iopub.status.idle": "2021-09-07T19:02:34.592043Z",
     "shell.execute_reply": "2021-09-07T19:02:34.591122Z",
     "shell.execute_reply.started": "2021-09-07T18:39:43.852137Z"
    },
    "papermill": {
     "duration": 0.056427,
     "end_time": "2021-09-07T19:02:34.592227",
     "exception": false,
     "start_time": "2021-09-07T19:02:34.535800",
     "status": "completed"
    },
    "tags": []
   },
   "outputs": [],
   "source": [
    "#drop null values rows\n",
    "\n",
    "imdb_df.dropna(axis= 0, inplace = True)\n"
   ]
  },
  {
   "cell_type": "code",
   "execution_count": 6,
   "id": "adf09e5e",
   "metadata": {
    "execution": {
     "iopub.execute_input": "2021-09-07T19:02:34.641188Z",
     "iopub.status.busy": "2021-09-07T19:02:34.640438Z",
     "iopub.status.idle": "2021-09-07T19:02:34.650930Z",
     "shell.execute_reply": "2021-09-07T19:02:34.650369Z",
     "shell.execute_reply.started": "2021-09-07T18:39:43.880955Z"
    },
    "papermill": {
     "duration": 0.035088,
     "end_time": "2021-09-07T19:02:34.651080",
     "exception": false,
     "start_time": "2021-09-07T19:02:34.615992",
     "status": "completed"
    },
    "tags": []
   },
   "outputs": [],
   "source": [
    "imdb_df.Gross = imdb_df.Gross.apply(lambda x : str(x).replace(',',''))"
   ]
  },
  {
   "cell_type": "code",
   "execution_count": 7,
   "id": "be717f9f",
   "metadata": {
    "execution": {
     "iopub.execute_input": "2021-09-07T19:02:34.721863Z",
     "iopub.status.busy": "2021-09-07T19:02:34.721179Z",
     "iopub.status.idle": "2021-09-07T19:02:35.067691Z",
     "shell.execute_reply": "2021-09-07T19:02:35.067142Z",
     "shell.execute_reply.started": "2021-09-07T18:47:08.895345Z"
    },
    "papermill": {
     "duration": 0.395063,
     "end_time": "2021-09-07T19:02:35.067834",
     "exception": false,
     "start_time": "2021-09-07T19:02:34.672771",
     "status": "completed"
    },
    "tags": []
   },
   "outputs": [
    {
     "data": {
      "text/plain": [
       "<seaborn.axisgrid.FacetGrid at 0x7f34c7881290>"
      ]
     },
     "execution_count": 7,
     "metadata": {},
     "output_type": "execute_result"
    },
    {
     "data": {
      "text/plain": [
       "<Figure size 2520x1080 with 0 Axes>"
      ]
     },
     "metadata": {},
     "output_type": "display_data"
    },
    {
     "data": {
      "image/png": "[encoded data removed]",
      "text/plain": [
       "<Figure size 360x360 with 1 Axes>"
      ]
     },
     "metadata": {
      "needs_background": "light"
     },
     "output_type": "display_data"
    }
   ],
   "source": [
    "plt.figure(figsize = (35,15))\n",
    "\n",
    "sns.displot(data = imdb_df, x = 'IMDB_Rating')"
   ]
  },
  {
   "cell_type": "code",
   "execution_count": 8,
   "id": "ace39cb9",
   "metadata": {
    "execution": {
     "iopub.execute_input": "2021-09-07T19:02:35.119808Z",
     "iopub.status.busy": "2021-09-07T19:02:35.118833Z",
     "iopub.status.idle": "2021-09-07T19:02:35.121902Z",
     "shell.execute_reply": "2021-09-07T19:02:35.121389Z",
     "shell.execute_reply.started": "2021-09-07T18:50:42.873015Z"
    },
    "papermill": {
     "duration": 0.031784,
     "end_time": "2021-09-07T19:02:35.122034",
     "exception": false,
     "start_time": "2021-09-07T19:02:35.090250",
     "status": "completed"
    },
    "tags": []
   },
   "outputs": [],
   "source": [
    "imdb_df.Gross = imdb_df.Gross.apply(lambda x : str(x).replace(',',''))"
   ]
  },
  {
   "cell_type": "code",
   "execution_count": 9,
   "id": "e749e03b",
   "metadata": {
    "execution": {
     "iopub.execute_input": "2021-09-07T19:02:35.170890Z",
     "iopub.status.busy": "2021-09-07T19:02:35.169943Z",
     "iopub.status.idle": "2021-09-07T19:02:35.175070Z",
     "shell.execute_reply": "2021-09-07T19:02:35.175540Z",
     "shell.execute_reply.started": "2021-09-07T18:50:44.822815Z"
    },
    "papermill": {
     "duration": 0.031187,
     "end_time": "2021-09-07T19:02:35.175711",
     "exception": false,
     "start_time": "2021-09-07T19:02:35.144524",
     "status": "completed"
    },
    "tags": []
   },
   "outputs": [],
   "source": [
    "imdb_df.Gross = imdb_df.Gross.astype('float64')"
   ]
  },
  {
   "cell_type": "code",
   "execution_count": 10,
   "id": "c5578445",
   "metadata": {
    "execution": {
     "iopub.execute_input": "2021-09-07T19:02:35.224830Z",
     "iopub.status.busy": "2021-09-07T19:02:35.224208Z",
     "iopub.status.idle": "2021-09-07T19:02:35.228929Z",
     "shell.execute_reply": "2021-09-07T19:02:35.229422Z",
     "shell.execute_reply.started": "2021-09-07T18:50:46.421943Z"
    },
    "papermill": {
     "duration": 0.031313,
     "end_time": "2021-09-07T19:02:35.229608",
     "exception": false,
     "start_time": "2021-09-07T19:02:35.198295",
     "status": "completed"
    },
    "tags": []
   },
   "outputs": [
    {
     "data": {
      "text/plain": [
       "dtype('float64')"
      ]
     },
     "execution_count": 10,
     "metadata": {},
     "output_type": "execute_result"
    }
   ],
   "source": [
    "imdb_df.Gross.dtypes"
   ]
  },
  {
   "cell_type": "code",
   "execution_count": 11,
   "id": "3c662bfa",
   "metadata": {
    "execution": {
     "iopub.execute_input": "2021-09-07T19:02:35.279843Z",
     "iopub.status.busy": "2021-09-07T19:02:35.279147Z",
     "iopub.status.idle": "2021-09-07T19:02:35.545727Z",
     "shell.execute_reply": "2021-09-07T19:02:35.544407Z",
     "shell.execute_reply.started": "2021-09-07T18:51:10.893957Z"
    },
    "papermill": {
     "duration": 0.293226,
     "end_time": "2021-09-07T19:02:35.545959",
     "exception": false,
     "start_time": "2021-09-07T19:02:35.252733",
     "status": "completed"
    },
    "tags": []
   },
   "outputs": [
    {
     "data": {
      "text/plain": [
       "<AxesSubplot:xlabel='Genre', ylabel='Gross'>"
      ]
     },
     "execution_count": 11,
     "metadata": {},
     "output_type": "execute_result"
    },
    {
     "data": {
      "image/png": "[encoded data removed]",
      "text/plain": [
       "<Figure size 1440x360 with 1 Axes>"
      ]
     },
     "metadata": {
      "needs_background": "light"
     },
     "output_type": "display_data"
    }
   ],
   "source": [
    "plt.figure(figsize = (20,5))\n",
    "sns.barplot(x = 'Genre', y = 'Gross', data = imdb_df.head(10))\n"
   ]
  },
  {
   "cell_type": "code",
   "execution_count": 12,
   "id": "314bfda1",
   "metadata": {
    "execution": {
     "iopub.execute_input": "2021-09-07T19:02:35.626199Z",
     "iopub.status.busy": "2021-09-07T19:02:35.621354Z",
     "iopub.status.idle": "2021-09-07T19:02:35.918328Z",
     "shell.execute_reply": "2021-09-07T19:02:35.918797Z",
     "shell.execute_reply.started": "2021-09-07T18:51:18.896663Z"
    },
    "papermill": {
     "duration": 0.339569,
     "end_time": "2021-09-07T19:02:35.919001",
     "exception": false,
     "start_time": "2021-09-07T19:02:35.579432",
     "status": "completed"
    },
    "tags": []
   },
   "outputs": [
    {
     "data": {
      "text/plain": [
       "<seaborn.axisgrid.FacetGrid at 0x7f34bd2813d0>"
      ]
     },
     "execution_count": 12,
     "metadata": {},
     "output_type": "execute_result"
    },
    {
     "data": {
      "image/png": "[encoded data removed]",
      "text/plain": [
       "<Figure size 360x360 with 1 Axes>"
      ]
     },
     "metadata": {
      "needs_background": "light"
     },
     "output_type": "display_data"
    }
   ],
   "source": [
    "sns.displot(x = 'IMDB_Rating', data = imdb_df, bins  = 5)"
   ]
  },
  {
   "cell_type": "code",
   "execution_count": 13,
   "id": "3f79e1c5",
   "metadata": {
    "execution": {
     "iopub.execute_input": "2021-09-07T19:02:35.973471Z",
     "iopub.status.busy": "2021-09-07T19:02:35.972750Z",
     "iopub.status.idle": "2021-09-07T19:02:35.995050Z",
     "shell.execute_reply": "2021-09-07T19:02:35.995561Z",
     "shell.execute_reply.started": "2021-09-07T18:51:23.356943Z"
    },
    "papermill": {
     "duration": 0.051392,
     "end_time": "2021-09-07T19:02:35.995748",
     "exception": false,
     "start_time": "2021-09-07T19:02:35.944356",
     "status": "completed"
    },
    "tags": []
   },
   "outputs": [
    {
     "data": {
      "text/html": [
       "<div>\n",
       "<style scoped>\n",
       "    .dataframe tbody tr th:only-of-type {\n",
       "        vertical-align: middle;\n",
       "    }\n",
       "\n",
       "    .dataframe tbody tr th {\n",
       "        vertical-align: top;\n",
       "    }\n",
       "\n",
       "    .dataframe thead th {\n",
       "        text-align: right;\n",
       "    }\n",
       "</style>\n",
       "<table border=\"1\" class=\"dataframe\">\n",
       "  <thead>\n",
       "    <tr style=\"text-align: right;\">\n",
       "      <th></th>\n",
       "      <th>IMDB_Rating</th>\n",
       "      <th>Meta_score</th>\n",
       "      <th>No_of_Votes</th>\n",
       "      <th>Gross</th>\n",
       "    </tr>\n",
       "  </thead>\n",
       "  <tbody>\n",
       "    <tr>\n",
       "      <th>count</th>\n",
       "      <td>714.000000</td>\n",
       "      <td>714.000000</td>\n",
       "      <td>7.140000e+02</td>\n",
       "      <td>7.140000e+02</td>\n",
       "    </tr>\n",
       "    <tr>\n",
       "      <th>mean</th>\n",
       "      <td>7.937115</td>\n",
       "      <td>77.158263</td>\n",
       "      <td>3.561348e+05</td>\n",
       "      <td>7.851359e+07</td>\n",
       "    </tr>\n",
       "    <tr>\n",
       "      <th>std</th>\n",
       "      <td>0.293278</td>\n",
       "      <td>12.401144</td>\n",
       "      <td>3.539011e+05</td>\n",
       "      <td>1.149780e+08</td>\n",
       "    </tr>\n",
       "    <tr>\n",
       "      <th>min</th>\n",
       "      <td>7.600000</td>\n",
       "      <td>28.000000</td>\n",
       "      <td>2.522900e+04</td>\n",
       "      <td>1.305000e+03</td>\n",
       "    </tr>\n",
       "    <tr>\n",
       "      <th>25%</th>\n",
       "      <td>7.700000</td>\n",
       "      <td>70.000000</td>\n",
       "      <td>9.600975e+04</td>\n",
       "      <td>6.157408e+06</td>\n",
       "    </tr>\n",
       "    <tr>\n",
       "      <th>50%</th>\n",
       "      <td>7.900000</td>\n",
       "      <td>78.000000</td>\n",
       "      <td>2.366025e+05</td>\n",
       "      <td>3.485015e+07</td>\n",
       "    </tr>\n",
       "    <tr>\n",
       "      <th>75%</th>\n",
       "      <td>8.100000</td>\n",
       "      <td>86.000000</td>\n",
       "      <td>5.077922e+05</td>\n",
       "      <td>1.024641e+08</td>\n",
       "    </tr>\n",
       "    <tr>\n",
       "      <th>max</th>\n",
       "      <td>9.300000</td>\n",
       "      <td>100.000000</td>\n",
       "      <td>2.343110e+06</td>\n",
       "      <td>9.366622e+08</td>\n",
       "    </tr>\n",
       "  </tbody>\n",
       "</table>\n",
       "</div>"
      ],
      "text/plain": [
       "       IMDB_Rating  Meta_score   No_of_Votes         Gross\n",
       "count   714.000000  714.000000  7.140000e+02  7.140000e+02\n",
       "mean      7.937115   77.158263  3.561348e+05  7.851359e+07\n",
       "std       0.293278   12.401144  3.539011e+05  1.149780e+08\n",
       "min       7.600000   28.000000  2.522900e+04  1.305000e+03\n",
       "25%       7.700000   70.000000  9.600975e+04  6.157408e+06\n",
       "50%       7.900000   78.000000  2.366025e+05  3.485015e+07\n",
       "75%       8.100000   86.000000  5.077922e+05  1.024641e+08\n",
       "max       9.300000  100.000000  2.343110e+06  9.366622e+08"
      ]
     },
     "execution_count": 13,
     "metadata": {},
     "output_type": "execute_result"
    }
   ],
   "source": [
    "imdb_df.describe()"
   ]
  },
  {
   "cell_type": "code",
   "execution_count": 14,
   "id": "8b99718c",
   "metadata": {
    "execution": {
     "iopub.execute_input": "2021-09-07T19:02:36.050173Z",
     "iopub.status.busy": "2021-09-07T19:02:36.049567Z",
     "iopub.status.idle": "2021-09-07T19:02:36.468553Z",
     "shell.execute_reply": "2021-09-07T19:02:36.469056Z",
     "shell.execute_reply.started": "2021-09-07T18:51:25.374124Z"
    },
    "papermill": {
     "duration": 0.448002,
     "end_time": "2021-09-07T19:02:36.469229",
     "exception": false,
     "start_time": "2021-09-07T19:02:36.021227",
     "status": "completed"
    },
    "tags": []
   },
   "outputs": [
    {
     "data": {
      "text/plain": [
       "<AxesSubplot:xlabel='Released_Year', ylabel='Gross'>"
      ]
     },
     "execution_count": 14,
     "metadata": {},
     "output_type": "execute_result"
    },
    {
     "data": {
      "image/png": "[encoded data removed]",
      "text/plain": [
       "<Figure size 1440x360 with 1 Axes>"
      ]
     },
     "metadata": {},
     "output_type": "display_data"
    }
   ],
   "source": [
    "sns.set_style('dark')\n",
    "plt.figure(figsize = (20,5))\n",
    "sns.barplot(x = 'Released_Year', y = 'Gross', data = imdb_df.sort_values('Released_Year',ascending=False).head(100))"
   ]
  },
  {
   "cell_type": "code",
   "execution_count": 15,
   "id": "c4ffd3f6",
   "metadata": {
    "execution": {
     "iopub.execute_input": "2021-09-07T19:02:36.528031Z",
     "iopub.status.busy": "2021-09-07T19:02:36.527386Z",
     "iopub.status.idle": "2021-09-07T19:02:36.530982Z",
     "shell.execute_reply": "2021-09-07T19:02:36.531429Z",
     "shell.execute_reply.started": "2021-09-07T18:52:53.008358Z"
    },
    "papermill": {
     "duration": 0.03483,
     "end_time": "2021-09-07T19:02:36.531616",
     "exception": false,
     "start_time": "2021-09-07T19:02:36.496786",
     "status": "completed"
    },
    "tags": []
   },
   "outputs": [],
   "source": [
    "#top 10 highest grossing"
   ]
  },
  {
   "cell_type": "code",
   "execution_count": 16,
   "id": "54ab4012",
   "metadata": {
    "execution": {
     "iopub.execute_input": "2021-09-07T19:02:36.592450Z",
     "iopub.status.busy": "2021-09-07T19:02:36.591508Z",
     "iopub.status.idle": "2021-09-07T19:02:36.595824Z",
     "shell.execute_reply": "2021-09-07T19:02:36.595331Z",
     "shell.execute_reply.started": "2021-09-07T18:52:54.030838Z"
    },
    "papermill": {
     "duration": 0.036217,
     "end_time": "2021-09-07T19:02:36.595965",
     "exception": false,
     "start_time": "2021-09-07T19:02:36.559748",
     "status": "completed"
    },
    "tags": []
   },
   "outputs": [
    {
     "data": {
      "text/plain": [
       "dtype('O')"
      ]
     },
     "execution_count": 16,
     "metadata": {},
     "output_type": "execute_result"
    }
   ],
   "source": [
    "imdb_df.Released_Year.dtype"
   ]
  },
  {
   "cell_type": "code",
   "execution_count": 17,
   "id": "b2c6b87a",
   "metadata": {
    "execution": {
     "iopub.execute_input": "2021-09-07T19:02:36.654725Z",
     "iopub.status.busy": "2021-09-07T19:02:36.654047Z",
     "iopub.status.idle": "2021-09-07T19:02:36.689075Z",
     "shell.execute_reply": "2021-09-07T19:02:36.689554Z",
     "shell.execute_reply.started": "2021-09-07T18:52:55.725846Z"
    },
    "papermill": {
     "duration": 0.065608,
     "end_time": "2021-09-07T19:02:36.689733",
     "exception": false,
     "start_time": "2021-09-07T19:02:36.624125",
     "status": "completed"
    },
    "tags": []
   },
   "outputs": [
    {
     "data": {
      "text/html": [
       "<div>\n",
       "<style scoped>\n",
       "    .dataframe tbody tr th:only-of-type {\n",
       "        vertical-align: middle;\n",
       "    }\n",
       "\n",
       "    .dataframe tbody tr th {\n",
       "        vertical-align: top;\n",
       "    }\n",
       "\n",
       "    .dataframe thead th {\n",
       "        text-align: right;\n",
       "    }\n",
       "</style>\n",
       "<table border=\"1\" class=\"dataframe\">\n",
       "  <thead>\n",
       "    <tr style=\"text-align: right;\">\n",
       "      <th></th>\n",
       "      <th>Poster_Link</th>\n",
       "      <th>Series_Title</th>\n",
       "      <th>Released_Year</th>\n",
       "      <th>Certificate</th>\n",
       "      <th>Runtime</th>\n",
       "      <th>Genre</th>\n",
       "      <th>IMDB_Rating</th>\n",
       "      <th>Overview</th>\n",
       "      <th>Meta_score</th>\n",
       "      <th>Director</th>\n",
       "      <th>Star1</th>\n",
       "      <th>Star2</th>\n",
       "      <th>Star3</th>\n",
       "      <th>Star4</th>\n",
       "      <th>No_of_Votes</th>\n",
       "      <th>Gross</th>\n",
       "    </tr>\n",
       "  </thead>\n",
       "  <tbody>\n",
       "    <tr>\n",
       "      <th>151</th>\n",
       "      <td>https://m.media-amazon.com/images/M/MV5BMTgxOT...</td>\n",
       "      <td>Toy Story 3</td>\n",
       "      <td>2010</td>\n",
       "      <td>U</td>\n",
       "      <td>103 min</td>\n",
       "      <td>Animation, Adventure, Comedy</td>\n",
       "      <td>8.2</td>\n",
       "      <td>The toys are mistakenly delivered to a day-car...</td>\n",
       "      <td>92.0</td>\n",
       "      <td>Lee Unkrich</td>\n",
       "      <td>Tom Hanks</td>\n",
       "      <td>Tim Allen</td>\n",
       "      <td>Joan Cusack</td>\n",
       "      <td>Ned Beatty</td>\n",
       "      <td>757032</td>\n",
       "      <td>415004880.0</td>\n",
       "    </tr>\n",
       "    <tr>\n",
       "      <th>755</th>\n",
       "      <td>https://m.media-amazon.com/images/M/MV5BMTQ2OT...</td>\n",
       "      <td>Harry Potter and the Deathly Hallows: Part 1</td>\n",
       "      <td>2010</td>\n",
       "      <td>A</td>\n",
       "      <td>146 min</td>\n",
       "      <td>Adventure, Family, Fantasy</td>\n",
       "      <td>7.7</td>\n",
       "      <td>As Harry, Ron, and Hermione race against time ...</td>\n",
       "      <td>65.0</td>\n",
       "      <td>David Yates</td>\n",
       "      <td>Daniel Radcliffe</td>\n",
       "      <td>Emma Watson</td>\n",
       "      <td>Rupert Grint</td>\n",
       "      <td>Bill Nighy</td>\n",
       "      <td>479120</td>\n",
       "      <td>295983305.0</td>\n",
       "    </tr>\n",
       "    <tr>\n",
       "      <th>8</th>\n",
       "      <td>https://m.media-amazon.com/images/M/MV5BMjAxMz...</td>\n",
       "      <td>Inception</td>\n",
       "      <td>2010</td>\n",
       "      <td>UA</td>\n",
       "      <td>148 min</td>\n",
       "      <td>Action, Adventure, Sci-Fi</td>\n",
       "      <td>8.8</td>\n",
       "      <td>A thief who steals corporate secrets through t...</td>\n",
       "      <td>74.0</td>\n",
       "      <td>Christopher Nolan</td>\n",
       "      <td>Leonardo DiCaprio</td>\n",
       "      <td>Joseph Gordon-Levitt</td>\n",
       "      <td>Elliot Page</td>\n",
       "      <td>Ken Watanabe</td>\n",
       "      <td>2067042</td>\n",
       "      <td>292576195.0</td>\n",
       "    </tr>\n",
       "    <tr>\n",
       "      <th>906</th>\n",
       "      <td>https://m.media-amazon.com/images/M/MV5BMTY3Nj...</td>\n",
       "      <td>Despicable Me</td>\n",
       "      <td>2010</td>\n",
       "      <td>U</td>\n",
       "      <td>95 min</td>\n",
       "      <td>Animation, Comedy, Crime</td>\n",
       "      <td>7.6</td>\n",
       "      <td>When a criminal mastermind uses a trio of orph...</td>\n",
       "      <td>72.0</td>\n",
       "      <td>Pierre Coffin</td>\n",
       "      <td>Chris Renaud</td>\n",
       "      <td>Steve Carell</td>\n",
       "      <td>Jason Segel</td>\n",
       "      <td>Russell Brand</td>\n",
       "      <td>500851</td>\n",
       "      <td>251513985.0</td>\n",
       "    </tr>\n",
       "    <tr>\n",
       "      <th>230</th>\n",
       "      <td>https://m.media-amazon.com/images/M/MV5BMjA5ND...</td>\n",
       "      <td>How to Train Your Dragon</td>\n",
       "      <td>2010</td>\n",
       "      <td>U</td>\n",
       "      <td>98 min</td>\n",
       "      <td>Animation, Action, Adventure</td>\n",
       "      <td>8.1</td>\n",
       "      <td>A hapless young Viking who aspires to hunt dra...</td>\n",
       "      <td>75.0</td>\n",
       "      <td>Dean DeBlois</td>\n",
       "      <td>Chris Sanders</td>\n",
       "      <td>Jay Baruchel</td>\n",
       "      <td>Gerard Butler</td>\n",
       "      <td>Christopher Mintz-Plasse</td>\n",
       "      <td>666773</td>\n",
       "      <td>217581231.0</td>\n",
       "    </tr>\n",
       "    <tr>\n",
       "      <th>771</th>\n",
       "      <td>https://m.media-amazon.com/images/M/MV5BMTAxND...</td>\n",
       "      <td>Tangled</td>\n",
       "      <td>2010</td>\n",
       "      <td>U</td>\n",
       "      <td>100 min</td>\n",
       "      <td>Animation, Adventure, Comedy</td>\n",
       "      <td>7.7</td>\n",
       "      <td>The magically long-haired Rapunzel has spent h...</td>\n",
       "      <td>71.0</td>\n",
       "      <td>Nathan Greno</td>\n",
       "      <td>Byron Howard</td>\n",
       "      <td>Mandy Moore</td>\n",
       "      <td>Zachary Levi</td>\n",
       "      <td>Donna Murphy</td>\n",
       "      <td>405922</td>\n",
       "      <td>200821936.0</td>\n",
       "    </tr>\n",
       "    <tr>\n",
       "      <th>904</th>\n",
       "      <td>https://m.media-amazon.com/images/M/MV5BODhkZD...</td>\n",
       "      <td>True Grit</td>\n",
       "      <td>2010</td>\n",
       "      <td>PG-13</td>\n",
       "      <td>110 min</td>\n",
       "      <td>Drama, Western</td>\n",
       "      <td>7.6</td>\n",
       "      <td>A stubborn teenager enlists the help of a toug...</td>\n",
       "      <td>80.0</td>\n",
       "      <td>Ethan Coen</td>\n",
       "      <td>Joel Coen</td>\n",
       "      <td>Jeff Bridges</td>\n",
       "      <td>Matt Damon</td>\n",
       "      <td>Hailee Steinfeld</td>\n",
       "      <td>311822</td>\n",
       "      <td>171243005.0</td>\n",
       "    </tr>\n",
       "    <tr>\n",
       "      <th>346</th>\n",
       "      <td>https://m.media-amazon.com/images/M/MV5BMzU5Mj...</td>\n",
       "      <td>The King's Speech</td>\n",
       "      <td>2010</td>\n",
       "      <td>U</td>\n",
       "      <td>118 min</td>\n",
       "      <td>Biography, Drama, History</td>\n",
       "      <td>8.0</td>\n",
       "      <td>The story of King George VI, his impromptu asc...</td>\n",
       "      <td>88.0</td>\n",
       "      <td>Tom Hooper</td>\n",
       "      <td>Colin Firth</td>\n",
       "      <td>Geoffrey Rush</td>\n",
       "      <td>Helena Bonham Carter</td>\n",
       "      <td>Derek Jacobi</td>\n",
       "      <td>639603</td>\n",
       "      <td>138797449.0</td>\n",
       "    </tr>\n",
       "    <tr>\n",
       "      <th>145</th>\n",
       "      <td>https://m.media-amazon.com/images/M/MV5BYzhiND...</td>\n",
       "      <td>Shutter Island</td>\n",
       "      <td>2010</td>\n",
       "      <td>A</td>\n",
       "      <td>138 min</td>\n",
       "      <td>Mystery, Thriller</td>\n",
       "      <td>8.2</td>\n",
       "      <td>In 1954, a U.S. Marshal investigates the disap...</td>\n",
       "      <td>63.0</td>\n",
       "      <td>Martin Scorsese</td>\n",
       "      <td>Leonardo DiCaprio</td>\n",
       "      <td>Emily Mortimer</td>\n",
       "      <td>Mark Ruffalo</td>\n",
       "      <td>Ben Kingsley</td>\n",
       "      <td>1129894</td>\n",
       "      <td>128012934.0</td>\n",
       "    </tr>\n",
       "    <tr>\n",
       "      <th>355</th>\n",
       "      <td>https://m.media-amazon.com/images/M/MV5BNzY2Nz...</td>\n",
       "      <td>Black Swan</td>\n",
       "      <td>2010</td>\n",
       "      <td>A</td>\n",
       "      <td>108 min</td>\n",
       "      <td>Drama, Thriller</td>\n",
       "      <td>8.0</td>\n",
       "      <td>A committed dancer struggles to maintain her s...</td>\n",
       "      <td>79.0</td>\n",
       "      <td>Darren Aronofsky</td>\n",
       "      <td>Natalie Portman</td>\n",
       "      <td>Mila Kunis</td>\n",
       "      <td>Vincent Cassel</td>\n",
       "      <td>Winona Ryder</td>\n",
       "      <td>699673</td>\n",
       "      <td>106954678.0</td>\n",
       "    </tr>\n",
       "    <tr>\n",
       "      <th>748</th>\n",
       "      <td>https://m.media-amazon.com/images/M/MV5BOGUyZD...</td>\n",
       "      <td>The Social Network</td>\n",
       "      <td>2010</td>\n",
       "      <td>UA</td>\n",
       "      <td>120 min</td>\n",
       "      <td>Biography, Drama</td>\n",
       "      <td>7.7</td>\n",
       "      <td>As Harvard student Mark Zuckerberg creates the...</td>\n",
       "      <td>95.0</td>\n",
       "      <td>David Fincher</td>\n",
       "      <td>Jesse Eisenberg</td>\n",
       "      <td>Andrew Garfield</td>\n",
       "      <td>Justin Timberlake</td>\n",
       "      <td>Rooney Mara</td>\n",
       "      <td>624982</td>\n",
       "      <td>96962694.0</td>\n",
       "    </tr>\n",
       "    <tr>\n",
       "      <th>614</th>\n",
       "      <td>https://m.media-amazon.com/images/M/MV5BMTM0OD...</td>\n",
       "      <td>The Fighter</td>\n",
       "      <td>2010</td>\n",
       "      <td>UA</td>\n",
       "      <td>116 min</td>\n",
       "      <td>Biography, Drama, Sport</td>\n",
       "      <td>7.8</td>\n",
       "      <td>Based on the story of Micky Ward, a fledgling ...</td>\n",
       "      <td>79.0</td>\n",
       "      <td>David O. Russell</td>\n",
       "      <td>Mark Wahlberg</td>\n",
       "      <td>Christian Bale</td>\n",
       "      <td>Amy Adams</td>\n",
       "      <td>Melissa Leo</td>\n",
       "      <td>340584</td>\n",
       "      <td>93617009.0</td>\n",
       "    </tr>\n",
       "    <tr>\n",
       "      <th>908</th>\n",
       "      <td>https://m.media-amazon.com/images/M/MV5BMTMzNz...</td>\n",
       "      <td>Kick-Ass</td>\n",
       "      <td>2010</td>\n",
       "      <td>UA</td>\n",
       "      <td>117 min</td>\n",
       "      <td>Action, Comedy, Crime</td>\n",
       "      <td>7.6</td>\n",
       "      <td>Dave Lizewski is an unnoticed high school stud...</td>\n",
       "      <td>66.0</td>\n",
       "      <td>Matthew Vaughn</td>\n",
       "      <td>Aaron Taylor-Johnson</td>\n",
       "      <td>Nicolas Cage</td>\n",
       "      <td>Chloë Grace Moretz</td>\n",
       "      <td>Garrett M. Brown</td>\n",
       "      <td>524081</td>\n",
       "      <td>48071303.0</td>\n",
       "    </tr>\n",
       "    <tr>\n",
       "      <th>902</th>\n",
       "      <td>https://m.media-amazon.com/images/M/MV5BZDY3ZG...</td>\n",
       "      <td>Kari-gurashi no Arietti</td>\n",
       "      <td>2010</td>\n",
       "      <td>U</td>\n",
       "      <td>94 min</td>\n",
       "      <td>Animation, Adventure, Family</td>\n",
       "      <td>7.6</td>\n",
       "      <td>The Clock family are four-inch-tall people who...</td>\n",
       "      <td>80.0</td>\n",
       "      <td>Hiromasa Yonebayashi</td>\n",
       "      <td>Amy Poehler</td>\n",
       "      <td>Mirai Shida</td>\n",
       "      <td>Ryûnosuke Kamiki</td>\n",
       "      <td>Tatsuya Fujiwara</td>\n",
       "      <td>80939</td>\n",
       "      <td>19202743.0</td>\n",
       "    </tr>\n",
       "    <tr>\n",
       "      <th>90</th>\n",
       "      <td>https://m.media-amazon.com/images/M/MV5BMWE3MG...</td>\n",
       "      <td>Incendies</td>\n",
       "      <td>2010</td>\n",
       "      <td>R</td>\n",
       "      <td>131 min</td>\n",
       "      <td>Drama, Mystery, War</td>\n",
       "      <td>8.3</td>\n",
       "      <td>Twins journey to the Middle East to discover t...</td>\n",
       "      <td>80.0</td>\n",
       "      <td>Denis Villeneuve</td>\n",
       "      <td>Lubna Azabal</td>\n",
       "      <td>Mélissa Désormeaux-Poulin</td>\n",
       "      <td>Maxim Gaudette</td>\n",
       "      <td>Mustafa Kamel</td>\n",
       "      <td>150023</td>\n",
       "      <td>6857096.0</td>\n",
       "    </tr>\n",
       "    <tr>\n",
       "      <th>352</th>\n",
       "      <td>https://m.media-amazon.com/images/M/MV5BMTUyMT...</td>\n",
       "      <td>My Name Is Khan</td>\n",
       "      <td>2010</td>\n",
       "      <td>UA</td>\n",
       "      <td>165 min</td>\n",
       "      <td>Drama</td>\n",
       "      <td>8.0</td>\n",
       "      <td>An Indian Muslim man with Asperger's syndrome ...</td>\n",
       "      <td>50.0</td>\n",
       "      <td>Karan Johar</td>\n",
       "      <td>Shah Rukh Khan</td>\n",
       "      <td>Kajol</td>\n",
       "      <td>Sheetal Menon</td>\n",
       "      <td>Katie A. Keane</td>\n",
       "      <td>98575</td>\n",
       "      <td>4018695.0</td>\n",
       "    </tr>\n",
       "    <tr>\n",
       "      <th>760</th>\n",
       "      <td>https://m.media-amazon.com/images/M/MV5BMTU2Nj...</td>\n",
       "      <td>Flipped</td>\n",
       "      <td>2010</td>\n",
       "      <td>PG</td>\n",
       "      <td>90 min</td>\n",
       "      <td>Comedy, Drama, Romance</td>\n",
       "      <td>7.7</td>\n",
       "      <td>Two eighth-graders start to have feelings for ...</td>\n",
       "      <td>45.0</td>\n",
       "      <td>Rob Reiner</td>\n",
       "      <td>Madeline Carroll</td>\n",
       "      <td>Callan McAuliffe</td>\n",
       "      <td>Rebecca De Mornay</td>\n",
       "      <td>Anthony Edwards</td>\n",
       "      <td>81446</td>\n",
       "      <td>1752214.0</td>\n",
       "    </tr>\n",
       "    <tr>\n",
       "      <th>905</th>\n",
       "      <td>https://m.media-amazon.com/images/M/MV5BNDY2OT...</td>\n",
       "      <td>Hævnen</td>\n",
       "      <td>2010</td>\n",
       "      <td>R</td>\n",
       "      <td>118 min</td>\n",
       "      <td>Drama, Romance</td>\n",
       "      <td>7.6</td>\n",
       "      <td>The lives of two Danish families cross each ot...</td>\n",
       "      <td>65.0</td>\n",
       "      <td>Susanne Bier</td>\n",
       "      <td>Mikael Persbrandt</td>\n",
       "      <td>Trine Dyrholm</td>\n",
       "      <td>Markus Rygaard</td>\n",
       "      <td>Wil Johnson</td>\n",
       "      <td>38491</td>\n",
       "      <td>1008098.0</td>\n",
       "    </tr>\n",
       "  </tbody>\n",
       "</table>\n",
       "</div>"
      ],
      "text/plain": [
       "                                           Poster_Link  \\\n",
       "151  https://m.media-amazon.com/images/M/MV5BMTgxOT...   \n",
       "755  https://m.media-amazon.com/images/M/MV5BMTQ2OT...   \n",
       "8    https://m.media-amazon.com/images/M/MV5BMjAxMz...   \n",
       "906  https://m.media-amazon.com/images/M/MV5BMTY3Nj...   \n",
       "230  https://m.media-amazon.com/images/M/MV5BMjA5ND...   \n",
       "771  https://m.media-amazon.com/images/M/MV5BMTAxND...   \n",
       "904  https://m.media-amazon.com/images/M/MV5BODhkZD...   \n",
       "346  https://m.media-amazon.com/images/M/MV5BMzU5Mj...   \n",
       "145  https://m.media-amazon.com/images/M/MV5BYzhiND...   \n",
       "355  https://m.media-amazon.com/images/M/MV5BNzY2Nz...   \n",
       "748  https://m.media-amazon.com/images/M/MV5BOGUyZD...   \n",
       "614  https://m.media-amazon.com/images/M/MV5BMTM0OD...   \n",
       "908  https://m.media-amazon.com/images/M/MV5BMTMzNz...   \n",
       "902  https://m.media-amazon.com/images/M/MV5BZDY3ZG...   \n",
       "90   https://m.media-amazon.com/images/M/MV5BMWE3MG...   \n",
       "352  https://m.media-amazon.com/images/M/MV5BMTUyMT...   \n",
       "760  https://m.media-amazon.com/images/M/MV5BMTU2Nj...   \n",
       "905  https://m.media-amazon.com/images/M/MV5BNDY2OT...   \n",
       "\n",
       "                                     Series_Title Released_Year Certificate  \\\n",
       "151                                   Toy Story 3          2010           U   \n",
       "755  Harry Potter and the Deathly Hallows: Part 1          2010           A   \n",
       "8                                       Inception          2010          UA   \n",
       "906                                 Despicable Me          2010           U   \n",
       "230                      How to Train Your Dragon          2010           U   \n",
       "771                                       Tangled          2010           U   \n",
       "904                                     True Grit          2010       PG-13   \n",
       "346                             The King's Speech          2010           U   \n",
       "145                                Shutter Island          2010           A   \n",
       "355                                    Black Swan          2010           A   \n",
       "748                            The Social Network          2010          UA   \n",
       "614                                   The Fighter          2010          UA   \n",
       "908                                      Kick-Ass          2010          UA   \n",
       "902                       Kari-gurashi no Arietti          2010           U   \n",
       "90                                      Incendies          2010           R   \n",
       "352                               My Name Is Khan          2010          UA   \n",
       "760                                       Flipped          2010          PG   \n",
       "905                                        Hævnen          2010           R   \n",
       "\n",
       "     Runtime                         Genre  IMDB_Rating  \\\n",
       "151  103 min  Animation, Adventure, Comedy          8.2   \n",
       "755  146 min    Adventure, Family, Fantasy          7.7   \n",
       "8    148 min     Action, Adventure, Sci-Fi          8.8   \n",
       "906   95 min      Animation, Comedy, Crime          7.6   \n",
       "230   98 min  Animation, Action, Adventure          8.1   \n",
       "771  100 min  Animation, Adventure, Comedy          7.7   \n",
       "904  110 min                Drama, Western          7.6   \n",
       "346  118 min     Biography, Drama, History          8.0   \n",
       "145  138 min             Mystery, Thriller          8.2   \n",
       "355  108 min               Drama, Thriller          8.0   \n",
       "748  120 min              Biography, Drama          7.7   \n",
       "614  116 min       Biography, Drama, Sport          7.8   \n",
       "908  117 min         Action, Comedy, Crime          7.6   \n",
       "902   94 min  Animation, Adventure, Family          7.6   \n",
       "90   131 min           Drama, Mystery, War          8.3   \n",
       "352  165 min                         Drama          8.0   \n",
       "760   90 min        Comedy, Drama, Romance          7.7   \n",
       "905  118 min                Drama, Romance          7.6   \n",
       "\n",
       "                                              Overview  Meta_score  \\\n",
       "151  The toys are mistakenly delivered to a day-car...        92.0   \n",
       "755  As Harry, Ron, and Hermione race against time ...        65.0   \n",
       "8    A thief who steals corporate secrets through t...        74.0   \n",
       "906  When a criminal mastermind uses a trio of orph...        72.0   \n",
       "230  A hapless young Viking who aspires to hunt dra...        75.0   \n",
       "771  The magically long-haired Rapunzel has spent h...        71.0   \n",
       "904  A stubborn teenager enlists the help of a toug...        80.0   \n",
       "346  The story of King George VI, his impromptu asc...        88.0   \n",
       "145  In 1954, a U.S. Marshal investigates the disap...        63.0   \n",
       "355  A committed dancer struggles to maintain her s...        79.0   \n",
       "748  As Harvard student Mark Zuckerberg creates the...        95.0   \n",
       "614  Based on the story of Micky Ward, a fledgling ...        79.0   \n",
       "908  Dave Lizewski is an unnoticed high school stud...        66.0   \n",
       "902  The Clock family are four-inch-tall people who...        80.0   \n",
       "90   Twins journey to the Middle East to discover t...        80.0   \n",
       "352  An Indian Muslim man with Asperger's syndrome ...        50.0   \n",
       "760  Two eighth-graders start to have feelings for ...        45.0   \n",
       "905  The lives of two Danish families cross each ot...        65.0   \n",
       "\n",
       "                 Director                 Star1                      Star2  \\\n",
       "151           Lee Unkrich             Tom Hanks                  Tim Allen   \n",
       "755           David Yates      Daniel Radcliffe                Emma Watson   \n",
       "8       Christopher Nolan     Leonardo DiCaprio       Joseph Gordon-Levitt   \n",
       "906         Pierre Coffin          Chris Renaud               Steve Carell   \n",
       "230          Dean DeBlois         Chris Sanders               Jay Baruchel   \n",
       "771          Nathan Greno          Byron Howard                Mandy Moore   \n",
       "904            Ethan Coen             Joel Coen               Jeff Bridges   \n",
       "346            Tom Hooper           Colin Firth              Geoffrey Rush   \n",
       "145       Martin Scorsese     Leonardo DiCaprio             Emily Mortimer   \n",
       "355      Darren Aronofsky       Natalie Portman                 Mila Kunis   \n",
       "748         David Fincher       Jesse Eisenberg            Andrew Garfield   \n",
       "614      David O. Russell         Mark Wahlberg             Christian Bale   \n",
       "908        Matthew Vaughn  Aaron Taylor-Johnson               Nicolas Cage   \n",
       "902  Hiromasa Yonebayashi           Amy Poehler                Mirai Shida   \n",
       "90       Denis Villeneuve          Lubna Azabal  Mélissa Désormeaux-Poulin   \n",
       "352           Karan Johar        Shah Rukh Khan                      Kajol   \n",
       "760            Rob Reiner      Madeline Carroll           Callan McAuliffe   \n",
       "905          Susanne Bier     Mikael Persbrandt              Trine Dyrholm   \n",
       "\n",
       "                    Star3                     Star4  No_of_Votes        Gross  \n",
       "151           Joan Cusack                Ned Beatty       757032  415004880.0  \n",
       "755          Rupert Grint                Bill Nighy       479120  295983305.0  \n",
       "8             Elliot Page              Ken Watanabe      2067042  292576195.0  \n",
       "906           Jason Segel             Russell Brand       500851  251513985.0  \n",
       "230         Gerard Butler  Christopher Mintz-Plasse       666773  217581231.0  \n",
       "771          Zachary Levi              Donna Murphy       405922  200821936.0  \n",
       "904            Matt Damon          Hailee Steinfeld       311822  171243005.0  \n",
       "346  Helena Bonham Carter              Derek Jacobi       639603  138797449.0  \n",
       "145          Mark Ruffalo              Ben Kingsley      1129894  128012934.0  \n",
       "355        Vincent Cassel              Winona Ryder       699673  106954678.0  \n",
       "748     Justin Timberlake               Rooney Mara       624982   96962694.0  \n",
       "614             Amy Adams               Melissa Leo       340584   93617009.0  \n",
       "908    Chloë Grace Moretz          Garrett M. Brown       524081   48071303.0  \n",
       "902      Ryûnosuke Kamiki          Tatsuya Fujiwara        80939   19202743.0  \n",
       "90         Maxim Gaudette             Mustafa Kamel       150023    6857096.0  \n",
       "352         Sheetal Menon            Katie A. Keane        98575    4018695.0  \n",
       "760     Rebecca De Mornay           Anthony Edwards        81446    1752214.0  \n",
       "905        Markus Rygaard               Wil Johnson        38491    1008098.0  "
      ]
     },
     "execution_count": 17,
     "metadata": {},
     "output_type": "execute_result"
    }
   ],
   "source": [
    "imdb_df[imdb_df.Released_Year=='2010'].sort_values(by = 'Gross', ascending = False)"
   ]
  },
  {
   "cell_type": "code",
   "execution_count": 18,
   "id": "3a150b0c",
   "metadata": {
    "execution": {
     "iopub.execute_input": "2021-09-07T19:02:36.756717Z",
     "iopub.status.busy": "2021-09-07T19:02:36.754332Z",
     "iopub.status.idle": "2021-09-07T19:02:37.039353Z",
     "shell.execute_reply": "2021-09-07T19:02:37.038793Z",
     "shell.execute_reply.started": "2021-09-07T18:53:11.213986Z"
    },
    "papermill": {
     "duration": 0.321599,
     "end_time": "2021-09-07T19:02:37.039502",
     "exception": false,
     "start_time": "2021-09-07T19:02:36.717903",
     "status": "completed"
    },
    "tags": []
   },
   "outputs": [
    {
     "data": {
      "text/plain": [
       "<AxesSubplot:xlabel='Series_Title', ylabel='Gross'>"
      ]
     },
     "execution_count": 18,
     "metadata": {},
     "output_type": "execute_result"
    },
    {
     "data": {
      "image/png": "[encoded data removed]",
      "text/plain": [
       "<Figure size 1800x360 with 1 Axes>"
      ]
     },
     "metadata": {},
     "output_type": "display_data"
    }
   ],
   "source": [
    "plt.figure(figsize=(25,5))  #Top movies in 2010\n",
    "sns.barplot(x = 'Series_Title', y = 'Gross', data = imdb_df[imdb_df.Released_Year == '2010'].sort_values('Released_Year',ascending=False).head(10))"
   ]
  },
  {
   "cell_type": "code",
   "execution_count": 19,
   "id": "f207dee9",
   "metadata": {
    "execution": {
     "iopub.execute_input": "2021-09-07T19:02:37.122452Z",
     "iopub.status.busy": "2021-09-07T19:02:37.121754Z",
     "iopub.status.idle": "2021-09-07T19:02:37.350669Z",
     "shell.execute_reply": "2021-09-07T19:02:37.351145Z",
     "shell.execute_reply.started": "2021-09-07T18:53:35.727345Z"
    },
    "papermill": {
     "duration": 0.282133,
     "end_time": "2021-09-07T19:02:37.351317",
     "exception": false,
     "start_time": "2021-09-07T19:02:37.069184",
     "status": "completed"
    },
    "tags": []
   },
   "outputs": [
    {
     "data": {
      "text/plain": [
       "<AxesSubplot:xlabel='Series_Title', ylabel='Gross'>"
      ]
     },
     "execution_count": 19,
     "metadata": {},
     "output_type": "execute_result"
    },
    {
     "data": {
      "image/png": "[encoded data removed]",
      "text/plain": [
       "<Figure size 1800x360 with 1 Axes>"
      ]
     },
     "metadata": {},
     "output_type": "display_data"
    }
   ],
   "source": [
    "plt.figure(figsize=(25,5))\n",
    "sns.barplot(x = 'Series_Title', y = 'Gross', data = imdb_df[imdb_df.Director == 'Christopher Nolan'])"
   ]
  },
  {
   "cell_type": "code",
   "execution_count": 20,
   "id": "5256a5ca",
   "metadata": {
    "execution": {
     "iopub.execute_input": "2021-09-07T19:02:37.422047Z",
     "iopub.status.busy": "2021-09-07T19:02:37.421353Z",
     "iopub.status.idle": "2021-09-07T19:02:37.809871Z",
     "shell.execute_reply": "2021-09-07T19:02:37.810372Z",
     "shell.execute_reply.started": "2021-09-07T18:56:20.237041Z"
    },
    "papermill": {
     "duration": 0.428433,
     "end_time": "2021-09-07T19:02:37.810543",
     "exception": false,
     "start_time": "2021-09-07T19:02:37.382110",
     "status": "completed"
    },
    "tags": []
   },
   "outputs": [
    {
     "data": {
      "text/plain": [
       "<AxesSubplot:xlabel='Director', ylabel='Gross'>"
      ]
     },
     "execution_count": 20,
     "metadata": {},
     "output_type": "execute_result"
    },
    {
     "data": {
      "image/png": "[encoded data removed]",
      "text/plain": [
       "<Figure size 1800x360 with 1 Axes>"
      ]
     },
     "metadata": {},
     "output_type": "display_data"
    }
   ],
   "source": [
    "plt.figure(figsize=(25,5))\n",
    "sns.barplot(x = 'Director', y = 'Gross', data = imdb_df[imdb_df.Gross > 500000000])"
   ]
  },
  {
   "cell_type": "code",
   "execution_count": 21,
   "id": "48af602f",
   "metadata": {
    "execution": {
     "iopub.execute_input": "2021-09-07T19:02:37.877860Z",
     "iopub.status.busy": "2021-09-07T19:02:37.877254Z",
     "iopub.status.idle": "2021-09-07T19:02:38.256348Z",
     "shell.execute_reply": "2021-09-07T19:02:38.256856Z",
     "shell.execute_reply.started": "2021-09-07T18:56:09.830463Z"
    },
    "papermill": {
     "duration": 0.414316,
     "end_time": "2021-09-07T19:02:38.257024",
     "exception": false,
     "start_time": "2021-09-07T19:02:37.842708",
     "status": "completed"
    },
    "tags": []
   },
   "outputs": [
    {
     "data": {
      "text/plain": [
       "<AxesSubplot:xlabel='Director', ylabel='Gross'>"
      ]
     },
     "execution_count": 21,
     "metadata": {},
     "output_type": "execute_result"
    },
    {
     "data": {
      "image/png": "[encoded data removed]",
      "text/plain": [
       "<Figure size 1800x360 with 1 Axes>"
      ]
     },
     "metadata": {},
     "output_type": "display_data"
    }
   ],
   "source": [
    "plt.figure(figsize=(25,5))\n",
    "sns.barplot(x = 'Director', y = 'Gross', data = imdb_df[imdb_df.Gross > 500000000],hue = 'Certificate')"
   ]
  },
  {
   "cell_type": "code",
   "execution_count": 22,
   "id": "d9f5206a",
   "metadata": {
    "execution": {
     "iopub.execute_input": "2021-09-07T19:02:38.326767Z",
     "iopub.status.busy": "2021-09-07T19:02:38.326157Z",
     "iopub.status.idle": "2021-09-07T19:02:38.902249Z",
     "shell.execute_reply": "2021-09-07T19:02:38.902688Z",
     "shell.execute_reply.started": "2021-09-07T18:58:06.138817Z"
    },
    "papermill": {
     "duration": 0.61239,
     "end_time": "2021-09-07T19:02:38.902904",
     "exception": false,
     "start_time": "2021-09-07T19:02:38.290514",
     "status": "completed"
    },
    "tags": []
   },
   "outputs": [
    {
     "data": {
      "text/plain": [
       "<AxesSubplot:xlabel='Certificate', ylabel='Gross'>"
      ]
     },
     "execution_count": 22,
     "metadata": {},
     "output_type": "execute_result"
    },
    {
     "data": {
      "image/png": "[encoded data removed]",
      "text/plain": [
       "<Figure size 1800x360 with 1 Axes>"
      ]
     },
     "metadata": {},
     "output_type": "display_data"
    }
   ],
   "source": [
    "plt.figure(figsize=(25,5))\n",
    "sns.barplot(x = 'Certificate', y = 'Gross', data = imdb_df)  # UA cerificate movies have significant gross revenues"
   ]
  },
  {
   "cell_type": "code",
   "execution_count": 23,
   "id": "05b774b3",
   "metadata": {
    "execution": {
     "iopub.execute_input": "2021-09-07T19:02:38.974942Z",
     "iopub.status.busy": "2021-09-07T19:02:38.974302Z",
     "iopub.status.idle": "2021-09-07T19:02:39.313075Z",
     "shell.execute_reply": "2021-09-07T19:02:39.313521Z",
     "shell.execute_reply.started": "2021-09-07T19:01:14.119709Z"
    },
    "papermill": {
     "duration": 0.376159,
     "end_time": "2021-09-07T19:02:39.313713",
     "exception": false,
     "start_time": "2021-09-07T19:02:38.937554",
     "status": "completed"
    },
    "tags": []
   },
   "outputs": [
    {
     "data": {
      "text/plain": [
       "<AxesSubplot:>"
      ]
     },
     "execution_count": 23,
     "metadata": {},
     "output_type": "execute_result"
    },
    {
     "data": {
      "image/png": "[encoded data removed]",
      "text/plain": [
       "<Figure size 432x288 with 2 Axes>"
      ]
     },
     "metadata": {},
     "output_type": "display_data"
    }
   ],
   "source": [
    "sns.heatmap(imdb_df.corr(),annot = True)"
   ]
  },
  {
   "cell_type": "code",
   "execution_count": null,
   "id": "37033678",
   "metadata": {
    "papermill": {
     "duration": 0.035706,
     "end_time": "2021-09-07T19:02:39.385363",
     "exception": false,
     "start_time": "2021-09-07T19:02:39.349657",
     "status": "completed"
    },
    "tags": []
   },
   "outputs": [],
   "source": []
  }
 ],
 "metadata": {
  "kernelspec": {
   "display_name": "Python 3",
   "language": "python",
   "name": "python3"
  },
  "language_info": {
   "codemirror_mode": {
    "name": "ipython",
    "version": 3
   },
   "file_extension": ".py",
   "mimetype": "text/x-python",
   "name": "python",
   "nbconvert_exporter": "python",
   "pygments_lexer": "ipython3",
   "version": "3.7.10"
  },
  "papermill": {
   "default_parameters": {},
   "duration": 14.715936,
   "end_time": "2021-09-07T19:02:40.130703",
   "environment_variables": {},
   "exception": null,
   "input_path": "__notebook__.ipynb",
   "output_path": "__notebook__.ipynb",
   "parameters": {},
   "start_time": "2021-09-07T19:02:25.414767",
   "version": "2.3.3"
  }
 },
 "nbformat": 4,
 "nbformat_minor": 5
}
