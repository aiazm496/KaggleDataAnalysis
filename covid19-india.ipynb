{
 "cells": [
  {
   "cell_type": "code",
   "execution_count": 1,
   "id": "235c3c19",
   "metadata": {
    "_cell_guid": "b1076dfc-b9ad-4769-8c92-a6c4dae69d19",
    "_uuid": "8f2839f25d086af736a60e9eeb907d3b93b6e0e5",
    "execution": {
     "iopub.execute_input": "2021-09-06T17:13:02.588920Z",
     "iopub.status.busy": "2021-09-06T17:13:02.587749Z",
     "iopub.status.idle": "2021-09-06T17:13:02.613869Z",
     "shell.execute_reply": "2021-09-06T17:13:02.613116Z",
     "shell.execute_reply.started": "2021-09-06T16:53:47.963272Z"
    },
    "papermill": {
     "duration": 0.043291,
     "end_time": "2021-09-06T17:13:02.614046",
     "exception": false,
     "start_time": "2021-09-06T17:13:02.570755",
     "status": "completed"
    },
    "tags": []
   },
   "outputs": [
    {
     "name": "stdout",
     "output_type": "stream",
     "text": [
      "/kaggle/input/latest-covid19-india-statewise-data/Latest Covid-19 India Status.csv\n"
     ]
    }
   ],
   "source": [
    "# This Python 3 environment comes with many helpful analytics libraries installed\n",
    "# It is defined by the kaggle/python Docker image: https://github.com/kaggle/docker-python\n",
    "# For example, here's several helpful packages to load\n",
    "\n",
    "import numpy as np # linear algebra\n",
    "import pandas as pd # data processing, CSV file I/O (e.g. pd.read_csv)\n",
    "\n",
    "# Input data files are available in the read-only \"../input/\" directory\n",
    "# For example, running this (by clicking run or pressing Shift+Enter) will list all files under the input directory\n",
    "\n",
    "import os\n",
    "for dirname, _, filenames in os.walk('/kaggle/input'):\n",
    "    for filename in filenames:\n",
    "        print(os.path.join(dirname, filename))\n",
    "\n",
    "# You can write up to 20GB to the current directory (/kaggle/working/) that gets preserved as output when you create a version using \"Save & Run All\" \n",
    "# You can also write temporary files to /kaggle/temp/, but they won't be saved outside of the current session"
   ]
  },
  {
   "cell_type": "code",
   "execution_count": 2,
   "id": "2b76561d",
   "metadata": {
    "execution": {
     "iopub.execute_input": "2021-09-06T17:13:02.646442Z",
     "iopub.status.busy": "2021-09-06T17:13:02.645800Z",
     "iopub.status.idle": "2021-09-06T17:13:02.786733Z",
     "shell.execute_reply": "2021-09-06T17:13:02.786197Z",
     "shell.execute_reply.started": "2021-09-06T16:53:47.974048Z"
    },
    "papermill": {
     "duration": 0.158869,
     "end_time": "2021-09-06T17:13:02.786885",
     "exception": false,
     "start_time": "2021-09-06T17:13:02.628016",
     "status": "completed"
    },
    "tags": []
   },
   "outputs": [
    {
     "data": {
      "text/html": [
       "<div>\n",
       "<style scoped>\n",
       "    .dataframe tbody tr th:only-of-type {\n",
       "        vertical-align: middle;\n",
       "    }\n",
       "\n",
       "    .dataframe tbody tr th {\n",
       "        vertical-align: top;\n",
       "    }\n",
       "\n",
       "    .dataframe thead th {\n",
       "        text-align: right;\n",
       "    }\n",
       "</style>\n",
       "<table border=\"1\" class=\"dataframe\">\n",
       "  <thead>\n",
       "    <tr style=\"text-align: right;\">\n",
       "      <th></th>\n",
       "      <th>State/UTs</th>\n",
       "      <th>Total Cases</th>\n",
       "      <th>Active</th>\n",
       "      <th>Discharged</th>\n",
       "      <th>Deaths</th>\n",
       "      <th>Active Ratio (%)</th>\n",
       "      <th>Discharge Ratio (%)</th>\n",
       "      <th>Death Ratio (%)</th>\n",
       "    </tr>\n",
       "  </thead>\n",
       "  <tbody>\n",
       "    <tr>\n",
       "      <th>0</th>\n",
       "      <td>Andaman and Nicobar</td>\n",
       "      <td>7566</td>\n",
       "      <td>6</td>\n",
       "      <td>7431</td>\n",
       "      <td>129</td>\n",
       "      <td>0.08</td>\n",
       "      <td>98.22</td>\n",
       "      <td>1.70</td>\n",
       "    </tr>\n",
       "    <tr>\n",
       "      <th>1</th>\n",
       "      <td>Andhra Pradesh</td>\n",
       "      <td>2014116</td>\n",
       "      <td>14693</td>\n",
       "      <td>1985566</td>\n",
       "      <td>13857</td>\n",
       "      <td>0.73</td>\n",
       "      <td>98.58</td>\n",
       "      <td>0.69</td>\n",
       "    </tr>\n",
       "    <tr>\n",
       "      <th>2</th>\n",
       "      <td>Arunachal Pradesh</td>\n",
       "      <td>53031</td>\n",
       "      <td>863</td>\n",
       "      <td>51908</td>\n",
       "      <td>260</td>\n",
       "      <td>1.63</td>\n",
       "      <td>97.88</td>\n",
       "      <td>0.49</td>\n",
       "    </tr>\n",
       "    <tr>\n",
       "      <th>3</th>\n",
       "      <td>Assam</td>\n",
       "      <td>589426</td>\n",
       "      <td>6901</td>\n",
       "      <td>576865</td>\n",
       "      <td>5660</td>\n",
       "      <td>1.17</td>\n",
       "      <td>97.87</td>\n",
       "      <td>0.96</td>\n",
       "    </tr>\n",
       "    <tr>\n",
       "      <th>4</th>\n",
       "      <td>Bihar</td>\n",
       "      <td>725708</td>\n",
       "      <td>100</td>\n",
       "      <td>715955</td>\n",
       "      <td>9653</td>\n",
       "      <td>0.01</td>\n",
       "      <td>98.66</td>\n",
       "      <td>1.33</td>\n",
       "    </tr>\n",
       "  </tbody>\n",
       "</table>\n",
       "</div>"
      ],
      "text/plain": [
       "             State/UTs  Total Cases  Active  Discharged  Deaths  \\\n",
       "0  Andaman and Nicobar         7566       6        7431     129   \n",
       "1       Andhra Pradesh      2014116   14693     1985566   13857   \n",
       "2    Arunachal Pradesh        53031     863       51908     260   \n",
       "3                Assam       589426    6901      576865    5660   \n",
       "4                Bihar       725708     100      715955    9653   \n",
       "\n",
       "   Active Ratio (%)  Discharge Ratio (%)  Death Ratio (%)  \n",
       "0              0.08                98.22             1.70  \n",
       "1              0.73                98.58             0.69  \n",
       "2              1.63                97.88             0.49  \n",
       "3              1.17                97.87             0.96  \n",
       "4              0.01                98.66             1.33  "
      ]
     },
     "execution_count": 2,
     "metadata": {},
     "output_type": "execute_result"
    }
   ],
   "source": [
    "covid_data = pd.read_csv('../input/latest-covid19-india-statewise-data/Latest Covid-19 India Status.csv')\n",
    "covid_data.head()"
   ]
  },
  {
   "cell_type": "code",
   "execution_count": 3,
   "id": "965f556e",
   "metadata": {
    "execution": {
     "iopub.execute_input": "2021-09-06T17:13:02.818909Z",
     "iopub.status.busy": "2021-09-06T17:13:02.818234Z",
     "iopub.status.idle": "2021-09-06T17:13:03.756664Z",
     "shell.execute_reply": "2021-09-06T17:13:03.756083Z",
     "shell.execute_reply.started": "2021-09-06T16:53:48.006207Z"
    },
    "papermill": {
     "duration": 0.957579,
     "end_time": "2021-09-06T17:13:03.756821",
     "exception": false,
     "start_time": "2021-09-06T17:13:02.799242",
     "status": "completed"
    },
    "tags": []
   },
   "outputs": [],
   "source": [
    "import seaborn as sns\n",
    "import matplotlib.pyplot as plt"
   ]
  },
  {
   "cell_type": "code",
   "execution_count": 4,
   "id": "f5db6228",
   "metadata": {
    "execution": {
     "iopub.execute_input": "2021-09-06T17:13:03.791950Z",
     "iopub.status.busy": "2021-09-06T17:13:03.791224Z",
     "iopub.status.idle": "2021-09-06T17:13:03.795417Z",
     "shell.execute_reply": "2021-09-06T17:13:03.794737Z",
     "shell.execute_reply.started": "2021-09-06T17:07:00.879872Z"
    },
    "papermill": {
     "duration": 0.02637,
     "end_time": "2021-09-06T17:13:03.795573",
     "exception": false,
     "start_time": "2021-09-06T17:13:03.769203",
     "status": "completed"
    },
    "tags": []
   },
   "outputs": [
    {
     "data": {
      "text/plain": [
       "State/UTs              0\n",
       "Total Cases            0\n",
       "Active                 0\n",
       "Discharged             0\n",
       "Deaths                 0\n",
       "Active Ratio (%)       0\n",
       "Discharge Ratio (%)    0\n",
       "Death Ratio (%)        0\n",
       "dtype: int64"
      ]
     },
     "execution_count": 4,
     "metadata": {},
     "output_type": "execute_result"
    }
   ],
   "source": [
    "covid_data.isnull().sum()  #no null value in any column"
   ]
  },
  {
   "cell_type": "code",
   "execution_count": 5,
   "id": "63eef6eb",
   "metadata": {
    "execution": {
     "iopub.execute_input": "2021-09-06T17:13:03.838467Z",
     "iopub.status.busy": "2021-09-06T17:13:03.837275Z",
     "iopub.status.idle": "2021-09-06T17:13:04.416449Z",
     "shell.execute_reply": "2021-09-06T17:13:04.415899Z",
     "shell.execute_reply.started": "2021-09-06T16:53:48.930193Z"
    },
    "papermill": {
     "duration": 0.608215,
     "end_time": "2021-09-06T17:13:04.416642",
     "exception": false,
     "start_time": "2021-09-06T17:13:03.808427",
     "status": "completed"
    },
    "tags": []
   },
   "outputs": [
    {
     "data": {
      "text/plain": [
       "<AxesSubplot:xlabel='State/UTs', ylabel='Total Cases'>"
      ]
     },
     "execution_count": 5,
     "metadata": {},
     "output_type": "execute_result"
    },
    {
     "data": {
      "image/png": "[encoded data removed]",
      "text/plain": [
       "<Figure size 2160x360 with 1 Axes>"
      ]
     },
     "metadata": {
      "needs_background": "light"
     },
     "output_type": "display_data"
    }
   ],
   "source": [
    "plt.figure(figsize = (30,5))\n",
    "sns.barplot(data = covid_data, x = 'State/UTs', y = 'Total Cases')"
   ]
  },
  {
   "cell_type": "code",
   "execution_count": 6,
   "id": "6c831951",
   "metadata": {
    "execution": {
     "iopub.execute_input": "2021-09-06T17:13:04.461685Z",
     "iopub.status.busy": "2021-09-06T17:13:04.456568Z",
     "iopub.status.idle": "2021-09-06T17:13:04.466656Z",
     "shell.execute_reply": "2021-09-06T17:13:04.466111Z",
     "shell.execute_reply.started": "2021-09-06T16:53:49.527654Z"
    },
    "papermill": {
     "duration": 0.035885,
     "end_time": "2021-09-06T17:13:04.466816",
     "exception": false,
     "start_time": "2021-09-06T17:13:04.430931",
     "status": "completed"
    },
    "tags": []
   },
   "outputs": [
    {
     "data": {
      "text/html": [
       "<div>\n",
       "<style scoped>\n",
       "    .dataframe tbody tr th:only-of-type {\n",
       "        vertical-align: middle;\n",
       "    }\n",
       "\n",
       "    .dataframe tbody tr th {\n",
       "        vertical-align: top;\n",
       "    }\n",
       "\n",
       "    .dataframe thead th {\n",
       "        text-align: right;\n",
       "    }\n",
       "</style>\n",
       "<table border=\"1\" class=\"dataframe\">\n",
       "  <thead>\n",
       "    <tr style=\"text-align: right;\">\n",
       "      <th></th>\n",
       "      <th>State/UTs</th>\n",
       "      <th>Total Cases</th>\n",
       "      <th>Active</th>\n",
       "      <th>Discharged</th>\n",
       "      <th>Deaths</th>\n",
       "      <th>Active Ratio (%)</th>\n",
       "      <th>Discharge Ratio (%)</th>\n",
       "      <th>Death Ratio (%)</th>\n",
       "    </tr>\n",
       "  </thead>\n",
       "  <tbody>\n",
       "    <tr>\n",
       "      <th>16</th>\n",
       "      <td>Kerala</td>\n",
       "      <td>4057233</td>\n",
       "      <td>219441</td>\n",
       "      <td>3817004</td>\n",
       "      <td>20788</td>\n",
       "      <td>5.41</td>\n",
       "      <td>94.08</td>\n",
       "      <td>0.51</td>\n",
       "    </tr>\n",
       "    <tr>\n",
       "      <th>20</th>\n",
       "      <td>Maharashtra</td>\n",
       "      <td>6464876</td>\n",
       "      <td>54763</td>\n",
       "      <td>6272800</td>\n",
       "      <td>137313</td>\n",
       "      <td>0.85</td>\n",
       "      <td>97.03</td>\n",
       "      <td>2.12</td>\n",
       "    </tr>\n",
       "    <tr>\n",
       "      <th>15</th>\n",
       "      <td>Karnataka</td>\n",
       "      <td>2949445</td>\n",
       "      <td>18412</td>\n",
       "      <td>2893715</td>\n",
       "      <td>37318</td>\n",
       "      <td>0.62</td>\n",
       "      <td>98.11</td>\n",
       "      <td>1.27</td>\n",
       "    </tr>\n",
       "    <tr>\n",
       "      <th>30</th>\n",
       "      <td>Tamil Nadu</td>\n",
       "      <td>2614872</td>\n",
       "      <td>16850</td>\n",
       "      <td>2563101</td>\n",
       "      <td>34921</td>\n",
       "      <td>0.64</td>\n",
       "      <td>98.02</td>\n",
       "      <td>1.34</td>\n",
       "    </tr>\n",
       "    <tr>\n",
       "      <th>1</th>\n",
       "      <td>Andhra Pradesh</td>\n",
       "      <td>2014116</td>\n",
       "      <td>14693</td>\n",
       "      <td>1985566</td>\n",
       "      <td>13857</td>\n",
       "      <td>0.73</td>\n",
       "      <td>98.58</td>\n",
       "      <td>0.69</td>\n",
       "    </tr>\n",
       "  </tbody>\n",
       "</table>\n",
       "</div>"
      ],
      "text/plain": [
       "         State/UTs  Total Cases  Active  Discharged  Deaths  Active Ratio (%)  \\\n",
       "16          Kerala      4057233  219441     3817004   20788              5.41   \n",
       "20     Maharashtra      6464876   54763     6272800  137313              0.85   \n",
       "15       Karnataka      2949445   18412     2893715   37318              0.62   \n",
       "30      Tamil Nadu      2614872   16850     2563101   34921              0.64   \n",
       "1   Andhra Pradesh      2014116   14693     1985566   13857              0.73   \n",
       "\n",
       "    Discharge Ratio (%)  Death Ratio (%)  \n",
       "16                94.08             0.51  \n",
       "20                97.03             2.12  \n",
       "15                98.11             1.27  \n",
       "30                98.02             1.34  \n",
       "1                 98.58             0.69  "
      ]
     },
     "execution_count": 6,
     "metadata": {},
     "output_type": "execute_result"
    }
   ],
   "source": [
    "covid_data.sort_values(by = 'Active',ascending=False).head()  #top-5 states/uts with Highest Active cases"
   ]
  },
  {
   "cell_type": "code",
   "execution_count": 7,
   "id": "c892bebe",
   "metadata": {
    "execution": {
     "iopub.execute_input": "2021-09-06T17:13:04.511577Z",
     "iopub.status.busy": "2021-09-06T17:13:04.510979Z",
     "iopub.status.idle": "2021-09-06T17:13:04.516757Z",
     "shell.execute_reply": "2021-09-06T17:13:04.516136Z",
     "shell.execute_reply.started": "2021-09-06T16:56:47.408262Z"
    },
    "papermill": {
     "duration": 0.035554,
     "end_time": "2021-09-06T17:13:04.516890",
     "exception": false,
     "start_time": "2021-09-06T17:13:04.481336",
     "status": "completed"
    },
    "tags": []
   },
   "outputs": [
    {
     "data": {
      "text/html": [
       "<div>\n",
       "<style scoped>\n",
       "    .dataframe tbody tr th:only-of-type {\n",
       "        vertical-align: middle;\n",
       "    }\n",
       "\n",
       "    .dataframe tbody tr th {\n",
       "        vertical-align: top;\n",
       "    }\n",
       "\n",
       "    .dataframe thead th {\n",
       "        text-align: right;\n",
       "    }\n",
       "</style>\n",
       "<table border=\"1\" class=\"dataframe\">\n",
       "  <thead>\n",
       "    <tr style=\"text-align: right;\">\n",
       "      <th></th>\n",
       "      <th>State/UTs</th>\n",
       "      <th>Total Cases</th>\n",
       "      <th>Active</th>\n",
       "      <th>Discharged</th>\n",
       "      <th>Deaths</th>\n",
       "      <th>Active Ratio (%)</th>\n",
       "      <th>Discharge Ratio (%)</th>\n",
       "      <th>Death Ratio (%)</th>\n",
       "    </tr>\n",
       "  </thead>\n",
       "  <tbody>\n",
       "    <tr>\n",
       "      <th>7</th>\n",
       "      <td>Dadra and Nagar Haveli and Daman and Diu</td>\n",
       "      <td>10663</td>\n",
       "      <td>4</td>\n",
       "      <td>10655</td>\n",
       "      <td>4</td>\n",
       "      <td>0.04</td>\n",
       "      <td>99.92</td>\n",
       "      <td>0.04</td>\n",
       "    </tr>\n",
       "    <tr>\n",
       "      <th>0</th>\n",
       "      <td>Andaman and Nicobar</td>\n",
       "      <td>7566</td>\n",
       "      <td>6</td>\n",
       "      <td>7431</td>\n",
       "      <td>129</td>\n",
       "      <td>0.08</td>\n",
       "      <td>98.22</td>\n",
       "      <td>1.70</td>\n",
       "    </tr>\n",
       "    <tr>\n",
       "      <th>18</th>\n",
       "      <td>Lakshadweep</td>\n",
       "      <td>10347</td>\n",
       "      <td>31</td>\n",
       "      <td>10265</td>\n",
       "      <td>51</td>\n",
       "      <td>0.30</td>\n",
       "      <td>99.21</td>\n",
       "      <td>0.49</td>\n",
       "    </tr>\n",
       "    <tr>\n",
       "      <th>5</th>\n",
       "      <td>Chandigarh</td>\n",
       "      <td>65105</td>\n",
       "      <td>40</td>\n",
       "      <td>64252</td>\n",
       "      <td>813</td>\n",
       "      <td>0.06</td>\n",
       "      <td>98.69</td>\n",
       "      <td>1.25</td>\n",
       "    </tr>\n",
       "    <tr>\n",
       "      <th>17</th>\n",
       "      <td>Ladakh</td>\n",
       "      <td>20560</td>\n",
       "      <td>69</td>\n",
       "      <td>20284</td>\n",
       "      <td>207</td>\n",
       "      <td>0.34</td>\n",
       "      <td>98.66</td>\n",
       "      <td>1.01</td>\n",
       "    </tr>\n",
       "  </tbody>\n",
       "</table>\n",
       "</div>"
      ],
      "text/plain": [
       "                                   State/UTs  Total Cases  Active  Discharged  \\\n",
       "7   Dadra and Nagar Haveli and Daman and Diu        10663       4       10655   \n",
       "0                        Andaman and Nicobar         7566       6        7431   \n",
       "18                               Lakshadweep        10347      31       10265   \n",
       "5                                 Chandigarh        65105      40       64252   \n",
       "17                                    Ladakh        20560      69       20284   \n",
       "\n",
       "    Deaths  Active Ratio (%)  Discharge Ratio (%)  Death Ratio (%)  \n",
       "7        4              0.04                99.92             0.04  \n",
       "0      129              0.08                98.22             1.70  \n",
       "18      51              0.30                99.21             0.49  \n",
       "5      813              0.06                98.69             1.25  \n",
       "17     207              0.34                98.66             1.01  "
      ]
     },
     "execution_count": 7,
     "metadata": {},
     "output_type": "execute_result"
    }
   ],
   "source": [
    "covid_data.sort_values(by = 'Active').head()  #top-5 states/uts with Lowest Active cases"
   ]
  },
  {
   "cell_type": "code",
   "execution_count": 8,
   "id": "b22fdf50",
   "metadata": {
    "execution": {
     "iopub.execute_input": "2021-09-06T17:13:04.563514Z",
     "iopub.status.busy": "2021-09-06T17:13:04.562514Z",
     "iopub.status.idle": "2021-09-06T17:13:04.566923Z",
     "shell.execute_reply": "2021-09-06T17:13:04.566386Z",
     "shell.execute_reply.started": "2021-09-06T16:54:50.152579Z"
    },
    "papermill": {
     "duration": 0.035471,
     "end_time": "2021-09-06T17:13:04.567071",
     "exception": false,
     "start_time": "2021-09-06T17:13:04.531600",
     "status": "completed"
    },
    "tags": []
   },
   "outputs": [
    {
     "data": {
      "text/html": [
       "<div>\n",
       "<style scoped>\n",
       "    .dataframe tbody tr th:only-of-type {\n",
       "        vertical-align: middle;\n",
       "    }\n",
       "\n",
       "    .dataframe tbody tr th {\n",
       "        vertical-align: top;\n",
       "    }\n",
       "\n",
       "    .dataframe thead th {\n",
       "        text-align: right;\n",
       "    }\n",
       "</style>\n",
       "<table border=\"1\" class=\"dataframe\">\n",
       "  <thead>\n",
       "    <tr style=\"text-align: right;\">\n",
       "      <th></th>\n",
       "      <th>State/UTs</th>\n",
       "      <th>Total Cases</th>\n",
       "      <th>Active</th>\n",
       "      <th>Discharged</th>\n",
       "      <th>Deaths</th>\n",
       "      <th>Active Ratio (%)</th>\n",
       "      <th>Discharge Ratio (%)</th>\n",
       "      <th>Death Ratio (%)</th>\n",
       "    </tr>\n",
       "  </thead>\n",
       "  <tbody>\n",
       "    <tr>\n",
       "      <th>20</th>\n",
       "      <td>Maharashtra</td>\n",
       "      <td>6464876</td>\n",
       "      <td>54763</td>\n",
       "      <td>6272800</td>\n",
       "      <td>137313</td>\n",
       "      <td>0.85</td>\n",
       "      <td>97.03</td>\n",
       "      <td>2.12</td>\n",
       "    </tr>\n",
       "    <tr>\n",
       "      <th>15</th>\n",
       "      <td>Karnataka</td>\n",
       "      <td>2949445</td>\n",
       "      <td>18412</td>\n",
       "      <td>2893715</td>\n",
       "      <td>37318</td>\n",
       "      <td>0.62</td>\n",
       "      <td>98.11</td>\n",
       "      <td>1.27</td>\n",
       "    </tr>\n",
       "    <tr>\n",
       "      <th>30</th>\n",
       "      <td>Tamil Nadu</td>\n",
       "      <td>2614872</td>\n",
       "      <td>16850</td>\n",
       "      <td>2563101</td>\n",
       "      <td>34921</td>\n",
       "      <td>0.64</td>\n",
       "      <td>98.02</td>\n",
       "      <td>1.34</td>\n",
       "    </tr>\n",
       "    <tr>\n",
       "      <th>8</th>\n",
       "      <td>Delhi</td>\n",
       "      <td>1437764</td>\n",
       "      <td>349</td>\n",
       "      <td>1412333</td>\n",
       "      <td>25082</td>\n",
       "      <td>0.02</td>\n",
       "      <td>98.23</td>\n",
       "      <td>1.74</td>\n",
       "    </tr>\n",
       "    <tr>\n",
       "      <th>33</th>\n",
       "      <td>Uttar Pradesh</td>\n",
       "      <td>1709335</td>\n",
       "      <td>256</td>\n",
       "      <td>1686256</td>\n",
       "      <td>22823</td>\n",
       "      <td>0.01</td>\n",
       "      <td>98.65</td>\n",
       "      <td>1.34</td>\n",
       "    </tr>\n",
       "  </tbody>\n",
       "</table>\n",
       "</div>"
      ],
      "text/plain": [
       "        State/UTs  Total Cases  Active  Discharged  Deaths  Active Ratio (%)  \\\n",
       "20    Maharashtra      6464876   54763     6272800  137313              0.85   \n",
       "15      Karnataka      2949445   18412     2893715   37318              0.62   \n",
       "30     Tamil Nadu      2614872   16850     2563101   34921              0.64   \n",
       "8           Delhi      1437764     349     1412333   25082              0.02   \n",
       "33  Uttar Pradesh      1709335     256     1686256   22823              0.01   \n",
       "\n",
       "    Discharge Ratio (%)  Death Ratio (%)  \n",
       "20                97.03             2.12  \n",
       "15                98.11             1.27  \n",
       "30                98.02             1.34  \n",
       "8                 98.23             1.74  \n",
       "33                98.65             1.34  "
      ]
     },
     "execution_count": 8,
     "metadata": {},
     "output_type": "execute_result"
    }
   ],
   "source": [
    "covid_data.sort_values(by = 'Deaths',ascending=False).head()  #top-5 states/uts with Highest deaths"
   ]
  },
  {
   "cell_type": "code",
   "execution_count": 9,
   "id": "201a5984",
   "metadata": {
    "execution": {
     "iopub.execute_input": "2021-09-06T17:13:04.614302Z",
     "iopub.status.busy": "2021-09-06T17:13:04.613350Z",
     "iopub.status.idle": "2021-09-06T17:13:04.618393Z",
     "shell.execute_reply": "2021-09-06T17:13:04.617810Z",
     "shell.execute_reply.started": "2021-09-06T16:55:54.478117Z"
    },
    "papermill": {
     "duration": 0.035708,
     "end_time": "2021-09-06T17:13:04.618544",
     "exception": false,
     "start_time": "2021-09-06T17:13:04.582836",
     "status": "completed"
    },
    "tags": []
   },
   "outputs": [
    {
     "data": {
      "text/html": [
       "<div>\n",
       "<style scoped>\n",
       "    .dataframe tbody tr th:only-of-type {\n",
       "        vertical-align: middle;\n",
       "    }\n",
       "\n",
       "    .dataframe tbody tr th {\n",
       "        vertical-align: top;\n",
       "    }\n",
       "\n",
       "    .dataframe thead th {\n",
       "        text-align: right;\n",
       "    }\n",
       "</style>\n",
       "<table border=\"1\" class=\"dataframe\">\n",
       "  <thead>\n",
       "    <tr style=\"text-align: right;\">\n",
       "      <th></th>\n",
       "      <th>State/UTs</th>\n",
       "      <th>Total Cases</th>\n",
       "      <th>Active</th>\n",
       "      <th>Discharged</th>\n",
       "      <th>Deaths</th>\n",
       "      <th>Active Ratio (%)</th>\n",
       "      <th>Discharge Ratio (%)</th>\n",
       "      <th>Death Ratio (%)</th>\n",
       "    </tr>\n",
       "  </thead>\n",
       "  <tbody>\n",
       "    <tr>\n",
       "      <th>7</th>\n",
       "      <td>Dadra and Nagar Haveli and Daman and Diu</td>\n",
       "      <td>10663</td>\n",
       "      <td>4</td>\n",
       "      <td>10655</td>\n",
       "      <td>4</td>\n",
       "      <td>0.04</td>\n",
       "      <td>99.92</td>\n",
       "      <td>0.04</td>\n",
       "    </tr>\n",
       "    <tr>\n",
       "      <th>18</th>\n",
       "      <td>Lakshadweep</td>\n",
       "      <td>10347</td>\n",
       "      <td>31</td>\n",
       "      <td>10265</td>\n",
       "      <td>51</td>\n",
       "      <td>0.30</td>\n",
       "      <td>99.21</td>\n",
       "      <td>0.49</td>\n",
       "    </tr>\n",
       "    <tr>\n",
       "      <th>28</th>\n",
       "      <td>Rajasthan</td>\n",
       "      <td>954095</td>\n",
       "      <td>97</td>\n",
       "      <td>945044</td>\n",
       "      <td>8954</td>\n",
       "      <td>0.01</td>\n",
       "      <td>99.05</td>\n",
       "      <td>0.94</td>\n",
       "    </tr>\n",
       "    <tr>\n",
       "      <th>10</th>\n",
       "      <td>Gujarat</td>\n",
       "      <td>825422</td>\n",
       "      <td>150</td>\n",
       "      <td>815191</td>\n",
       "      <td>10081</td>\n",
       "      <td>0.02</td>\n",
       "      <td>98.76</td>\n",
       "      <td>1.22</td>\n",
       "    </tr>\n",
       "    <tr>\n",
       "      <th>5</th>\n",
       "      <td>Chandigarh</td>\n",
       "      <td>65105</td>\n",
       "      <td>40</td>\n",
       "      <td>64252</td>\n",
       "      <td>813</td>\n",
       "      <td>0.06</td>\n",
       "      <td>98.69</td>\n",
       "      <td>1.25</td>\n",
       "    </tr>\n",
       "  </tbody>\n",
       "</table>\n",
       "</div>"
      ],
      "text/plain": [
       "                                   State/UTs  Total Cases  Active  Discharged  \\\n",
       "7   Dadra and Nagar Haveli and Daman and Diu        10663       4       10655   \n",
       "18                               Lakshadweep        10347      31       10265   \n",
       "28                                 Rajasthan       954095      97      945044   \n",
       "10                                   Gujarat       825422     150      815191   \n",
       "5                                 Chandigarh        65105      40       64252   \n",
       "\n",
       "    Deaths  Active Ratio (%)  Discharge Ratio (%)  Death Ratio (%)  \n",
       "7        4              0.04                99.92             0.04  \n",
       "18      51              0.30                99.21             0.49  \n",
       "28    8954              0.01                99.05             0.94  \n",
       "10   10081              0.02                98.76             1.22  \n",
       "5      813              0.06                98.69             1.25  "
      ]
     },
     "execution_count": 9,
     "metadata": {},
     "output_type": "execute_result"
    }
   ],
   "source": [
    "covid_data.sort_values(by = 'Discharge Ratio (%)',ascending=False).head()  #top-5 states/uts with Highest Discharge Ratio"
   ]
  },
  {
   "cell_type": "code",
   "execution_count": 10,
   "id": "0b0089a6",
   "metadata": {
    "execution": {
     "iopub.execute_input": "2021-09-06T17:13:04.665476Z",
     "iopub.status.busy": "2021-09-06T17:13:04.656049Z",
     "iopub.status.idle": "2021-09-06T17:13:04.670101Z",
     "shell.execute_reply": "2021-09-06T17:13:04.670523Z",
     "shell.execute_reply.started": "2021-09-06T16:59:33.829081Z"
    },
    "papermill": {
     "duration": 0.035469,
     "end_time": "2021-09-06T17:13:04.670734",
     "exception": false,
     "start_time": "2021-09-06T17:13:04.635265",
     "status": "completed"
    },
    "tags": []
   },
   "outputs": [
    {
     "data": {
      "text/html": [
       "<div>\n",
       "<style scoped>\n",
       "    .dataframe tbody tr th:only-of-type {\n",
       "        vertical-align: middle;\n",
       "    }\n",
       "\n",
       "    .dataframe tbody tr th {\n",
       "        vertical-align: top;\n",
       "    }\n",
       "\n",
       "    .dataframe thead th {\n",
       "        text-align: right;\n",
       "    }\n",
       "</style>\n",
       "<table border=\"1\" class=\"dataframe\">\n",
       "  <thead>\n",
       "    <tr style=\"text-align: right;\">\n",
       "      <th></th>\n",
       "      <th>State/UTs</th>\n",
       "      <th>Total Cases</th>\n",
       "      <th>Active</th>\n",
       "      <th>Discharged</th>\n",
       "      <th>Deaths</th>\n",
       "      <th>Active Ratio (%)</th>\n",
       "      <th>Discharge Ratio (%)</th>\n",
       "      <th>Death Ratio (%)</th>\n",
       "    </tr>\n",
       "  </thead>\n",
       "  <tbody>\n",
       "    <tr>\n",
       "      <th>7</th>\n",
       "      <td>Dadra and Nagar Haveli and Daman and Diu</td>\n",
       "      <td>10663</td>\n",
       "      <td>4</td>\n",
       "      <td>10655</td>\n",
       "      <td>4</td>\n",
       "      <td>0.04</td>\n",
       "      <td>99.92</td>\n",
       "      <td>0.04</td>\n",
       "    </tr>\n",
       "    <tr>\n",
       "      <th>23</th>\n",
       "      <td>Mizoram</td>\n",
       "      <td>59119</td>\n",
       "      <td>8885</td>\n",
       "      <td>50017</td>\n",
       "      <td>217</td>\n",
       "      <td>15.03</td>\n",
       "      <td>84.60</td>\n",
       "      <td>0.37</td>\n",
       "    </tr>\n",
       "    <tr>\n",
       "      <th>2</th>\n",
       "      <td>Arunachal Pradesh</td>\n",
       "      <td>53031</td>\n",
       "      <td>863</td>\n",
       "      <td>51908</td>\n",
       "      <td>260</td>\n",
       "      <td>1.63</td>\n",
       "      <td>97.88</td>\n",
       "      <td>0.49</td>\n",
       "    </tr>\n",
       "    <tr>\n",
       "      <th>18</th>\n",
       "      <td>Lakshadweep</td>\n",
       "      <td>10347</td>\n",
       "      <td>31</td>\n",
       "      <td>10265</td>\n",
       "      <td>51</td>\n",
       "      <td>0.30</td>\n",
       "      <td>99.21</td>\n",
       "      <td>0.49</td>\n",
       "    </tr>\n",
       "    <tr>\n",
       "      <th>16</th>\n",
       "      <td>Kerala</td>\n",
       "      <td>4057233</td>\n",
       "      <td>219441</td>\n",
       "      <td>3817004</td>\n",
       "      <td>20788</td>\n",
       "      <td>5.41</td>\n",
       "      <td>94.08</td>\n",
       "      <td>0.51</td>\n",
       "    </tr>\n",
       "  </tbody>\n",
       "</table>\n",
       "</div>"
      ],
      "text/plain": [
       "                                   State/UTs  Total Cases  Active  Discharged  \\\n",
       "7   Dadra and Nagar Haveli and Daman and Diu        10663       4       10655   \n",
       "23                                   Mizoram        59119    8885       50017   \n",
       "2                          Arunachal Pradesh        53031     863       51908   \n",
       "18                               Lakshadweep        10347      31       10265   \n",
       "16                                    Kerala      4057233  219441     3817004   \n",
       "\n",
       "    Deaths  Active Ratio (%)  Discharge Ratio (%)  Death Ratio (%)  \n",
       "7        4              0.04                99.92             0.04  \n",
       "23     217             15.03                84.60             0.37  \n",
       "2      260              1.63                97.88             0.49  \n",
       "18      51              0.30                99.21             0.49  \n",
       "16   20788              5.41                94.08             0.51  "
      ]
     },
     "execution_count": 10,
     "metadata": {},
     "output_type": "execute_result"
    }
   ],
   "source": [
    "covid_data.sort_values(by = 'Death Ratio (%)').head()  #top-5 states/uts with lowest Death Ratio."
   ]
  },
  {
   "cell_type": "code",
   "execution_count": 11,
   "id": "0da537af",
   "metadata": {
    "execution": {
     "iopub.execute_input": "2021-09-06T17:13:04.719786Z",
     "iopub.status.busy": "2021-09-06T17:13:04.718900Z",
     "iopub.status.idle": "2021-09-06T17:13:04.723374Z",
     "shell.execute_reply": "2021-09-06T17:13:04.722759Z",
     "shell.execute_reply.started": "2021-09-06T17:10:18.034180Z"
    },
    "papermill": {
     "duration": 0.036355,
     "end_time": "2021-09-06T17:13:04.723527",
     "exception": false,
     "start_time": "2021-09-06T17:13:04.687172",
     "status": "completed"
    },
    "tags": []
   },
   "outputs": [
    {
     "data": {
      "text/html": [
       "<div>\n",
       "<style scoped>\n",
       "    .dataframe tbody tr th:only-of-type {\n",
       "        vertical-align: middle;\n",
       "    }\n",
       "\n",
       "    .dataframe tbody tr th {\n",
       "        vertical-align: top;\n",
       "    }\n",
       "\n",
       "    .dataframe thead th {\n",
       "        text-align: right;\n",
       "    }\n",
       "</style>\n",
       "<table border=\"1\" class=\"dataframe\">\n",
       "  <thead>\n",
       "    <tr style=\"text-align: right;\">\n",
       "      <th></th>\n",
       "      <th>Total Cases</th>\n",
       "      <th>Active</th>\n",
       "      <th>Discharged</th>\n",
       "      <th>Deaths</th>\n",
       "      <th>Active Ratio (%)</th>\n",
       "      <th>Discharge Ratio (%)</th>\n",
       "      <th>Death Ratio (%)</th>\n",
       "    </tr>\n",
       "  </thead>\n",
       "  <tbody>\n",
       "    <tr>\n",
       "      <th>Total Cases</th>\n",
       "      <td>1.000000</td>\n",
       "      <td>0.611215</td>\n",
       "      <td>0.999838</td>\n",
       "      <td>0.900046</td>\n",
       "      <td>-0.027254</td>\n",
       "      <td>0.008484</td>\n",
       "      <td>0.089691</td>\n",
       "    </tr>\n",
       "    <tr>\n",
       "      <th>Active</th>\n",
       "      <td>0.611215</td>\n",
       "      <td>1.000000</td>\n",
       "      <td>0.597580</td>\n",
       "      <td>0.303463</td>\n",
       "      <td>0.282188</td>\n",
       "      <td>-0.251663</td>\n",
       "      <td>-0.190999</td>\n",
       "    </tr>\n",
       "    <tr>\n",
       "      <th>Discharged</th>\n",
       "      <td>0.999838</td>\n",
       "      <td>0.597580</td>\n",
       "      <td>1.000000</td>\n",
       "      <td>0.903537</td>\n",
       "      <td>-0.034539</td>\n",
       "      <td>0.015363</td>\n",
       "      <td>0.092881</td>\n",
       "    </tr>\n",
       "    <tr>\n",
       "      <th>Deaths</th>\n",
       "      <td>0.900046</td>\n",
       "      <td>0.303463</td>\n",
       "      <td>0.903537</td>\n",
       "      <td>1.000000</td>\n",
       "      <td>-0.096621</td>\n",
       "      <td>0.035855</td>\n",
       "      <td>0.293068</td>\n",
       "    </tr>\n",
       "    <tr>\n",
       "      <th>Active Ratio (%)</th>\n",
       "      <td>-0.027254</td>\n",
       "      <td>0.282188</td>\n",
       "      <td>-0.034539</td>\n",
       "      <td>-0.096621</td>\n",
       "      <td>1.000000</td>\n",
       "      <td>-0.977407</td>\n",
       "      <td>-0.288829</td>\n",
       "    </tr>\n",
       "    <tr>\n",
       "      <th>Discharge Ratio (%)</th>\n",
       "      <td>0.008484</td>\n",
       "      <td>-0.251663</td>\n",
       "      <td>0.015363</td>\n",
       "      <td>0.035855</td>\n",
       "      <td>-0.977407</td>\n",
       "      <td>1.000000</td>\n",
       "      <td>0.079953</td>\n",
       "    </tr>\n",
       "    <tr>\n",
       "      <th>Death Ratio (%)</th>\n",
       "      <td>0.089691</td>\n",
       "      <td>-0.190999</td>\n",
       "      <td>0.092881</td>\n",
       "      <td>0.293068</td>\n",
       "      <td>-0.288829</td>\n",
       "      <td>0.079953</td>\n",
       "      <td>1.000000</td>\n",
       "    </tr>\n",
       "  </tbody>\n",
       "</table>\n",
       "</div>"
      ],
      "text/plain": [
       "                     Total Cases    Active  Discharged    Deaths  \\\n",
       "Total Cases             1.000000  0.611215    0.999838  0.900046   \n",
       "Active                  0.611215  1.000000    0.597580  0.303463   \n",
       "Discharged              0.999838  0.597580    1.000000  0.903537   \n",
       "Deaths                  0.900046  0.303463    0.903537  1.000000   \n",
       "Active Ratio (%)       -0.027254  0.282188   -0.034539 -0.096621   \n",
       "Discharge Ratio (%)     0.008484 -0.251663    0.015363  0.035855   \n",
       "Death Ratio (%)         0.089691 -0.190999    0.092881  0.293068   \n",
       "\n",
       "                     Active Ratio (%)  Discharge Ratio (%)  Death Ratio (%)  \n",
       "Total Cases                 -0.027254             0.008484         0.089691  \n",
       "Active                       0.282188            -0.251663        -0.190999  \n",
       "Discharged                  -0.034539             0.015363         0.092881  \n",
       "Deaths                      -0.096621             0.035855         0.293068  \n",
       "Active Ratio (%)             1.000000            -0.977407        -0.288829  \n",
       "Discharge Ratio (%)         -0.977407             1.000000         0.079953  \n",
       "Death Ratio (%)             -0.288829             0.079953         1.000000  "
      ]
     },
     "execution_count": 11,
     "metadata": {},
     "output_type": "execute_result"
    }
   ],
   "source": [
    "covid_data.corr()"
   ]
  },
  {
   "cell_type": "code",
   "execution_count": 12,
   "id": "f99a92e7",
   "metadata": {
    "execution": {
     "iopub.execute_input": "2021-09-06T17:13:04.781246Z",
     "iopub.status.busy": "2021-09-06T17:13:04.780218Z",
     "iopub.status.idle": "2021-09-06T17:13:05.383540Z",
     "shell.execute_reply": "2021-09-06T17:13:05.384049Z",
     "shell.execute_reply.started": "2021-09-06T17:12:13.696284Z"
    },
    "papermill": {
     "duration": 0.644054,
     "end_time": "2021-09-06T17:13:05.384223",
     "exception": false,
     "start_time": "2021-09-06T17:13:04.740169",
     "status": "completed"
    },
    "tags": []
   },
   "outputs": [
    {
     "data": {
      "text/plain": [
       "<AxesSubplot:>"
      ]
     },
     "execution_count": 12,
     "metadata": {},
     "output_type": "execute_result"
    },
    {
     "data": {
      "image/png": "[encoded data removed]",
      "text/plain": [
       "<Figure size 1080x360 with 2 Axes>"
      ]
     },
     "metadata": {
      "needs_background": "light"
     },
     "output_type": "display_data"
    }
   ],
   "source": [
    "plt.figure(figsize = (15,5))\n",
    "\n",
    "sns.heatmap(data = covid_data.corr(),annot = True)"
   ]
  },
  {
   "cell_type": "code",
   "execution_count": null,
   "id": "9bc13d67",
   "metadata": {
    "papermill": {
     "duration": 0.018229,
     "end_time": "2021-09-06T17:13:05.421318",
     "exception": false,
     "start_time": "2021-09-06T17:13:05.403089",
     "status": "completed"
    },
    "tags": []
   },
   "outputs": [],
   "source": []
  }
 ],
 "metadata": {
  "kernelspec": {
   "display_name": "Python 3",
   "language": "python",
   "name": "python3"
  },
  "language_info": {
   "codemirror_mode": {
    "name": "ipython",
    "version": 3
   },
   "file_extension": ".py",
   "mimetype": "text/x-python",
   "name": "python",
   "nbconvert_exporter": "python",
   "pygments_lexer": "ipython3",
   "version": "3.7.10"
  },
  "papermill": {
   "default_parameters": {},
   "duration": 12.862081,
   "end_time": "2021-09-06T17:13:06.984797",
   "environment_variables": {},
   "exception": null,
   "input_path": "__notebook__.ipynb",
   "output_path": "__notebook__.ipynb",
   "parameters": {},
   "start_time": "2021-09-06T17:12:54.122716",
   "version": "2.3.3"
  }
 },
 "nbformat": 4,
 "nbformat_minor": 5
}
