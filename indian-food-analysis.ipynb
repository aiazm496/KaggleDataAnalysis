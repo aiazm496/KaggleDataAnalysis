{
 "cells": [
  {
   "cell_type": "code",
   "execution_count": 1,
   "id": "da0f81c6",
   "metadata": {
    "_cell_guid": "b1076dfc-b9ad-4769-8c92-a6c4dae69d19",
    "_uuid": "8f2839f25d086af736a60e9eeb907d3b93b6e0e5",
    "execution": {
     "iopub.execute_input": "2021-09-10T16:01:47.790957Z",
     "iopub.status.busy": "2021-09-10T16:01:47.786614Z",
     "iopub.status.idle": "2021-09-10T16:01:48.706033Z",
     "shell.execute_reply": "2021-09-10T16:01:48.705229Z",
     "shell.execute_reply.started": "2021-09-10T15:13:51.139460Z"
    },
    "papermill": {
     "duration": 0.952159,
     "end_time": "2021-09-10T16:01:48.706243",
     "exception": false,
     "start_time": "2021-09-10T16:01:47.754084",
     "status": "completed"
    },
    "tags": []
   },
   "outputs": [
    {
     "name": "stdout",
     "output_type": "stream",
     "text": [
      "/kaggle/input/indian-food-101/indian_food.csv\n"
     ]
    }
   ],
   "source": [
    "# This Python 3 environment comes with many helpful analytics libraries installed\n",
    "# It is defined by the kaggle/python Docker image: https://github.com/kaggle/docker-python\n",
    "# For example, here's several helpful packages to load\n",
    "\n",
    "import numpy as np # linear algebra\n",
    "import pandas as pd # data processing, CSV file I/O (e.g. pd.read_csv)\n",
    "import matplotlib.pyplot as plt\n",
    "import seaborn as sns\n",
    "\n",
    "# Input data files are available in the read-only \"../input/\" directory\n",
    "# For example, running this (by clicking run or pressing Shift+Enter) will list all files under the input directory\n",
    "\n",
    "import os\n",
    "for dirname, _, filenames in os.walk('/kaggle/input'):\n",
    "    for filename in filenames:\n",
    "        print(os.path.join(dirname, filename))\n",
    "\n",
    "# You can write up to 20GB to the current directory (/kaggle/working/) that gets preserved as output when you create a version using \"Save & Run All\" \n",
    "# You can also write temporary files to /kaggle/temp/, but they won't be saved outside of the current session"
   ]
  },
  {
   "cell_type": "code",
   "execution_count": 2,
   "id": "7df7d891",
   "metadata": {
    "execution": {
     "iopub.execute_input": "2021-09-10T16:01:48.758611Z",
     "iopub.status.busy": "2021-09-10T16:01:48.757950Z",
     "iopub.status.idle": "2021-09-10T16:01:48.790589Z",
     "shell.execute_reply": "2021-09-10T16:01:48.791201Z",
     "shell.execute_reply.started": "2021-09-10T15:13:52.169730Z"
    },
    "papermill": {
     "duration": 0.061278,
     "end_time": "2021-09-10T16:01:48.791385",
     "exception": false,
     "start_time": "2021-09-10T16:01:48.730107",
     "status": "completed"
    },
    "tags": []
   },
   "outputs": [
    {
     "data": {
      "text/html": [
       "<div>\n",
       "<style scoped>\n",
       "    .dataframe tbody tr th:only-of-type {\n",
       "        vertical-align: middle;\n",
       "    }\n",
       "\n",
       "    .dataframe tbody tr th {\n",
       "        vertical-align: top;\n",
       "    }\n",
       "\n",
       "    .dataframe thead th {\n",
       "        text-align: right;\n",
       "    }\n",
       "</style>\n",
       "<table border=\"1\" class=\"dataframe\">\n",
       "  <thead>\n",
       "    <tr style=\"text-align: right;\">\n",
       "      <th></th>\n",
       "      <th>name</th>\n",
       "      <th>ingredients</th>\n",
       "      <th>diet</th>\n",
       "      <th>prep_time</th>\n",
       "      <th>cook_time</th>\n",
       "      <th>flavor_profile</th>\n",
       "      <th>course</th>\n",
       "      <th>state</th>\n",
       "      <th>region</th>\n",
       "    </tr>\n",
       "  </thead>\n",
       "  <tbody>\n",
       "    <tr>\n",
       "      <th>0</th>\n",
       "      <td>Balu shahi</td>\n",
       "      <td>Maida flour, yogurt, oil, sugar</td>\n",
       "      <td>vegetarian</td>\n",
       "      <td>45</td>\n",
       "      <td>25</td>\n",
       "      <td>sweet</td>\n",
       "      <td>dessert</td>\n",
       "      <td>West Bengal</td>\n",
       "      <td>East</td>\n",
       "    </tr>\n",
       "    <tr>\n",
       "      <th>1</th>\n",
       "      <td>Boondi</td>\n",
       "      <td>Gram flour, ghee, sugar</td>\n",
       "      <td>vegetarian</td>\n",
       "      <td>80</td>\n",
       "      <td>30</td>\n",
       "      <td>sweet</td>\n",
       "      <td>dessert</td>\n",
       "      <td>Rajasthan</td>\n",
       "      <td>West</td>\n",
       "    </tr>\n",
       "    <tr>\n",
       "      <th>2</th>\n",
       "      <td>Gajar ka halwa</td>\n",
       "      <td>Carrots, milk, sugar, ghee, cashews, raisins</td>\n",
       "      <td>vegetarian</td>\n",
       "      <td>15</td>\n",
       "      <td>60</td>\n",
       "      <td>sweet</td>\n",
       "      <td>dessert</td>\n",
       "      <td>Punjab</td>\n",
       "      <td>North</td>\n",
       "    </tr>\n",
       "    <tr>\n",
       "      <th>3</th>\n",
       "      <td>Ghevar</td>\n",
       "      <td>Flour, ghee, kewra, milk, clarified butter, su...</td>\n",
       "      <td>vegetarian</td>\n",
       "      <td>15</td>\n",
       "      <td>30</td>\n",
       "      <td>sweet</td>\n",
       "      <td>dessert</td>\n",
       "      <td>Rajasthan</td>\n",
       "      <td>West</td>\n",
       "    </tr>\n",
       "    <tr>\n",
       "      <th>4</th>\n",
       "      <td>Gulab jamun</td>\n",
       "      <td>Milk powder, plain flour, baking powder, ghee,...</td>\n",
       "      <td>vegetarian</td>\n",
       "      <td>15</td>\n",
       "      <td>40</td>\n",
       "      <td>sweet</td>\n",
       "      <td>dessert</td>\n",
       "      <td>West Bengal</td>\n",
       "      <td>East</td>\n",
       "    </tr>\n",
       "  </tbody>\n",
       "</table>\n",
       "</div>"
      ],
      "text/plain": [
       "             name                                        ingredients  \\\n",
       "0      Balu shahi                    Maida flour, yogurt, oil, sugar   \n",
       "1          Boondi                            Gram flour, ghee, sugar   \n",
       "2  Gajar ka halwa       Carrots, milk, sugar, ghee, cashews, raisins   \n",
       "3          Ghevar  Flour, ghee, kewra, milk, clarified butter, su...   \n",
       "4     Gulab jamun  Milk powder, plain flour, baking powder, ghee,...   \n",
       "\n",
       "         diet  prep_time  cook_time flavor_profile   course        state  \\\n",
       "0  vegetarian         45         25          sweet  dessert  West Bengal   \n",
       "1  vegetarian         80         30          sweet  dessert    Rajasthan   \n",
       "2  vegetarian         15         60          sweet  dessert       Punjab   \n",
       "3  vegetarian         15         30          sweet  dessert    Rajasthan   \n",
       "4  vegetarian         15         40          sweet  dessert  West Bengal   \n",
       "\n",
       "  region  \n",
       "0   East  \n",
       "1   West  \n",
       "2  North  \n",
       "3   West  \n",
       "4   East  "
      ]
     },
     "execution_count": 2,
     "metadata": {},
     "output_type": "execute_result"
    }
   ],
   "source": [
    "food_data = pd.read_csv('../input/indian-food-101/indian_food.csv')\n",
    "food_data.head()"
   ]
  },
  {
   "cell_type": "code",
   "execution_count": 3,
   "id": "b4b80875",
   "metadata": {
    "execution": {
     "iopub.execute_input": "2021-09-10T16:01:48.863309Z",
     "iopub.status.busy": "2021-09-10T16:01:48.862570Z",
     "iopub.status.idle": "2021-09-10T16:01:48.866595Z",
     "shell.execute_reply": "2021-09-10T16:01:48.866078Z",
     "shell.execute_reply.started": "2021-09-10T15:13:52.214226Z"
    },
    "papermill": {
     "duration": 0.052397,
     "end_time": "2021-09-10T16:01:48.866799",
     "exception": false,
     "start_time": "2021-09-10T16:01:48.814402",
     "status": "completed"
    },
    "tags": []
   },
   "outputs": [
    {
     "name": "stdout",
     "output_type": "stream",
     "text": [
      "<class 'pandas.core.frame.DataFrame'>\n",
      "RangeIndex: 255 entries, 0 to 254\n",
      "Data columns (total 9 columns):\n",
      " #   Column          Non-Null Count  Dtype \n",
      "---  ------          --------------  ----- \n",
      " 0   name            255 non-null    object\n",
      " 1   ingredients     255 non-null    object\n",
      " 2   diet            255 non-null    object\n",
      " 3   prep_time       255 non-null    int64 \n",
      " 4   cook_time       255 non-null    int64 \n",
      " 5   flavor_profile  255 non-null    object\n",
      " 6   course          255 non-null    object\n",
      " 7   state           255 non-null    object\n",
      " 8   region          254 non-null    object\n",
      "dtypes: int64(2), object(7)\n",
      "memory usage: 18.1+ KB\n"
     ]
    }
   ],
   "source": [
    "food_data.info()"
   ]
  },
  {
   "cell_type": "code",
   "execution_count": 4,
   "id": "dcac0e77",
   "metadata": {
    "execution": {
     "iopub.execute_input": "2021-09-10T16:01:48.927259Z",
     "iopub.status.busy": "2021-09-10T16:01:48.926489Z",
     "iopub.status.idle": "2021-09-10T16:01:48.931195Z",
     "shell.execute_reply": "2021-09-10T16:01:48.930510Z",
     "shell.execute_reply.started": "2021-09-10T15:13:52.246405Z"
    },
    "papermill": {
     "duration": 0.04213,
     "end_time": "2021-09-10T16:01:48.931344",
     "exception": false,
     "start_time": "2021-09-10T16:01:48.889214",
     "status": "completed"
    },
    "tags": []
   },
   "outputs": [
    {
     "data": {
      "text/html": [
       "<div>\n",
       "<style scoped>\n",
       "    .dataframe tbody tr th:only-of-type {\n",
       "        vertical-align: middle;\n",
       "    }\n",
       "\n",
       "    .dataframe tbody tr th {\n",
       "        vertical-align: top;\n",
       "    }\n",
       "\n",
       "    .dataframe thead th {\n",
       "        text-align: right;\n",
       "    }\n",
       "</style>\n",
       "<table border=\"1\" class=\"dataframe\">\n",
       "  <thead>\n",
       "    <tr style=\"text-align: right;\">\n",
       "      <th></th>\n",
       "      <th>name</th>\n",
       "      <th>ingredients</th>\n",
       "      <th>diet</th>\n",
       "      <th>prep_time</th>\n",
       "      <th>cook_time</th>\n",
       "      <th>flavor_profile</th>\n",
       "      <th>course</th>\n",
       "      <th>state</th>\n",
       "      <th>region</th>\n",
       "    </tr>\n",
       "  </thead>\n",
       "  <tbody>\n",
       "    <tr>\n",
       "      <th>110</th>\n",
       "      <td>Panjeeri</td>\n",
       "      <td>Whole wheat flour, musk melon seeds, poppy see...</td>\n",
       "      <td>vegetarian</td>\n",
       "      <td>10</td>\n",
       "      <td>25</td>\n",
       "      <td>sweet</td>\n",
       "      <td>dessert</td>\n",
       "      <td>Uttar Pradesh</td>\n",
       "      <td>NaN</td>\n",
       "    </tr>\n",
       "  </tbody>\n",
       "</table>\n",
       "</div>"
      ],
      "text/plain": [
       "         name                                        ingredients        diet  \\\n",
       "110  Panjeeri  Whole wheat flour, musk melon seeds, poppy see...  vegetarian   \n",
       "\n",
       "     prep_time  cook_time flavor_profile   course          state region  \n",
       "110         10         25          sweet  dessert  Uttar Pradesh    NaN  "
      ]
     },
     "execution_count": 4,
     "metadata": {},
     "output_type": "execute_result"
    }
   ],
   "source": [
    "food_data[food_data['region'].isnull()]"
   ]
  },
  {
   "cell_type": "code",
   "execution_count": 5,
   "id": "7ca97bd8",
   "metadata": {
    "execution": {
     "iopub.execute_input": "2021-09-10T16:01:48.986001Z",
     "iopub.status.busy": "2021-09-10T16:01:48.985337Z",
     "iopub.status.idle": "2021-09-10T16:01:48.987562Z",
     "shell.execute_reply": "2021-09-10T16:01:48.988028Z",
     "shell.execute_reply.started": "2021-09-10T15:13:52.262414Z"
    },
    "papermill": {
     "duration": 0.031868,
     "end_time": "2021-09-10T16:01:48.988216",
     "exception": false,
     "start_time": "2021-09-10T16:01:48.956348",
     "status": "completed"
    },
    "tags": []
   },
   "outputs": [],
   "source": [
    "#since, the missing region value is from UP, so replacing it with North\n",
    "food_data.region.fillna('North',inplace=True)"
   ]
  },
  {
   "cell_type": "code",
   "execution_count": 6,
   "id": "c785160a",
   "metadata": {
    "execution": {
     "iopub.execute_input": "2021-09-10T16:01:49.042050Z",
     "iopub.status.busy": "2021-09-10T16:01:49.041299Z",
     "iopub.status.idle": "2021-09-10T16:01:49.044546Z",
     "shell.execute_reply": "2021-09-10T16:01:49.043891Z",
     "shell.execute_reply.started": "2021-09-10T15:13:52.276829Z"
    },
    "papermill": {
     "duration": 0.030988,
     "end_time": "2021-09-10T16:01:49.044700",
     "exception": false,
     "start_time": "2021-09-10T16:01:49.013712",
     "status": "completed"
    },
    "tags": []
   },
   "outputs": [],
   "source": [
    "#let's add a column as total time which will be sum of both\n",
    "# preparation and cooking tim"
   ]
  },
  {
   "cell_type": "code",
   "execution_count": 7,
   "id": "c304b240",
   "metadata": {
    "execution": {
     "iopub.execute_input": "2021-09-10T16:01:49.100410Z",
     "iopub.status.busy": "2021-09-10T16:01:49.099549Z",
     "iopub.status.idle": "2021-09-10T16:01:49.102871Z",
     "shell.execute_reply": "2021-09-10T16:01:49.102150Z",
     "shell.execute_reply.started": "2021-09-10T15:13:52.290441Z"
    },
    "papermill": {
     "duration": 0.033976,
     "end_time": "2021-09-10T16:01:49.103034",
     "exception": false,
     "start_time": "2021-09-10T16:01:49.069058",
     "status": "completed"
    },
    "tags": []
   },
   "outputs": [],
   "source": [
    "food_data['Total time']  = food_data['prep_time'] + food_data['cook_time']"
   ]
  },
  {
   "cell_type": "code",
   "execution_count": 8,
   "id": "d50dbb37",
   "metadata": {
    "execution": {
     "iopub.execute_input": "2021-09-10T16:01:49.167462Z",
     "iopub.status.busy": "2021-09-10T16:01:49.166575Z",
     "iopub.status.idle": "2021-09-10T16:01:49.170707Z",
     "shell.execute_reply": "2021-09-10T16:01:49.170065Z",
     "shell.execute_reply.started": "2021-09-10T15:13:52.305499Z"
    },
    "papermill": {
     "duration": 0.042918,
     "end_time": "2021-09-10T16:01:49.170862",
     "exception": false,
     "start_time": "2021-09-10T16:01:49.127944",
     "status": "completed"
    },
    "tags": []
   },
   "outputs": [
    {
     "data": {
      "text/html": [
       "<div>\n",
       "<style scoped>\n",
       "    .dataframe tbody tr th:only-of-type {\n",
       "        vertical-align: middle;\n",
       "    }\n",
       "\n",
       "    .dataframe tbody tr th {\n",
       "        vertical-align: top;\n",
       "    }\n",
       "\n",
       "    .dataframe thead th {\n",
       "        text-align: right;\n",
       "    }\n",
       "</style>\n",
       "<table border=\"1\" class=\"dataframe\">\n",
       "  <thead>\n",
       "    <tr style=\"text-align: right;\">\n",
       "      <th></th>\n",
       "      <th>name</th>\n",
       "      <th>ingredients</th>\n",
       "      <th>diet</th>\n",
       "      <th>prep_time</th>\n",
       "      <th>cook_time</th>\n",
       "      <th>flavor_profile</th>\n",
       "      <th>course</th>\n",
       "      <th>state</th>\n",
       "      <th>region</th>\n",
       "      <th>Total time</th>\n",
       "    </tr>\n",
       "  </thead>\n",
       "  <tbody>\n",
       "    <tr>\n",
       "      <th>0</th>\n",
       "      <td>Balu shahi</td>\n",
       "      <td>Maida flour, yogurt, oil, sugar</td>\n",
       "      <td>vegetarian</td>\n",
       "      <td>45</td>\n",
       "      <td>25</td>\n",
       "      <td>sweet</td>\n",
       "      <td>dessert</td>\n",
       "      <td>West Bengal</td>\n",
       "      <td>East</td>\n",
       "      <td>70</td>\n",
       "    </tr>\n",
       "    <tr>\n",
       "      <th>1</th>\n",
       "      <td>Boondi</td>\n",
       "      <td>Gram flour, ghee, sugar</td>\n",
       "      <td>vegetarian</td>\n",
       "      <td>80</td>\n",
       "      <td>30</td>\n",
       "      <td>sweet</td>\n",
       "      <td>dessert</td>\n",
       "      <td>Rajasthan</td>\n",
       "      <td>West</td>\n",
       "      <td>110</td>\n",
       "    </tr>\n",
       "    <tr>\n",
       "      <th>2</th>\n",
       "      <td>Gajar ka halwa</td>\n",
       "      <td>Carrots, milk, sugar, ghee, cashews, raisins</td>\n",
       "      <td>vegetarian</td>\n",
       "      <td>15</td>\n",
       "      <td>60</td>\n",
       "      <td>sweet</td>\n",
       "      <td>dessert</td>\n",
       "      <td>Punjab</td>\n",
       "      <td>North</td>\n",
       "      <td>75</td>\n",
       "    </tr>\n",
       "    <tr>\n",
       "      <th>3</th>\n",
       "      <td>Ghevar</td>\n",
       "      <td>Flour, ghee, kewra, milk, clarified butter, su...</td>\n",
       "      <td>vegetarian</td>\n",
       "      <td>15</td>\n",
       "      <td>30</td>\n",
       "      <td>sweet</td>\n",
       "      <td>dessert</td>\n",
       "      <td>Rajasthan</td>\n",
       "      <td>West</td>\n",
       "      <td>45</td>\n",
       "    </tr>\n",
       "    <tr>\n",
       "      <th>4</th>\n",
       "      <td>Gulab jamun</td>\n",
       "      <td>Milk powder, plain flour, baking powder, ghee,...</td>\n",
       "      <td>vegetarian</td>\n",
       "      <td>15</td>\n",
       "      <td>40</td>\n",
       "      <td>sweet</td>\n",
       "      <td>dessert</td>\n",
       "      <td>West Bengal</td>\n",
       "      <td>East</td>\n",
       "      <td>55</td>\n",
       "    </tr>\n",
       "  </tbody>\n",
       "</table>\n",
       "</div>"
      ],
      "text/plain": [
       "             name                                        ingredients  \\\n",
       "0      Balu shahi                    Maida flour, yogurt, oil, sugar   \n",
       "1          Boondi                            Gram flour, ghee, sugar   \n",
       "2  Gajar ka halwa       Carrots, milk, sugar, ghee, cashews, raisins   \n",
       "3          Ghevar  Flour, ghee, kewra, milk, clarified butter, su...   \n",
       "4     Gulab jamun  Milk powder, plain flour, baking powder, ghee,...   \n",
       "\n",
       "         diet  prep_time  cook_time flavor_profile   course        state  \\\n",
       "0  vegetarian         45         25          sweet  dessert  West Bengal   \n",
       "1  vegetarian         80         30          sweet  dessert    Rajasthan   \n",
       "2  vegetarian         15         60          sweet  dessert       Punjab   \n",
       "3  vegetarian         15         30          sweet  dessert    Rajasthan   \n",
       "4  vegetarian         15         40          sweet  dessert  West Bengal   \n",
       "\n",
       "  region  Total time  \n",
       "0   East          70  \n",
       "1   West         110  \n",
       "2  North          75  \n",
       "3   West          45  \n",
       "4   East          55  "
      ]
     },
     "execution_count": 8,
     "metadata": {},
     "output_type": "execute_result"
    }
   ],
   "source": [
    "food_data.head()"
   ]
  },
  {
   "cell_type": "code",
   "execution_count": 9,
   "id": "c1dbc67b",
   "metadata": {
    "execution": {
     "iopub.execute_input": "2021-09-10T16:01:49.244173Z",
     "iopub.status.busy": "2021-09-10T16:01:49.229540Z",
     "iopub.status.idle": "2021-09-10T16:01:49.652954Z",
     "shell.execute_reply": "2021-09-10T16:01:49.652247Z",
     "shell.execute_reply.started": "2021-09-10T15:30:07.037224Z"
    },
    "papermill": {
     "duration": 0.457531,
     "end_time": "2021-09-10T16:01:49.653100",
     "exception": false,
     "start_time": "2021-09-10T16:01:49.195569",
     "status": "completed"
    },
    "tags": []
   },
   "outputs": [
    {
     "data": {
      "text/plain": [
       "<AxesSubplot:xlabel='diet', ylabel='count'>"
      ]
     },
     "execution_count": 9,
     "metadata": {},
     "output_type": "execute_result"
    },
    {
     "data": {
      "image/png": "[encoded data removed]",
      "text/plain": [
       "<Figure size 2520x1080 with 1 Axes>"
      ]
     },
     "metadata": {
      "needs_background": "light"
     },
     "output_type": "display_data"
    }
   ],
   "source": [
    "plt.figure(figsize=(35,15))\n",
    "sns.countplot(x = 'diet',data = food_data[food_data.region!='-1'], hue = 'region')"
   ]
  },
  {
   "cell_type": "code",
   "execution_count": 10,
   "id": "00aa4646",
   "metadata": {
    "execution": {
     "iopub.execute_input": "2021-09-10T16:01:49.747897Z",
     "iopub.status.busy": "2021-09-10T16:01:49.735213Z",
     "iopub.status.idle": "2021-09-10T16:01:50.498813Z",
     "shell.execute_reply": "2021-09-10T16:01:50.498266Z",
     "shell.execute_reply.started": "2021-09-10T15:43:49.042918Z"
    },
    "papermill": {
     "duration": 0.820461,
     "end_time": "2021-09-10T16:01:50.498969",
     "exception": false,
     "start_time": "2021-09-10T16:01:49.678508",
     "status": "completed"
    },
    "tags": []
   },
   "outputs": [
    {
     "data": {
      "text/plain": [
       "<AxesSubplot:xlabel='Total time', ylabel='Count'>"
      ]
     },
     "execution_count": 10,
     "metadata": {},
     "output_type": "execute_result"
    },
    {
     "data": {
      "image/png": "[encoded data removed]",
      "text/plain": [
       "<Figure size 2520x720 with 1 Axes>"
      ]
     },
     "metadata": {
      "needs_background": "light"
     },
     "output_type": "display_data"
    }
   ],
   "source": [
    "plt.figure(figsize=(35,10))\n",
    "sns.histplot(x = 'Total time', data = food_data[food_data['region'] != '-1'],hue = 'diet')"
   ]
  },
  {
   "cell_type": "markdown",
   "id": "55477e48",
   "metadata": {
    "papermill": {
     "duration": 0.026862,
     "end_time": "2021-09-10T16:01:50.552956",
     "exception": false,
     "start_time": "2021-09-10T16:01:50.526094",
     "status": "completed"
    },
    "tags": []
   },
   "source": []
  },
  {
   "cell_type": "code",
   "execution_count": 11,
   "id": "d06f3ef8",
   "metadata": {
    "execution": {
     "iopub.execute_input": "2021-09-10T16:01:50.637646Z",
     "iopub.status.busy": "2021-09-10T16:01:50.634783Z",
     "iopub.status.idle": "2021-09-10T16:01:52.006580Z",
     "shell.execute_reply": "2021-09-10T16:01:52.005738Z",
     "shell.execute_reply.started": "2021-09-10T15:47:30.664513Z"
    },
    "papermill": {
     "duration": 1.426863,
     "end_time": "2021-09-10T16:01:52.006747",
     "exception": false,
     "start_time": "2021-09-10T16:01:50.579884",
     "status": "completed"
    },
    "tags": []
   },
   "outputs": [
    {
     "data": {
      "text/plain": [
       "<AxesSubplot:xlabel='Total time', ylabel='Count'>"
      ]
     },
     "execution_count": 11,
     "metadata": {},
     "output_type": "execute_result"
    },
    {
     "data": {
      "image/png": "[encoded data removed]",
      "text/plain": [
       "<Figure size 2520x720 with 1 Axes>"
      ]
     },
     "metadata": {
      "needs_background": "light"
     },
     "output_type": "display_data"
    }
   ],
   "source": [
    "plt.figure(figsize=(35,10))\n",
    "sns.histplot(x = 'Total time', data = food_data[food_data['flavor_profile'] != '-1'],hue = 'flavor_profile',kde = True,binwidth=10)"
   ]
  },
  {
   "cell_type": "code",
   "execution_count": 12,
   "id": "2114d828",
   "metadata": {
    "execution": {
     "iopub.execute_input": "2021-09-10T16:01:52.100173Z",
     "iopub.status.busy": "2021-09-10T16:01:52.094324Z",
     "iopub.status.idle": "2021-09-10T16:01:52.324721Z",
     "shell.execute_reply": "2021-09-10T16:01:52.325223Z",
     "shell.execute_reply.started": "2021-09-10T15:55:42.943476Z"
    },
    "papermill": {
     "duration": 0.289083,
     "end_time": "2021-09-10T16:01:52.325390",
     "exception": false,
     "start_time": "2021-09-10T16:01:52.036307",
     "status": "completed"
    },
    "tags": []
   },
   "outputs": [
    {
     "name": "stderr",
     "output_type": "stream",
     "text": [
      "/opt/conda/lib/python3.7/site-packages/seaborn/distributions.py:316: UserWarning: Dataset has 0 variance; skipping density estimate. Pass `warn_singular=False` to disable this warning.\n",
      "  warnings.warn(msg, UserWarning)\n"
     ]
    },
    {
     "data": {
      "text/plain": [
       "<AxesSubplot:xlabel='Total time', ylabel='Density'>"
      ]
     },
     "execution_count": 12,
     "metadata": {},
     "output_type": "execute_result"
    },
    {
     "data": {
      "image/png": "[encoded data removed]",
      "text/plain": [
       "<Figure size 432x288 with 1 Axes>"
      ]
     },
     "metadata": {
      "needs_background": "light"
     },
     "output_type": "display_data"
    }
   ],
   "source": [
    "sns.kdeplot(x = 'Total time', data = food_data[food_data['flavor_profile'] != '-1'],hue = 'flavor_profile')"
   ]
  },
  {
   "cell_type": "code",
   "execution_count": 13,
   "id": "6cac0ab5",
   "metadata": {
    "execution": {
     "iopub.execute_input": "2021-09-10T16:01:52.416056Z",
     "iopub.status.busy": "2021-09-10T16:01:52.393262Z",
     "iopub.status.idle": "2021-09-10T16:01:52.420159Z",
     "shell.execute_reply": "2021-09-10T16:01:52.420585Z",
     "shell.execute_reply.started": "2021-09-10T15:53:08.844200Z"
    },
    "papermill": {
     "duration": 0.064682,
     "end_time": "2021-09-10T16:01:52.420776",
     "exception": false,
     "start_time": "2021-09-10T16:01:52.356094",
     "status": "completed"
    },
    "tags": []
   },
   "outputs": [
    {
     "data": {
      "text/html": [
       "<div>\n",
       "<style scoped>\n",
       "    .dataframe tbody tr th:only-of-type {\n",
       "        vertical-align: middle;\n",
       "    }\n",
       "\n",
       "    .dataframe tbody tr th {\n",
       "        vertical-align: top;\n",
       "    }\n",
       "\n",
       "    .dataframe thead tr th {\n",
       "        text-align: left;\n",
       "    }\n",
       "\n",
       "    .dataframe thead tr:last-of-type th {\n",
       "        text-align: right;\n",
       "    }\n",
       "</style>\n",
       "<table border=\"1\" class=\"dataframe\">\n",
       "  <thead>\n",
       "    <tr>\n",
       "      <th></th>\n",
       "      <th colspan=\"2\" halign=\"left\">prep_time</th>\n",
       "      <th colspan=\"2\" halign=\"left\">cook_time</th>\n",
       "      <th colspan=\"2\" halign=\"left\">Total time</th>\n",
       "    </tr>\n",
       "    <tr>\n",
       "      <th></th>\n",
       "      <th>mean</th>\n",
       "      <th>median</th>\n",
       "      <th>mean</th>\n",
       "      <th>median</th>\n",
       "      <th>mean</th>\n",
       "      <th>median</th>\n",
       "    </tr>\n",
       "    <tr>\n",
       "      <th>flavor_profile</th>\n",
       "      <th></th>\n",
       "      <th></th>\n",
       "      <th></th>\n",
       "      <th></th>\n",
       "      <th></th>\n",
       "      <th></th>\n",
       "    </tr>\n",
       "  </thead>\n",
       "  <tbody>\n",
       "    <tr>\n",
       "      <th>bitter</th>\n",
       "      <td>15.000000</td>\n",
       "      <td>15.0</td>\n",
       "      <td>37.500000</td>\n",
       "      <td>35.0</td>\n",
       "      <td>52.500000</td>\n",
       "      <td>47.5</td>\n",
       "    </tr>\n",
       "    <tr>\n",
       "      <th>sour</th>\n",
       "      <td>10.000000</td>\n",
       "      <td>10.0</td>\n",
       "      <td>10.000000</td>\n",
       "      <td>10.0</td>\n",
       "      <td>20.000000</td>\n",
       "      <td>20.0</td>\n",
       "    </tr>\n",
       "    <tr>\n",
       "      <th>spicy</th>\n",
       "      <td>32.428571</td>\n",
       "      <td>10.0</td>\n",
       "      <td>30.872180</td>\n",
       "      <td>30.0</td>\n",
       "      <td>63.300752</td>\n",
       "      <td>50.0</td>\n",
       "    </tr>\n",
       "    <tr>\n",
       "      <th>sweet</th>\n",
       "      <td>28.397727</td>\n",
       "      <td>10.0</td>\n",
       "      <td>44.136364</td>\n",
       "      <td>30.0</td>\n",
       "      <td>72.534091</td>\n",
       "      <td>50.0</td>\n",
       "    </tr>\n",
       "  </tbody>\n",
       "</table>\n",
       "</div>"
      ],
      "text/plain": [
       "                prep_time         cook_time        Total time       \n",
       "                     mean median       mean median       mean median\n",
       "flavor_profile                                                      \n",
       "bitter          15.000000   15.0  37.500000   35.0  52.500000   47.5\n",
       "sour            10.000000   10.0  10.000000   10.0  20.000000   20.0\n",
       "spicy           32.428571   10.0  30.872180   30.0  63.300752   50.0\n",
       "sweet           28.397727   10.0  44.136364   30.0  72.534091   50.0"
      ]
     },
     "execution_count": 13,
     "metadata": {},
     "output_type": "execute_result"
    }
   ],
   "source": [
    "food_data[food_data.flavor_profile!='-1'].groupby('flavor_profile').agg(['mean',np.median])"
   ]
  },
  {
   "cell_type": "code",
   "execution_count": 14,
   "id": "433b0eb4",
   "metadata": {
    "execution": {
     "iopub.execute_input": "2021-09-10T16:01:52.488832Z",
     "iopub.status.busy": "2021-09-10T16:01:52.488141Z",
     "iopub.status.idle": "2021-09-10T16:01:52.490593Z",
     "shell.execute_reply": "2021-09-10T16:01:52.491042Z",
     "shell.execute_reply.started": "2021-09-10T16:00:04.215399Z"
    },
    "papermill": {
     "duration": 0.038645,
     "end_time": "2021-09-10T16:01:52.491219",
     "exception": false,
     "start_time": "2021-09-10T16:01:52.452574",
     "status": "completed"
    },
    "tags": []
   },
   "outputs": [],
   "source": [
    "#above visualization proves that bitter, spicy and sweet dishes mostly have almost similar preparation time\n",
    "#with some sweet and spicy dishes can take very long to prepare"
   ]
  },
  {
   "cell_type": "code",
   "execution_count": 15,
   "id": "a67b2620",
   "metadata": {
    "execution": {
     "iopub.execute_input": "2021-09-10T16:01:52.556220Z",
     "iopub.status.busy": "2021-09-10T16:01:52.555596Z",
     "iopub.status.idle": "2021-09-10T16:01:52.558501Z",
     "shell.execute_reply": "2021-09-10T16:01:52.559105Z",
     "shell.execute_reply.started": "2021-09-10T15:13:52.330840Z"
    },
    "papermill": {
     "duration": 0.03707,
     "end_time": "2021-09-10T16:01:52.559262",
     "exception": false,
     "start_time": "2021-09-10T16:01:52.522192",
     "status": "completed"
    },
    "tags": []
   },
   "outputs": [],
   "source": [
    "#let's analyze north india "
   ]
  },
  {
   "cell_type": "code",
   "execution_count": 16,
   "id": "4f004813",
   "metadata": {
    "execution": {
     "iopub.execute_input": "2021-09-10T16:01:52.627969Z",
     "iopub.status.busy": "2021-09-10T16:01:52.627218Z",
     "iopub.status.idle": "2021-09-10T16:01:52.629255Z",
     "shell.execute_reply": "2021-09-10T16:01:52.629780Z",
     "shell.execute_reply.started": "2021-09-10T15:13:52.339178Z"
    },
    "papermill": {
     "duration": 0.039499,
     "end_time": "2021-09-10T16:01:52.629955",
     "exception": false,
     "start_time": "2021-09-10T16:01:52.590456",
     "status": "completed"
    },
    "tags": []
   },
   "outputs": [],
   "source": [
    "north_food = food_data[food_data['region']=='North'].copy()  #deep copying so as to safeguard original data"
   ]
  },
  {
   "cell_type": "code",
   "execution_count": 17,
   "id": "cbcc50ca",
   "metadata": {
    "execution": {
     "iopub.execute_input": "2021-09-10T16:01:52.706038Z",
     "iopub.status.busy": "2021-09-10T16:01:52.705400Z",
     "iopub.status.idle": "2021-09-10T16:01:52.709145Z",
     "shell.execute_reply": "2021-09-10T16:01:52.708663Z",
     "shell.execute_reply.started": "2021-09-10T15:13:52.354067Z"
    },
    "papermill": {
     "duration": 0.047922,
     "end_time": "2021-09-10T16:01:52.709279",
     "exception": false,
     "start_time": "2021-09-10T16:01:52.661357",
     "status": "completed"
    },
    "tags": []
   },
   "outputs": [
    {
     "data": {
      "text/html": [
       "<div>\n",
       "<style scoped>\n",
       "    .dataframe tbody tr th:only-of-type {\n",
       "        vertical-align: middle;\n",
       "    }\n",
       "\n",
       "    .dataframe tbody tr th {\n",
       "        vertical-align: top;\n",
       "    }\n",
       "\n",
       "    .dataframe thead th {\n",
       "        text-align: right;\n",
       "    }\n",
       "</style>\n",
       "<table border=\"1\" class=\"dataframe\">\n",
       "  <thead>\n",
       "    <tr style=\"text-align: right;\">\n",
       "      <th></th>\n",
       "      <th>name</th>\n",
       "      <th>ingredients</th>\n",
       "      <th>diet</th>\n",
       "      <th>prep_time</th>\n",
       "      <th>cook_time</th>\n",
       "      <th>flavor_profile</th>\n",
       "      <th>course</th>\n",
       "      <th>state</th>\n",
       "      <th>region</th>\n",
       "      <th>Total time</th>\n",
       "    </tr>\n",
       "  </thead>\n",
       "  <tbody>\n",
       "    <tr>\n",
       "      <th>2</th>\n",
       "      <td>Gajar ka halwa</td>\n",
       "      <td>Carrots, milk, sugar, ghee, cashews, raisins</td>\n",
       "      <td>vegetarian</td>\n",
       "      <td>15</td>\n",
       "      <td>60</td>\n",
       "      <td>sweet</td>\n",
       "      <td>dessert</td>\n",
       "      <td>Punjab</td>\n",
       "      <td>North</td>\n",
       "      <td>75</td>\n",
       "    </tr>\n",
       "    <tr>\n",
       "      <th>6</th>\n",
       "      <td>Jalebi</td>\n",
       "      <td>Maida, corn flour, baking soda, vinegar, curd, water, turmeric, saffron, cardamom</td>\n",
       "      <td>vegetarian</td>\n",
       "      <td>10</td>\n",
       "      <td>50</td>\n",
       "      <td>sweet</td>\n",
       "      <td>dessert</td>\n",
       "      <td>Uttar Pradesh</td>\n",
       "      <td>North</td>\n",
       "      <td>60</td>\n",
       "    </tr>\n",
       "    <tr>\n",
       "      <th>11</th>\n",
       "      <td>Lassi</td>\n",
       "      <td>Yogurt, milk, nuts, sugar</td>\n",
       "      <td>vegetarian</td>\n",
       "      <td>5</td>\n",
       "      <td>5</td>\n",
       "      <td>sweet</td>\n",
       "      <td>dessert</td>\n",
       "      <td>Punjab</td>\n",
       "      <td>North</td>\n",
       "      <td>10</td>\n",
       "    </tr>\n",
       "    <tr>\n",
       "      <th>13</th>\n",
       "      <td>Petha</td>\n",
       "      <td>Firm white pumpkin, sugar, kitchen lime, alum powder</td>\n",
       "      <td>vegetarian</td>\n",
       "      <td>10</td>\n",
       "      <td>30</td>\n",
       "      <td>sweet</td>\n",
       "      <td>dessert</td>\n",
       "      <td>Uttar Pradesh</td>\n",
       "      <td>North</td>\n",
       "      <td>40</td>\n",
       "    </tr>\n",
       "    <tr>\n",
       "      <th>15</th>\n",
       "      <td>Rabri</td>\n",
       "      <td>Condensed milk, sugar, spices, nuts</td>\n",
       "      <td>vegetarian</td>\n",
       "      <td>10</td>\n",
       "      <td>45</td>\n",
       "      <td>sweet</td>\n",
       "      <td>dessert</td>\n",
       "      <td>Uttar Pradesh</td>\n",
       "      <td>North</td>\n",
       "      <td>55</td>\n",
       "    </tr>\n",
       "  </tbody>\n",
       "</table>\n",
       "</div>"
      ],
      "text/plain": [
       "              name  \\\n",
       "2   Gajar ka halwa   \n",
       "6           Jalebi   \n",
       "11           Lassi   \n",
       "13           Petha   \n",
       "15           Rabri   \n",
       "\n",
       "                                                                          ingredients  \\\n",
       "2                                        Carrots, milk, sugar, ghee, cashews, raisins   \n",
       "6   Maida, corn flour, baking soda, vinegar, curd, water, turmeric, saffron, cardamom   \n",
       "11                                                          Yogurt, milk, nuts, sugar   \n",
       "13                               Firm white pumpkin, sugar, kitchen lime, alum powder   \n",
       "15                                                Condensed milk, sugar, spices, nuts   \n",
       "\n",
       "          diet  prep_time  cook_time flavor_profile   course          state  \\\n",
       "2   vegetarian         15         60          sweet  dessert         Punjab   \n",
       "6   vegetarian         10         50          sweet  dessert  Uttar Pradesh   \n",
       "11  vegetarian          5          5          sweet  dessert         Punjab   \n",
       "13  vegetarian         10         30          sweet  dessert  Uttar Pradesh   \n",
       "15  vegetarian         10         45          sweet  dessert  Uttar Pradesh   \n",
       "\n",
       "   region  Total time  \n",
       "2   North          75  \n",
       "6   North          60  \n",
       "11  North          10  \n",
       "13  North          40  \n",
       "15  North          55  "
      ]
     },
     "execution_count": 17,
     "metadata": {},
     "output_type": "execute_result"
    }
   ],
   "source": [
    "pd.set_option('max_colwidth', 400)\n",
    "north_food.head()"
   ]
  },
  {
   "cell_type": "code",
   "execution_count": 18,
   "id": "5c8f50da",
   "metadata": {
    "execution": {
     "iopub.execute_input": "2021-09-10T16:01:52.777419Z",
     "iopub.status.busy": "2021-09-10T16:01:52.776440Z",
     "iopub.status.idle": "2021-09-10T16:01:52.779056Z",
     "shell.execute_reply": "2021-09-10T16:01:52.778441Z",
     "shell.execute_reply.started": "2021-09-10T15:13:52.382670Z"
    },
    "papermill": {
     "duration": 0.038161,
     "end_time": "2021-09-10T16:01:52.779190",
     "exception": false,
     "start_time": "2021-09-10T16:01:52.741029",
     "status": "completed"
    },
    "tags": []
   },
   "outputs": [],
   "source": [
    "#actually nothing to analyze in the dataset"
   ]
  },
  {
   "cell_type": "code",
   "execution_count": 19,
   "id": "aea3e29b",
   "metadata": {
    "execution": {
     "iopub.execute_input": "2021-09-10T16:01:52.848686Z",
     "iopub.status.busy": "2021-09-10T16:01:52.848035Z",
     "iopub.status.idle": "2021-09-10T16:01:52.850314Z",
     "shell.execute_reply": "2021-09-10T16:01:52.850793Z",
     "shell.execute_reply.started": "2021-09-10T15:13:52.388902Z"
    },
    "papermill": {
     "duration": 0.040259,
     "end_time": "2021-09-10T16:01:52.850951",
     "exception": false,
     "start_time": "2021-09-10T16:01:52.810692",
     "status": "completed"
    },
    "tags": []
   },
   "outputs": [],
   "source": [
    "#dish_to_find = input(\"Please enter the dish you want to look at the details:\")"
   ]
  },
  {
   "cell_type": "code",
   "execution_count": 20,
   "id": "830ce05c",
   "metadata": {
    "execution": {
     "iopub.execute_input": "2021-09-10T16:01:52.917573Z",
     "iopub.status.busy": "2021-09-10T16:01:52.916976Z",
     "iopub.status.idle": "2021-09-10T16:01:52.919258Z",
     "shell.execute_reply": "2021-09-10T16:01:52.919697Z",
     "shell.execute_reply.started": "2021-09-10T15:13:52.412561Z"
    },
    "papermill": {
     "duration": 0.037522,
     "end_time": "2021-09-10T16:01:52.919847",
     "exception": false,
     "start_time": "2021-09-10T16:01:52.882325",
     "status": "completed"
    },
    "tags": []
   },
   "outputs": [],
   "source": [
    "#for dishes in food_data.name:\n",
    "    #if dish_to_find.lower() in dishes.lower():\n",
    "        #print(food_data[food_data.name == dishes])"
   ]
  },
  {
   "cell_type": "code",
   "execution_count": 21,
   "id": "48c2f693",
   "metadata": {
    "execution": {
     "iopub.execute_input": "2021-09-10T16:01:52.997887Z",
     "iopub.status.busy": "2021-09-10T16:01:52.996926Z",
     "iopub.status.idle": "2021-09-10T16:01:53.000221Z",
     "shell.execute_reply": "2021-09-10T16:01:53.000711Z",
     "shell.execute_reply.started": "2021-09-10T15:16:19.909725Z"
    },
    "papermill": {
     "duration": 0.049723,
     "end_time": "2021-09-10T16:01:53.000871",
     "exception": false,
     "start_time": "2021-09-10T16:01:52.951148",
     "status": "completed"
    },
    "tags": []
   },
   "outputs": [
    {
     "data": {
      "text/html": [
       "<div>\n",
       "<style scoped>\n",
       "    .dataframe tbody tr th:only-of-type {\n",
       "        vertical-align: middle;\n",
       "    }\n",
       "\n",
       "    .dataframe tbody tr th {\n",
       "        vertical-align: top;\n",
       "    }\n",
       "\n",
       "    .dataframe thead th {\n",
       "        text-align: right;\n",
       "    }\n",
       "</style>\n",
       "<table border=\"1\" class=\"dataframe\">\n",
       "  <thead>\n",
       "    <tr style=\"text-align: right;\">\n",
       "      <th></th>\n",
       "      <th>name</th>\n",
       "      <th>ingredients</th>\n",
       "      <th>diet</th>\n",
       "      <th>prep_time</th>\n",
       "      <th>cook_time</th>\n",
       "      <th>flavor_profile</th>\n",
       "      <th>course</th>\n",
       "      <th>state</th>\n",
       "      <th>region</th>\n",
       "      <th>Total time</th>\n",
       "    </tr>\n",
       "  </thead>\n",
       "  <tbody>\n",
       "    <tr>\n",
       "      <th>11</th>\n",
       "      <td>Lassi</td>\n",
       "      <td>Yogurt, milk, nuts, sugar</td>\n",
       "      <td>vegetarian</td>\n",
       "      <td>5</td>\n",
       "      <td>5</td>\n",
       "      <td>sweet</td>\n",
       "      <td>dessert</td>\n",
       "      <td>Punjab</td>\n",
       "      <td>North</td>\n",
       "      <td>10</td>\n",
       "    </tr>\n",
       "    <tr>\n",
       "      <th>69</th>\n",
       "      <td>Aloo tikki</td>\n",
       "      <td>Rice flour, potato, bread crumbs, garam masala, salt</td>\n",
       "      <td>vegetarian</td>\n",
       "      <td>5</td>\n",
       "      <td>20</td>\n",
       "      <td>spicy</td>\n",
       "      <td>main course</td>\n",
       "      <td>Punjab</td>\n",
       "      <td>North</td>\n",
       "      <td>25</td>\n",
       "    </tr>\n",
       "    <tr>\n",
       "      <th>17</th>\n",
       "      <td>Singori</td>\n",
       "      <td>Khoa, coconut, molu leaf</td>\n",
       "      <td>vegetarian</td>\n",
       "      <td>10</td>\n",
       "      <td>20</td>\n",
       "      <td>sweet</td>\n",
       "      <td>dessert</td>\n",
       "      <td>Uttarakhand</td>\n",
       "      <td>North</td>\n",
       "      <td>30</td>\n",
       "    </tr>\n",
       "    <tr>\n",
       "      <th>68</th>\n",
       "      <td>Aloo gobi</td>\n",
       "      <td>Cauliflower, potato, garam masala, turmeric, curry leaves</td>\n",
       "      <td>vegetarian</td>\n",
       "      <td>10</td>\n",
       "      <td>20</td>\n",
       "      <td>spicy</td>\n",
       "      <td>main course</td>\n",
       "      <td>Punjab</td>\n",
       "      <td>North</td>\n",
       "      <td>30</td>\n",
       "    </tr>\n",
       "    <tr>\n",
       "      <th>118</th>\n",
       "      <td>Sattu ki roti</td>\n",
       "      <td>Sattu, atta, dough, filling, mustard oil</td>\n",
       "      <td>vegetarian</td>\n",
       "      <td>10</td>\n",
       "      <td>20</td>\n",
       "      <td>spicy</td>\n",
       "      <td>main course</td>\n",
       "      <td>Bihar</td>\n",
       "      <td>North</td>\n",
       "      <td>30</td>\n",
       "    </tr>\n",
       "  </tbody>\n",
       "</table>\n",
       "</div>"
      ],
      "text/plain": [
       "              name                                                ingredients  \\\n",
       "11           Lassi                                  Yogurt, milk, nuts, sugar   \n",
       "69      Aloo tikki       Rice flour, potato, bread crumbs, garam masala, salt   \n",
       "17         Singori                                   Khoa, coconut, molu leaf   \n",
       "68       Aloo gobi  Cauliflower, potato, garam masala, turmeric, curry leaves   \n",
       "118  Sattu ki roti                   Sattu, atta, dough, filling, mustard oil   \n",
       "\n",
       "           diet  prep_time  cook_time flavor_profile       course  \\\n",
       "11   vegetarian          5          5          sweet      dessert   \n",
       "69   vegetarian          5         20          spicy  main course   \n",
       "17   vegetarian         10         20          sweet      dessert   \n",
       "68   vegetarian         10         20          spicy  main course   \n",
       "118  vegetarian         10         20          spicy  main course   \n",
       "\n",
       "           state region  Total time  \n",
       "11        Punjab  North          10  \n",
       "69        Punjab  North          25  \n",
       "17   Uttarakhand  North          30  \n",
       "68        Punjab  North          30  \n",
       "118        Bihar  North          30  "
      ]
     },
     "execution_count": 21,
     "metadata": {},
     "output_type": "execute_result"
    }
   ],
   "source": [
    "north_food[north_food['Total time']>0].sort_values('Total time').head(5) #top -5 fastest cooking dishes in north"
   ]
  },
  {
   "cell_type": "code",
   "execution_count": 22,
   "id": "d1761f24",
   "metadata": {
    "execution": {
     "iopub.execute_input": "2021-09-10T16:01:53.106238Z",
     "iopub.status.busy": "2021-09-10T16:01:53.105405Z",
     "iopub.status.idle": "2021-09-10T16:01:53.627578Z",
     "shell.execute_reply": "2021-09-10T16:01:53.627076Z",
     "shell.execute_reply.started": "2021-09-10T15:37:15.962627Z"
    },
    "papermill": {
     "duration": 0.594314,
     "end_time": "2021-09-10T16:01:53.627737",
     "exception": false,
     "start_time": "2021-09-10T16:01:53.033423",
     "status": "completed"
    },
    "tags": []
   },
   "outputs": [
    {
     "data": {
      "text/plain": [
       "<AxesSubplot:xlabel='Total time', ylabel='Count'>"
      ]
     },
     "execution_count": 22,
     "metadata": {},
     "output_type": "execute_result"
    },
    {
     "data": {
      "image/png": "[encoded data removed]",
      "text/plain": [
       "<Figure size 2520x720 with 1 Axes>"
      ]
     },
     "metadata": {
      "needs_background": "light"
     },
     "output_type": "display_data"
    }
   ],
   "source": [
    "plt.figure(figsize=(35,10))\n",
    "sns.histplot(x = 'Total time', data = food_data[food_data['region'] == 'North'],hue = 'diet')"
   ]
  },
  {
   "cell_type": "code",
   "execution_count": 23,
   "id": "a29eeb41",
   "metadata": {
    "execution": {
     "iopub.execute_input": "2021-09-10T16:01:53.697781Z",
     "iopub.status.busy": "2021-09-10T16:01:53.697159Z",
     "iopub.status.idle": "2021-09-10T16:01:53.699552Z",
     "shell.execute_reply": "2021-09-10T16:01:53.700036Z",
     "shell.execute_reply.started": "2021-09-10T15:43:13.202333Z"
    },
    "papermill": {
     "duration": 0.039144,
     "end_time": "2021-09-10T16:01:53.700187",
     "exception": false,
     "start_time": "2021-09-10T16:01:53.661043",
     "status": "completed"
    },
    "tags": []
   },
   "outputs": [],
   "source": [
    "#in north india, mostly veg dishes are prepared within 100min(<2hr)"
   ]
  },
  {
   "cell_type": "code",
   "execution_count": 24,
   "id": "167a3a51",
   "metadata": {
    "execution": {
     "iopub.execute_input": "2021-09-10T16:01:53.782146Z",
     "iopub.status.busy": "2021-09-10T16:01:53.775768Z",
     "iopub.status.idle": "2021-09-10T16:01:54.022537Z",
     "shell.execute_reply": "2021-09-10T16:01:54.023030Z",
     "shell.execute_reply.started": "2021-09-10T15:58:01.632408Z"
    },
    "papermill": {
     "duration": 0.290362,
     "end_time": "2021-09-10T16:01:54.023209",
     "exception": false,
     "start_time": "2021-09-10T16:01:53.732847",
     "status": "completed"
    },
    "tags": []
   },
   "outputs": [
    {
     "data": {
      "text/plain": [
       "<AxesSubplot:xlabel='Total time', ylabel='Density'>"
      ]
     },
     "execution_count": 24,
     "metadata": {},
     "output_type": "execute_result"
    },
    {
     "data": {
      "image/png": "[encoded data removed]",
      "text/plain": [
       "<Figure size 432x288 with 1 Axes>"
      ]
     },
     "metadata": {
      "needs_background": "light"
     },
     "output_type": "display_data"
    }
   ],
   "source": [
    "sns.kdeplot(x = 'Total time', data = north_food[north_food.flavor_profile!='-1'],hue = 'flavor_profile',shade=True)"
   ]
  },
  {
   "cell_type": "code",
   "execution_count": 25,
   "id": "ac5bd553",
   "metadata": {
    "execution": {
     "iopub.execute_input": "2021-09-10T16:01:54.095892Z",
     "iopub.status.busy": "2021-09-10T16:01:54.095256Z",
     "iopub.status.idle": "2021-09-10T16:01:54.097920Z",
     "shell.execute_reply": "2021-09-10T16:01:54.097379Z",
     "shell.execute_reply.started": "2021-09-10T15:59:11.120941Z"
    },
    "papermill": {
     "duration": 0.040911,
     "end_time": "2021-09-10T16:01:54.098052",
     "exception": false,
     "start_time": "2021-09-10T16:01:54.057141",
     "status": "completed"
    },
    "tags": []
   },
   "outputs": [],
   "source": [
    "#In north india, the preparation time for sweet, spicy and bitter dishes is mostly same, with some spicy dishes can take very long\n",
    "#time to prepare"
   ]
  },
  {
   "cell_type": "code",
   "execution_count": null,
   "id": "19ff1e2a",
   "metadata": {
    "papermill": {
     "duration": 0.033908,
     "end_time": "2021-09-10T16:01:54.166083",
     "exception": false,
     "start_time": "2021-09-10T16:01:54.132175",
     "status": "completed"
    },
    "tags": []
   },
   "outputs": [],
   "source": []
  }
 ],
 "metadata": {
  "kernelspec": {
   "display_name": "Python 3",
   "language": "python",
   "name": "python3"
  },
  "language_info": {
   "codemirror_mode": {
    "name": "ipython",
    "version": 3
   },
   "file_extension": ".py",
   "mimetype": "text/x-python",
   "name": "python",
   "nbconvert_exporter": "python",
   "pygments_lexer": "ipython3",
   "version": "3.7.10"
  },
  "papermill": {
   "default_parameters": {},
   "duration": 15.803143,
   "end_time": "2021-09-10T16:01:55.616108",
   "environment_variables": {},
   "exception": null,
   "input_path": "__notebook__.ipynb",
   "output_path": "__notebook__.ipynb",
   "parameters": {},
   "start_time": "2021-09-10T16:01:39.812965",
   "version": "2.3.3"
  }
 },
 "nbformat": 4,
 "nbformat_minor": 5
}
